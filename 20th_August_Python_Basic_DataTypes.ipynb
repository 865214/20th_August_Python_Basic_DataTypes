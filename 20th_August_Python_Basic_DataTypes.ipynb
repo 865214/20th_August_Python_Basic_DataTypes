{
 "cells": [
  {
   "cell_type": "markdown",
   "id": "3fd0ae0f-d653-46e0-95c9-f669521e4d18",
   "metadata": {},
   "source": [
    "# String "
   ]
  },
  {
   "cell_type": "markdown",
   "id": "224b4bf0-7136-4e5a-89b6-7c8ca450aff7",
   "metadata": {},
   "source": [
    "1. Write a program to reverse a string."
   ]
  },
  {
   "cell_type": "code",
   "execution_count": 1,
   "id": "343eaa7f-8acd-4013-9feb-2aab9855bf93",
   "metadata": {},
   "outputs": [
    {
     "name": "stdin",
     "output_type": "stream",
     "text": [
      "Enter a word:  Python\n"
     ]
    }
   ],
   "source": [
    "user = input(\"Enter a word: \")"
   ]
  },
  {
   "cell_type": "code",
   "execution_count": 2,
   "id": "63eeb240-0b6d-4351-89ed-0150f24f1858",
   "metadata": {},
   "outputs": [],
   "source": [
    "reverse_user = user[::-1]"
   ]
  },
  {
   "cell_type": "code",
   "execution_count": 3,
   "id": "4f9aac34-6889-4359-b02b-b64ffeb98abe",
   "metadata": {},
   "outputs": [
    {
     "name": "stdout",
     "output_type": "stream",
     "text": [
      "nohtyP\n"
     ]
    }
   ],
   "source": [
    "print(reverse_user)"
   ]
  },
  {
   "cell_type": "markdown",
   "id": "dce627ec-c96a-4585-94d9-db6518ff72d9",
   "metadata": {},
   "source": [
    "1. We declare a varibale user so they can take input from the user \n",
    "2. By using slicing of string we are reversing a string\n",
    "3. After we are printing the reverse string "
   ]
  },
  {
   "cell_type": "markdown",
   "id": "aae08683-a580-489a-91f0-caf111afaa4f",
   "metadata": {},
   "source": [
    "2. Check if a string is a palindrome."
   ]
  },
  {
   "cell_type": "code",
   "execution_count": 4,
   "id": "8a24ae60-3dc9-456d-ac6e-e4a1f57ab52b",
   "metadata": {},
   "outputs": [
    {
     "name": "stdin",
     "output_type": "stream",
     "text": [
      "Enter a word:  rotator\n"
     ]
    }
   ],
   "source": [
    "a = input('Enter a word: ').lower()"
   ]
  },
  {
   "cell_type": "code",
   "execution_count": 5,
   "id": "3b6c7c57-b073-4993-b27c-c2634012a287",
   "metadata": {},
   "outputs": [
    {
     "name": "stdout",
     "output_type": "stream",
     "text": [
      "Its a palindrome\n"
     ]
    }
   ],
   "source": [
    "reverse_a = a[::-1]\n",
    "if a == reverse_a:\n",
    "    print('Its a palindrome')\n",
    "else:\n",
    "    print('Its not a palindrome')"
   ]
  },
  {
   "cell_type": "markdown",
   "id": "1647510c-9a76-41c2-87ec-27a49dd7fbb8",
   "metadata": {},
   "source": [
    "1. We are declaring variable a which takes the input from the user.\n",
    "2. After we are reversing a string using slicing \n",
    "3. We are using conditional statement if a == reverse_a then print the string is an palindrome otherwise it's not an palindrome."
   ]
  },
  {
   "cell_type": "markdown",
   "id": "694e0c3a-5135-4810-8ae4-fecc6fe4b752",
   "metadata": {},
   "source": [
    "3. Convert a string to uppercase."
   ]
  },
  {
   "cell_type": "code",
   "execution_count": 6,
   "id": "c863eea3-7a27-41ce-bd04-4a57dd99dabd",
   "metadata": {},
   "outputs": [
    {
     "name": "stdin",
     "output_type": "stream",
     "text": [
      "Enter a word:  python\n"
     ]
    }
   ],
   "source": [
    "a = input('Enter a word: ')"
   ]
  },
  {
   "cell_type": "code",
   "execution_count": 8,
   "id": "1cfae265-3eee-4930-a87b-bb6ecbf87aad",
   "metadata": {},
   "outputs": [
    {
     "name": "stdout",
     "output_type": "stream",
     "text": [
      "PYTHON\n"
     ]
    }
   ],
   "source": [
    "uppercase_a = a.upper()\n",
    "print(uppercase_a)"
   ]
  },
  {
   "cell_type": "markdown",
   "id": "51c656f3-541a-4249-8011-a7664d184fc2",
   "metadata": {},
   "source": [
    "1. We are declaring varible a which are taking the user input\n",
    "2. for converting string into the upper case we are using the function .upper() for converting all characters of an string into an upper case"
   ]
  },
  {
   "cell_type": "markdown",
   "id": "99641960-3544-4167-b1be-95d696806bbc",
   "metadata": {},
   "source": [
    "4. Convert a string to lowercase."
   ]
  },
  {
   "cell_type": "code",
   "execution_count": 9,
   "id": "1d48cb3f-49c1-457e-9d5a-861c9f5982b1",
   "metadata": {},
   "outputs": [
    {
     "name": "stdin",
     "output_type": "stream",
     "text": [
      "Enter a word:  Python\n"
     ]
    }
   ],
   "source": [
    "a = input('Enter a word: ')"
   ]
  },
  {
   "cell_type": "code",
   "execution_count": 10,
   "id": "164a67c4-a8a6-4a1e-87d9-a301bf5fd5c6",
   "metadata": {},
   "outputs": [
    {
     "name": "stdout",
     "output_type": "stream",
     "text": [
      "python\n"
     ]
    }
   ],
   "source": [
    "lowercase_a = a.lower()\n",
    "print(lowercase_a)"
   ]
  },
  {
   "cell_type": "markdown",
   "id": "9e520109-c5cf-403b-8dc0-ab57e3abbf9b",
   "metadata": {},
   "source": [
    "1. We are declaring varible a which are taking the user input\n",
    "2. for converting string into the lower case we are using the function .lower() for converting all characters of an string into an lower case"
   ]
  },
  {
   "cell_type": "markdown",
   "id": "5063d722-e7b4-4ec8-819c-c7f93b6818d1",
   "metadata": {},
   "source": [
    "5. Count the number of vowels in a string."
   ]
  },
  {
   "cell_type": "code",
   "execution_count": 13,
   "id": "c8c9009f-6809-43e9-90eb-eb7d0103c03d",
   "metadata": {},
   "outputs": [
    {
     "name": "stdin",
     "output_type": "stream",
     "text": [
      "Enter a sentence:  I am learning python\n"
     ]
    }
   ],
   "source": [
    "user = input('Enter a sentence: ').lower()"
   ]
  },
  {
   "cell_type": "code",
   "execution_count": 15,
   "id": "72c363ae-fa58-4c36-b4d6-aea3e5958cff",
   "metadata": {},
   "outputs": [
    {
     "name": "stdout",
     "output_type": "stream",
     "text": [
      " The number of vowels in a sentence in string is 5\n"
     ]
    }
   ],
   "source": [
    "vowels = 0\n",
    "for user in 'aeiou':\n",
    "    vowels += 1\n",
    "print(f' The number of vowels in a sentence in string is {vowels}')"
   ]
  },
  {
   "cell_type": "markdown",
   "id": "04d150bc-36a2-44e2-a0c5-7cc76879a1e4",
   "metadata": {},
   "source": [
    "1. We are declaring a varibale user in which they take the input from the user \n",
    "2. we are declaring another variables called vowels and set them as 0.\n",
    "3. for counting vowels we are using for loops what for loop is doing is that they are itering through all the characters in which the user type and then checking if vowels like 'aeiou' is present in that sentence or not if its present then it will add up by 1 and stored into the varibale called vowels."
   ]
  },
  {
   "cell_type": "markdown",
   "id": "a65a319b-5bd7-4fe5-be50-ac3c91230f90",
   "metadata": {},
   "source": [
    "6. Count the number of consonants in a string."
   ]
  },
  {
   "cell_type": "code",
   "execution_count": 16,
   "id": "8f1741bb-d22b-417b-9e14-5acd0132a59f",
   "metadata": {},
   "outputs": [
    {
     "name": "stdin",
     "output_type": "stream",
     "text": [
      "Enter a sentence:  I am learning python\n"
     ]
    }
   ],
   "source": [
    "user = input('Enter a sentence: ').lower()"
   ]
  },
  {
   "cell_type": "code",
   "execution_count": 30,
   "id": "8c2109f5-3636-44d9-bbad-f5906ec44358",
   "metadata": {},
   "outputs": [
    {
     "name": "stdout",
     "output_type": "stream",
     "text": [
      " The number of consonants in a sentence is 11\n"
     ]
    }
   ],
   "source": [
    "consonants = 0\n",
    "for users in user:\n",
    "    word = users.replace(' ', '')\n",
    "    if word not in 'aeiou':\n",
    "        consonants += 1\n",
    "    \n",
    "print(f' The number of consonants in a sentence is {consonants}')"
   ]
  },
  {
   "cell_type": "markdown",
   "id": "c2bf8db4-da24-4075-93f2-f81a16b1b324",
   "metadata": {},
   "source": [
    "1. We are declaring a varibale user in which they take the input from the user \n",
    "2. we are declaring another variables called  and consonants them as 0.\n",
    "3. for counting consonants we are using for loops what for loop is doing is that they are itering through all the characters in which the user type and then checking if chaaracters not in 'aeiou' is present in that sentence or not if its not present then it will add up by 1 and stored into the varibale called consonants."
   ]
  },
  {
   "cell_type": "markdown",
   "id": "5b38e80c-9a9b-4cd6-b0e2-b7538cb62cfe",
   "metadata": {},
   "source": [
    "7. Remove all whitespaces from a string."
   ]
  },
  {
   "cell_type": "code",
   "execution_count": 37,
   "id": "053fd3cf-f368-4868-9478-0affa62251eb",
   "metadata": {},
   "outputs": [],
   "source": [
    "user = ''' I am learning pyhton\\n using on a daily basis'''"
   ]
  },
  {
   "cell_type": "code",
   "execution_count": 40,
   "id": "488c0304-9671-4115-948c-ea40690e5373",
   "metadata": {},
   "outputs": [
    {
     "name": "stdout",
     "output_type": "stream",
     "text": [
      "Iamlearningpyhton\n",
      "usingonadailybasis\n"
     ]
    }
   ],
   "source": [
    "print(user.replace(' ', ''))"
   ]
  },
  {
   "cell_type": "markdown",
   "id": "b123ac83-6d83-473f-8c15-3ea898d1fb15",
   "metadata": {},
   "source": [
    "8. Find the length of a string without using the `len()` function."
   ]
  },
  {
   "cell_type": "code",
   "execution_count": 44,
   "id": "19911ed5-333a-4748-9af8-cd3e267d1159",
   "metadata": {},
   "outputs": [
    {
     "name": "stdin",
     "output_type": "stream",
     "text": [
      "Enter a sentence:  I am learning Python\n"
     ]
    }
   ],
   "source": [
    "user = input('Enter a sentence: ')"
   ]
  },
  {
   "cell_type": "code",
   "execution_count": 49,
   "id": "28493b1d-97b9-4bb5-b4b6-22afd0bce696",
   "metadata": {},
   "outputs": [
    {
     "name": "stdout",
     "output_type": "stream",
     "text": [
      "The length of string without using len() is 20\n",
      "The length of string using len() 20\n"
     ]
    }
   ],
   "source": [
    "len_string = 0\n",
    "for users in user:\n",
    "    len_string += 1\n",
    "print(f'The length of string without using len() is {len_string}')\n",
    "# with len function:\n",
    "with_len = len(user)\n",
    "print(f'The length of string using len() {with_len}')\n",
    "    "
   ]
  },
  {
   "cell_type": "markdown",
   "id": "9033e26e-8c68-4c74-afce-16ea58cdf1df",
   "metadata": {},
   "source": [
    "1. Declaring a varible called user which take the input from the user\n",
    "2. Then declaring another variable called len_string which is having a value of zero\n",
    "3. Now using for loop it will iterate through all character which is present inside the variable user in which user has type something.while iterating each character of an variable user it will add up +1 into the len_string variable.\n",
    "4. After completing for loop it will show length of an string which is present inside the user variable"
   ]
  },
  {
   "cell_type": "markdown",
   "id": "722b7d6c-0bb4-45ed-a5e9-50132050db63",
   "metadata": {},
   "source": [
    "9. Check if a string contains a specific word."
   ]
  },
  {
   "cell_type": "code",
   "execution_count": 1,
   "id": "9d3c1eed-f777-48e6-8bcd-7886746c21f0",
   "metadata": {},
   "outputs": [
    {
     "name": "stdin",
     "output_type": "stream",
     "text": [
      "Enter a sentence:  I am learning python\n"
     ]
    }
   ],
   "source": [
    "a = input('Enter a sentence: ').lower()"
   ]
  },
  {
   "cell_type": "code",
   "execution_count": 4,
   "id": "034c4850-e9ea-4a2f-b46f-3af9bc56310f",
   "metadata": {},
   "outputs": [
    {
     "name": "stdin",
     "output_type": "stream",
     "text": [
      "enter a specific word to check python\n"
     ]
    }
   ],
   "source": [
    "b = input('enter a specific word to check: ').lower()"
   ]
  },
  {
   "cell_type": "code",
   "execution_count": 5,
   "id": "0514069f-f270-40df-993c-a4717c254dc5",
   "metadata": {},
   "outputs": [
    {
     "name": "stdout",
     "output_type": "stream",
     "text": [
      "These word is present\n"
     ]
    }
   ],
   "source": [
    "if b in a:\n",
    "    print('These word is present')\n",
    "else:\n",
    "    print('These word is not present')"
   ]
  },
  {
   "cell_type": "markdown",
   "id": "b88c37cb-e3e5-495a-a44a-2eff9ea11f96",
   "metadata": {},
   "source": [
    "1. Decalaring a variable a which takes input from the user\n",
    "2. Declaring another varibale b which takes another input from the user \n",
    "3. We are applying conditional statements if the user type in varibale b is present in user type varibale a if that word is present then it will printed as these word is present otherwise these word is not present."
   ]
  },
  {
   "cell_type": "markdown",
   "id": "64883142-a393-4ba7-8dda-99c546d560f0",
   "metadata": {},
   "source": [
    "10. Replace a word in a string with another word."
   ]
  },
  {
   "cell_type": "code",
   "execution_count": 1,
   "id": "096ec257-d3d1-41fb-9484-e7df6d83a18f",
   "metadata": {},
   "outputs": [],
   "source": [
    "a = 'I am learning python'"
   ]
  },
  {
   "cell_type": "code",
   "execution_count": 2,
   "id": "7e19af34-2cd4-4a93-9996-31604bd4c6ad",
   "metadata": {},
   "outputs": [
    {
     "name": "stdout",
     "output_type": "stream",
     "text": [
      "I am learning java\n"
     ]
    }
   ],
   "source": [
    "replace_word = a.replace('python','java')\n",
    "print(replace_word)"
   ]
  },
  {
   "cell_type": "markdown",
   "id": "fa76ea0a-2f82-45b6-bfae-fc895cb337b6",
   "metadata": {},
   "source": [
    "1. Declaring a variable a and inside that variable define one string i.e. 'I am learning Python'\n",
    "2. Declaring another variable called replace_word in which by using the .replace function replacing one word from that string\n",
    "3. for replacing word taking just an example replacing python with jave with help of replace function it will replace word into another variable replace_word"
   ]
  },
  {
   "cell_type": "markdown",
   "id": "4548e785-6f96-44bb-a02c-b0ea5824e1e3",
   "metadata": {},
   "source": [
    "11. Count the occurrences of a word in a string."
   ]
  },
  {
   "cell_type": "code",
   "execution_count": 1,
   "id": "763a6711-1582-4194-b883-c6e57ba3b967",
   "metadata": {},
   "outputs": [],
   "source": [
    "a = ' I am learning python'"
   ]
  },
  {
   "cell_type": "code",
   "execution_count": 5,
   "id": "5d92edd6-a58f-4b8e-8be7-c9c0de1d9d86",
   "metadata": {},
   "outputs": [
    {
     "name": "stdout",
     "output_type": "stream",
     "text": [
      "The count of occurences is 1\n"
     ]
    }
   ],
   "source": [
    "count = 0\n",
    "b = 'learning'\n",
    "if b in a:\n",
    "    count += 1\n",
    "print(f'The count of occurences is {count}')"
   ]
  },
  {
   "cell_type": "markdown",
   "id": "7e26b72d-d4d2-45f6-a613-e11d30548c7f",
   "metadata": {},
   "source": [
    "1. Decalaring a variable a defining one string \" I am learning python\n",
    "2. Declaring another varibale b which define another string i.e 'learning'.\n",
    "3. We are applying conditional statements if the user type in varibale b is present in user type varibale a if that word is present that string it will +1 to the count variable and print that how many time that word occurs."
   ]
  },
  {
   "cell_type": "markdown",
   "id": "c0475845-9f11-49d1-9d49-f4540ac6f355",
   "metadata": {},
   "source": [
    "12. Find the first occurrence of a word in a string."
   ]
  },
  {
   "cell_type": "code",
   "execution_count": 5,
   "id": "2b111ce0-38b1-4050-9a39-4496174fb5e0",
   "metadata": {},
   "outputs": [],
   "source": [
    "a = ' I am learning python'\n",
    "b = 'learning'"
   ]
  },
  {
   "cell_type": "code",
   "execution_count": 6,
   "id": "f9e145e0-7faf-44d2-9d97-26516c05bea1",
   "metadata": {},
   "outputs": [
    {
     "name": "stdout",
     "output_type": "stream",
     "text": [
      "The first occurrence of an word is at index 6\n"
     ]
    }
   ],
   "source": [
    "first_occurence = a.find(b)\n",
    "print(f'The first occurrence of an word is at index {first_occurence}')"
   ]
  },
  {
   "cell_type": "markdown",
   "id": "487f369b-5340-45da-a7a9-7e3a3af0ea72",
   "metadata": {},
   "source": [
    "1. Decalaring a variable a defining one string \" I am learning python\n",
    "2. Declaring another varibale b which define another string i.e 'learning'.\n",
    "3. We are using find fucntion to find first occurence of an word at which index it is present "
   ]
  },
  {
   "cell_type": "markdown",
   "id": "66a98ff1-2608-4cf7-a7ef-85f51e83684a",
   "metadata": {},
   "source": [
    "13. Find the last occurrence of a word in a string."
   ]
  },
  {
   "cell_type": "code",
   "execution_count": 8,
   "id": "54a18a9c-a415-4f24-99ca-e72b003e716d",
   "metadata": {},
   "outputs": [],
   "source": [
    "a = ' I am learning python. I am learning java as well'\n",
    "b = 'learning'"
   ]
  },
  {
   "cell_type": "code",
   "execution_count": 10,
   "id": "deaf5aca-c19a-49e0-b777-aee70d743c50",
   "metadata": {},
   "outputs": [
    {
     "name": "stdout",
     "output_type": "stream",
     "text": [
      "The last occurrence of an word is at index 28\n"
     ]
    }
   ],
   "source": [
    "last_occurence = a.rfind(b)\n",
    "print(f'The last occurrence of an word is at index {last_occurence}')"
   ]
  },
  {
   "cell_type": "markdown",
   "id": "4d95f817-c39d-4c9e-9772-7cc74d4fd72e",
   "metadata": {},
   "source": [
    "1. Decalaring a variable a defining one string \" I am learning python. I am learnig java as well.\"\n",
    "2. Declaring another varibale b which define another string i.e 'learning'.\n",
    "3. We are using find fucntion to find last occurence of that word at which index it is present and print that index number"
   ]
  },
  {
   "cell_type": "markdown",
   "id": "25837fa2-df8b-4b0b-b61d-6e00e6f7af38",
   "metadata": {},
   "source": [
    "14. Split a string into a list of words."
   ]
  },
  {
   "cell_type": "code",
   "execution_count": 11,
   "id": "92e2c682-212d-4236-b91c-9d975da3f24e",
   "metadata": {},
   "outputs": [],
   "source": [
    "a = 'I am learning python'"
   ]
  },
  {
   "cell_type": "code",
   "execution_count": 12,
   "id": "c94297b0-daf4-4dc0-9d7d-86e66e6842bc",
   "metadata": {},
   "outputs": [
    {
     "name": "stdout",
     "output_type": "stream",
     "text": [
      "['I', 'am', 'learning', 'python']\n"
     ]
    }
   ],
   "source": [
    "list_a = a.split()\n",
    "print(list_a)"
   ]
  },
  {
   "cell_type": "markdown",
   "id": "515396a2-31df-4166-bf82-896b88af1d94",
   "metadata": {},
   "source": [
    "1. Decalaring a variable a defining one string \" I am learning python.\"\n",
    "2. Declaring another varibale list_a.\n",
    "3. By using .split() funtion for converting all the characters of an string into a list of string."
   ]
  },
  {
   "cell_type": "markdown",
   "id": "16ebee31-bfa0-4f3f-8366-2d33f1562fc4",
   "metadata": {},
   "source": [
    "15. Join a list of words into a string."
   ]
  },
  {
   "cell_type": "code",
   "execution_count": 21,
   "id": "9ea8d586-733d-41f7-a15b-6b423c42c7db",
   "metadata": {},
   "outputs": [],
   "source": [
    "a = ['I', 'am', 'learning', 'python']"
   ]
  },
  {
   "cell_type": "code",
   "execution_count": 27,
   "id": "68104438-bfc8-476b-bd25-9332cb50df13",
   "metadata": {},
   "outputs": [
    {
     "name": "stdout",
     "output_type": "stream",
     "text": [
      "I am learning python\n"
     ]
    }
   ],
   "source": [
    "join_string = \" \".join(a)\n",
    "print(join_string)"
   ]
  },
  {
   "cell_type": "markdown",
   "id": "3920f7e1-e3fa-4b06-84b9-47401ad601f1",
   "metadata": {},
   "source": [
    "1. Decalaring a variable a defining list of string [ 'I', 'am', ' learning', ' python']\n",
    "2. Declaring another varibale join_string.\n",
    "3. By using .join(1) funtion for joining all the characters present in a list into an string."
   ]
  },
  {
   "cell_type": "markdown",
   "id": "e7bead32-3fb6-407c-9c13-ae8518830cec",
   "metadata": {},
   "source": [
    "16. Convert a string where words are separated by spaces to one where words\n",
    "are separated by underscores."
   ]
  },
  {
   "cell_type": "code",
   "execution_count": 29,
   "id": "e15cc9c0-e8e0-480f-9afa-583cfbcc5c68",
   "metadata": {},
   "outputs": [],
   "source": [
    "a = 'I am learning python'"
   ]
  },
  {
   "cell_type": "code",
   "execution_count": 31,
   "id": "b4fb7dd0-bcf0-4432-87c6-88a0345e5263",
   "metadata": {},
   "outputs": [
    {
     "name": "stdout",
     "output_type": "stream",
     "text": [
      "I_am_learning_python\n"
     ]
    }
   ],
   "source": [
    "underscore_string = a.replace(' ','_')\n",
    "print(underscore_string)"
   ]
  },
  {
   "cell_type": "markdown",
   "id": "27024f57-e8f4-4721-bf4c-68462e35b620",
   "metadata": {},
   "source": [
    "1. Decalaring a variable a defining string with spaces 'I am learning python'\n",
    "2. Declaring another varibale underscore_string to convert string with spaces to underscore string.\n",
    "3. By using .replace() funtion replace all ' ' with '_' and print that underscore_string."
   ]
  },
  {
   "cell_type": "markdown",
   "id": "2e74fbf4-c11f-40ce-8be4-4447f4b75ce6",
   "metadata": {},
   "source": [
    "17. Check if a string starts with a specific word or phrase."
   ]
  },
  {
   "cell_type": "code",
   "execution_count": 32,
   "id": "1b572ddc-4943-4a24-89c0-7fb56e4044a5",
   "metadata": {},
   "outputs": [],
   "source": [
    "a = \"Hello I am learning python\""
   ]
  },
  {
   "cell_type": "code",
   "execution_count": 35,
   "id": "9a3bc7fa-58c2-40fc-9436-af5bb0991e58",
   "metadata": {},
   "outputs": [],
   "source": [
    "b = 'Hello'"
   ]
  },
  {
   "cell_type": "code",
   "execution_count": 34,
   "id": "854ffb6b-84c2-4f21-aa47-4d7af8fbab40",
   "metadata": {},
   "outputs": [
    {
     "name": "stdout",
     "output_type": "stream",
     "text": [
      "The sentence start with a specific word or phrase\n"
     ]
    }
   ],
   "source": [
    "if a[0] == b:\n",
    "    print(\"The sentence start with a specific word or phrase\")\n",
    "else:\n",
    "    print(\"The sentence not start with a specific word or phrase\") "
   ]
  },
  {
   "cell_type": "markdown",
   "id": "9408f5c9-63e6-446a-86de-7f58a3d5e723",
   "metadata": {},
   "source": [
    "1. Decalaring a variable a defining string 'Hello I am learning python'\n",
    "2. Declaring another varible b we are defining string 'Hello'.\n",
    "3. Defining conditional statement if a at index 0 is equal to b then we are printing the statement as The sentence starts with an specific word or phrase."
   ]
  },
  {
   "cell_type": "markdown",
   "id": "d4e5664b-109b-4432-9fa8-7e579a0945b4",
   "metadata": {},
   "source": [
    "18. Check if a string ends with a specific word or phrase."
   ]
  },
  {
   "cell_type": "code",
   "execution_count": 36,
   "id": "25220cdb-f6fb-4dde-850e-f2bcabb1e18a",
   "metadata": {},
   "outputs": [],
   "source": [
    "a = \"Hello I am learning python\""
   ]
  },
  {
   "cell_type": "code",
   "execution_count": 37,
   "id": "a818a83f-e3a1-4f6d-8c63-de475dca285a",
   "metadata": {},
   "outputs": [],
   "source": [
    "b = 'python'"
   ]
  },
  {
   "cell_type": "code",
   "execution_count": 38,
   "id": "52ec8fec-007e-4c52-b04d-792cd3347ae2",
   "metadata": {},
   "outputs": [
    {
     "name": "stdout",
     "output_type": "stream",
     "text": [
      "The sentence not ends with a specific word or phrase\n"
     ]
    }
   ],
   "source": [
    "if a[-1] == b:\n",
    "    print(\"The sentence ends with a specific word or phrase\")\n",
    "else:\n",
    "    print(\"The sentence not ends with a specific word or phrase\") "
   ]
  },
  {
   "cell_type": "markdown",
   "id": "7567690a-5082-455c-8473-4b4416d59205",
   "metadata": {},
   "source": [
    "1. Decalaring a variable a defining string 'Hello I am learning python'\n",
    "2. Declaring another varible b we are defining string 'pyhton'.\n",
    "3. Defining conditional statement if a at index -1 is equal to b then we are printing the statement as The sentence ends with an specific word or phrase."
   ]
  },
  {
   "cell_type": "markdown",
   "id": "43492181-3e92-4679-9168-80c8e23ceb39",
   "metadata": {},
   "source": [
    "19. Convert a string to title case (e.g., \"hello world\" to \"Hello World\")."
   ]
  },
  {
   "cell_type": "code",
   "execution_count": 39,
   "id": "c99c9c38-0189-4398-98b9-7aaf739be7b4",
   "metadata": {},
   "outputs": [],
   "source": [
    "a = 'hello world'"
   ]
  },
  {
   "cell_type": "code",
   "execution_count": 40,
   "id": "701d89e0-41d1-4342-bf12-3c6d14b24010",
   "metadata": {},
   "outputs": [
    {
     "name": "stdout",
     "output_type": "stream",
     "text": [
      "Hello World\n"
     ]
    }
   ],
   "source": [
    "title_case = a.title()\n",
    "print(title_case)"
   ]
  },
  {
   "cell_type": "markdown",
   "id": "c2df8db2-3160-4be2-aae7-55ebb0ccbe4b",
   "metadata": {},
   "source": [
    "1. Decalaring a variable a defining string 'hello world'\n",
    "2. Declaring another varible title_case for converting string into title case.\n",
    "3. By using .title function we are converting normal string into title case string."
   ]
  },
  {
   "cell_type": "markdown",
   "id": "237ac3d8-73ce-4a40-ae03-b3c8e66638b9",
   "metadata": {},
   "source": [
    "20. Find the longest word in a string."
   ]
  },
  {
   "cell_type": "code",
   "execution_count": 15,
   "id": "fd49e618-9f6c-4039-b552-7032d4841e0c",
   "metadata": {},
   "outputs": [],
   "source": [
    "a = 'I am learning python'"
   ]
  },
  {
   "cell_type": "code",
   "execution_count": 17,
   "id": "2b0d273d-31d0-4661-a913-3d618f749c8b",
   "metadata": {},
   "outputs": [
    {
     "name": "stdout",
     "output_type": "stream",
     "text": [
      "The longest word is learning\n"
     ]
    }
   ],
   "source": [
    "b = a.split()\n",
    "longest_word = ' '\n",
    "for i in range(len(b)):\n",
    "    if len(b[i]) > len(longest_word):\n",
    "        longest_word = b[i]\n",
    "print(f'The longest word is {longest_word}')"
   ]
  },
  {
   "cell_type": "markdown",
   "id": "e331a4ef-7061-4145-b81f-bf132db74c79",
   "metadata": {},
   "source": [
    "1. Declare variable a in which defining string 'I am learning python'\n",
    "2. Declare another variable b in which we are converting all string characters into a list of words\n",
    "3. Applying for loop by using range function what range function does is it will iteratte through len(b) all characters in a list one by one.\n",
    "4. Applying conditional statement if len(b[i]) > len(longest_word) this line means if any character which is greater than the longest word. The longest word is defing as an empty string. If any character is greater than longest_word then the longest_word is equal to that word which is having highest length than any other words.\n",
    "5. After that we are printing longest word"
   ]
  },
  {
   "cell_type": "markdown",
   "id": "dd195493-63e2-4b11-b09c-a763d19fd75b",
   "metadata": {},
   "source": [
    "20. Find the Shortest word in a string."
   ]
  },
  {
   "cell_type": "code",
   "execution_count": 4,
   "id": "55c01b3d-ac52-4b08-81bf-199c1fe2415b",
   "metadata": {},
   "outputs": [],
   "source": [
    "a = 'Python java scala'"
   ]
  },
  {
   "cell_type": "code",
   "execution_count": 6,
   "id": "ebe1ef38-8bde-4d1e-b332-f40c48734ba8",
   "metadata": {},
   "outputs": [
    {
     "name": "stdout",
     "output_type": "stream",
     "text": [
      "The shortest word is java\n"
     ]
    }
   ],
   "source": [
    "b = a.split()\n",
    "shortest_word = b[0]\n",
    "for i in range(len(b)):\n",
    "    if len(b[i]) < len(shortest_word):\n",
    "        shortest_word = b[i]\n",
    "print(f'The shortest word is {shortest_word}')"
   ]
  },
  {
   "cell_type": "markdown",
   "id": "4e5d611a-f4ba-402a-88ad-924aec519066",
   "metadata": {},
   "source": [
    "1. Declare variable a in which defining string 'Python java scala'\n",
    "2. Declare another variable b in which we are converting all string characters into a list of words\n",
    "3. Applying for loop by using range function what range function does is it will iteratte through len(b) all characters in a list one by one.\n",
    "4. Applying conditional statement if len(b[i]) < len(shortest_word) this line means if any character which is less than the longest word. The shortest word is defing as an string which have contain first element of b. If any character is less than longest_word then the shortest_word is equal to that word which is having lowest length than any other words.\n",
    "5. After that we are printing shortest word"
   ]
  },
  {
   "cell_type": "markdown",
   "id": "86fa4d9f-9ec6-459f-8172-0f9c1312205c",
   "metadata": {},
   "source": [
    "22. Reverse the order of words in a string."
   ]
  },
  {
   "cell_type": "code",
   "execution_count": 7,
   "id": "45fa103a-0b7b-46cd-9444-121689336260",
   "metadata": {},
   "outputs": [],
   "source": [
    "a = 'I am learning python'"
   ]
  },
  {
   "cell_type": "code",
   "execution_count": 20,
   "id": "cadac33f-3b08-474d-98a4-6b59039c988e",
   "metadata": {},
   "outputs": [
    {
     "name": "stdout",
     "output_type": "stream",
     "text": [
      "python learning am I\n"
     ]
    }
   ],
   "source": [
    "b = a.split()[::-1]\n",
    "reverse_order = ' '.join(b)\n",
    "print(reverse_order)\n",
    "    "
   ]
  },
  {
   "cell_type": "markdown",
   "id": "bab6fe8f-a9b6-4e76-9974-f85ffb1b3c01",
   "metadata": {},
   "source": [
    "1. Declare variable a in that variabel defining one string '  I am learning python'\n",
    "2. To convert into list split() function is used and reverse the string by using slicing\n",
    "3. Declare another variable reverse_order by using join() function we join the string with spaces between each character and reverse the order of string"
   ]
  },
  {
   "cell_type": "markdown",
   "id": "d805bf01-32c4-42a4-affc-842bc78b242a",
   "metadata": {},
   "source": [
    "23. Check if a string is alphanumeric."
   ]
  },
  {
   "cell_type": "code",
   "execution_count": 29,
   "id": "6a26afe9-87d3-4daa-8b2e-79dd9decea81",
   "metadata": {},
   "outputs": [],
   "source": [
    "a = 'python1235'"
   ]
  },
  {
   "cell_type": "code",
   "execution_count": 30,
   "id": "3d288b0a-8f23-4afa-b997-d24b900ae465",
   "metadata": {},
   "outputs": [
    {
     "name": "stdout",
     "output_type": "stream",
     "text": [
      "These string is alphanumeric\n"
     ]
    }
   ],
   "source": [
    "if a.isalnum():\n",
    "    print('These string is alphanumeric')\n",
    "else:\n",
    "    print('These string is not alphanumeric')"
   ]
  },
  {
   "cell_type": "markdown",
   "id": "fd9959c4-ccc3-45f9-b56e-6257332139f0",
   "metadata": {},
   "source": [
    "1. Declare variable a in that variable we are defining one string 'python1234'\n",
    "2. To check string alphanumeric or not we are using function isalnum(). These function helps either string is alphanumeric or not. Either string is having alphabets or else number or alphabet + number these are called as alphanumeric\n",
    "3. If alphabets and numbers having white spaces for e.g python 1234 then this is not a alphanumeric string.\n",
    "4. we are defining conditional statement if a.isalnum() then print the these string is alphanumeric"
   ]
  },
  {
   "cell_type": "markdown",
   "id": "ffef3c5c-2749-4e34-83ef-51ac7580854c",
   "metadata": {},
   "source": [
    "24. Extract all digits from a string."
   ]
  },
  {
   "cell_type": "code",
   "execution_count": 66,
   "id": "1fe7d2ee-9c55-4471-a139-91623c8cc6d1",
   "metadata": {},
   "outputs": [],
   "source": [
    "a = 'pyhton1234 java1234 scala1234'"
   ]
  },
  {
   "cell_type": "code",
   "execution_count": 71,
   "id": "327d2609-3cda-4686-bb15-01eb37032764",
   "metadata": {},
   "outputs": [],
   "source": [
    "extracted_number = ''"
   ]
  },
  {
   "cell_type": "code",
   "execution_count": 72,
   "id": "c869781b-6f96-4e7e-8a11-059dec7214f7",
   "metadata": {},
   "outputs": [
    {
     "name": "stdout",
     "output_type": "stream",
     "text": [
      "123412341234\n"
     ]
    }
   ],
   "source": [
    "for i in a:\n",
    "    if i.isdigit():\n",
    "        extracted_number += i\n",
    "print(extracted_number)\n",
    "    "
   ]
  },
  {
   "cell_type": "markdown",
   "id": "237253a8-9a4c-4222-bbe0-bf4d6194d018",
   "metadata": {},
   "source": [
    "1. Declare the variable a define input string 'python1234 java1234 scala1234'.\n",
    "2. Declare another variable extracted number as empty string \n",
    "3. By using for loop iterate through all the characters of string inside a\n",
    "4. By using conditional statement and digit() function allows if any charcter is number it returns true and then it will stored inot extract_number after all the iteration we will print that ectracted_number"
   ]
  },
  {
   "cell_type": "markdown",
   "id": "8c7bf442-f8d7-456c-b9ac-3131cba71abf",
   "metadata": {},
   "source": [
    "25. Extract all alphabets from a string."
   ]
  },
  {
   "cell_type": "code",
   "execution_count": 81,
   "id": "7594d582-607f-41d5-bd71-73bfb91bda17",
   "metadata": {},
   "outputs": [],
   "source": [
    "a = 'pyhton1234 java1234 scala1234'"
   ]
  },
  {
   "cell_type": "code",
   "execution_count": 82,
   "id": "b66f309a-fa1b-4d78-9790-f630ef4912d0",
   "metadata": {},
   "outputs": [],
   "source": [
    "extracted_alphabets = ''"
   ]
  },
  {
   "cell_type": "code",
   "execution_count": 83,
   "id": "be5bb993-2fc7-4c3a-a4ef-2eda2d12ac6d",
   "metadata": {},
   "outputs": [
    {
     "name": "stdout",
     "output_type": "stream",
     "text": [
      "pyhtonjavascala\n"
     ]
    }
   ],
   "source": [
    "for i in a:\n",
    "    if i.isalpha():\n",
    "        extracted_alphabets += i\n",
    "print(extracted_alphabets)"
   ]
  },
  {
   "cell_type": "markdown",
   "id": "e8474a43-e827-4ca9-86a2-774761b0a3e7",
   "metadata": {},
   "source": [
    "1. Declare the variable a define input string 'python1234 java1234 scala1234'.\n",
    "2. Declare another variable extracted alphabets as empty string \n",
    "3. By using for loop iterate through all the characters of string inside a\n",
    "4. By using conditional statement and isalpha() function allows if any charcter is alphabet it returns true and then it will stored into extract_alphabets after all the iteration we will print that extracted_alphabets"
   ]
  },
  {
   "cell_type": "markdown",
   "id": "37a34c63-f42d-43f2-8416-f84ed4e50447",
   "metadata": {},
   "source": [
    "26. Count the number of uppercase letters in a string."
   ]
  },
  {
   "cell_type": "code",
   "execution_count": 84,
   "id": "cfae8aaf-4d00-43ca-99b9-28e7cbb41a00",
   "metadata": {},
   "outputs": [],
   "source": [
    "a = 'Hello World'"
   ]
  },
  {
   "cell_type": "code",
   "execution_count": 85,
   "id": "f8d2f249-cc32-483f-87a6-d1c31e39c302",
   "metadata": {},
   "outputs": [],
   "source": [
    "count_uppercase = 0"
   ]
  },
  {
   "cell_type": "code",
   "execution_count": 86,
   "id": "393367f8-aa67-4a8b-b2bb-fa9d839841c4",
   "metadata": {},
   "outputs": [
    {
     "name": "stdout",
     "output_type": "stream",
     "text": [
      "2\n"
     ]
    }
   ],
   "source": [
    "for i in a:\n",
    "    if i.isupper():\n",
    "        count_uppercase += 1\n",
    "print(count_uppercase)"
   ]
  },
  {
   "cell_type": "markdown",
   "id": "65ab1e10-c38e-48ce-937f-8ca3bac0181e",
   "metadata": {},
   "source": [
    "1. Declare the variable a define input string 'Hello World'.\n",
    "2. Declare another variable count_uppercase set th value as 0 \n",
    "3. By using for loop iterate through all the characters of string inside variable a\n",
    "4. By using conditional statement and isupper() function allows if any charcter is in uppercase it returns true and then it will add + 1 to the count_uppercase and print count_uppercase"
   ]
  },
  {
   "cell_type": "markdown",
   "id": "cd19f688-d818-45cd-8e41-815e2b6c32e2",
   "metadata": {},
   "source": [
    "26. Count the number of lowercase letters in a string."
   ]
  },
  {
   "cell_type": "code",
   "execution_count": 87,
   "id": "2d5fe5b6-bd1c-4ccd-9b86-53b57f7c2654",
   "metadata": {},
   "outputs": [],
   "source": [
    "a = 'Hello World'"
   ]
  },
  {
   "cell_type": "code",
   "execution_count": 89,
   "id": "1fc39c6b-5942-4d70-93d9-9f88cdf7c16e",
   "metadata": {},
   "outputs": [],
   "source": [
    "count_lowercase = 0"
   ]
  },
  {
   "cell_type": "code",
   "execution_count": 90,
   "id": "56080fdb-84c3-45bd-9910-d29d7c9603ef",
   "metadata": {},
   "outputs": [
    {
     "name": "stdout",
     "output_type": "stream",
     "text": [
      "8\n"
     ]
    }
   ],
   "source": [
    "for i in a:\n",
    "    if i.islower():\n",
    "        count_lowercase += 1\n",
    "print(count_lowercase)"
   ]
  },
  {
   "cell_type": "markdown",
   "id": "f1832b1c-2045-40bd-9b01-eea96899b522",
   "metadata": {},
   "source": [
    "1. Declare the variable a define input string 'Hello World'.\n",
    "2. Declare another variable count_uppercase set th value as 0 \n",
    "3. By using for loop iterate through all the characters of string inside variable a\n",
    "4. By using conditional statement and islower() function allows if any charcter is in lowercase it returns true and then it will add + 1 to the count_lowercase and print count_lowercase"
   ]
  },
  {
   "cell_type": "markdown",
   "id": "159d1f39-6635-4233-a5ad-6de35f1ccea6",
   "metadata": {},
   "source": [
    "28. Swap the case of each character in a string."
   ]
  },
  {
   "cell_type": "code",
   "execution_count": 96,
   "id": "ab4408b9-ef42-4c63-8551-1a784c5fcc7d",
   "metadata": {},
   "outputs": [],
   "source": [
    "a = 'hello WORLD'\n",
    "b = ''"
   ]
  },
  {
   "cell_type": "code",
   "execution_count": 95,
   "id": "51c5f495-e4e2-4a57-aa41-360e8af2fd19",
   "metadata": {},
   "outputs": [
    {
     "name": "stdout",
     "output_type": "stream",
     "text": [
      "HELLOworld\n"
     ]
    }
   ],
   "source": [
    "for i in a:\n",
    "    if i.isupper():\n",
    "        b += i.lower()\n",
    "    elif i.islower():\n",
    "        b += i.upper()\n",
    "print(b)"
   ]
  },
  {
   "cell_type": "markdown",
   "id": "0e7ecae3-b9fd-4a80-902c-e67d948e232d",
   "metadata": {},
   "source": [
    "1. Declare the variable a define input string 'hello WORLD'.\n",
    "2. Declare another variable b as empty string.\n",
    "3. By using for loop iterate through all the characters of string inside variable a\n",
    "4. By using conditional statement if any character is having uppercase character we are chechkin by using isupper() function allows if any charcter is in uppercase it returns true and then it will add on to empty string b and then covert it into lower case character by using .lower() function\n",
    "5. Same goes for lower case characterts instead of converting into lower case we are convertint it into upper case functions"
   ]
  },
  {
   "cell_type": "markdown",
   "id": "9c15f393-5175-496e-afae-57d5053d6935",
   "metadata": {},
   "source": [
    "29. Remove a specific word from a string."
   ]
  },
  {
   "cell_type": "code",
   "execution_count": 98,
   "id": "43e68b13-758f-4fc0-9c33-25d90dc9cc6f",
   "metadata": {},
   "outputs": [],
   "source": [
    "a = 'I am learning python'"
   ]
  },
  {
   "cell_type": "code",
   "execution_count": 101,
   "id": "6409d803-c575-4f8d-a84e-d6d1fed7c9db",
   "metadata": {},
   "outputs": [
    {
     "name": "stdout",
     "output_type": "stream",
     "text": [
      "I am  python\n"
     ]
    }
   ],
   "source": [
    "b = a.replace('learning','')\n",
    "print(b)"
   ]
  },
  {
   "cell_type": "markdown",
   "id": "d4d2618b-380c-4cac-9335-89cee2366634",
   "metadata": {},
   "source": [
    "1. Declare variable a inside that variable define 'I am learning python'\n",
    "2. Declare another variable b and we are using replace function to replace learning with a empty character this is how we remove a specific character from string using replace() function"
   ]
  },
  {
   "cell_type": "markdown",
   "id": "2e582099-45f7-43cc-8fa7-1d794f036314",
   "metadata": {},
   "source": [
    "30. Check if a string is a valid email address."
   ]
  },
  {
   "cell_type": "code",
   "execution_count": 3,
   "id": "7cb9153e-77e7-4f34-aa97-01344d137c34",
   "metadata": {},
   "outputs": [],
   "source": [
    "#!pip install email_validator\n",
    "from email_validator import validate_email,EmailNotValidError"
   ]
  },
  {
   "cell_type": "code",
   "execution_count": 4,
   "id": "09aaf574-d962-4a34-884b-36a3fbd1632a",
   "metadata": {},
   "outputs": [],
   "source": [
    "email = 'devil692@email.com'"
   ]
  },
  {
   "cell_type": "code",
   "execution_count": 5,
   "id": "92a31bde-d676-4e67-b2d8-eb76895d3f0e",
   "metadata": {},
   "outputs": [],
   "source": [
    "validate_mail = validate_email(email)"
   ]
  },
  {
   "cell_type": "code",
   "execution_count": 6,
   "id": "b120aec0-ce89-4e44-b477-66edf60bf221",
   "metadata": {},
   "outputs": [
    {
     "name": "stdout",
     "output_type": "stream",
     "text": [
      "<ValidatedEmail devil692@email.com>\n"
     ]
    }
   ],
   "source": [
    "print(validate_mail)"
   ]
  },
  {
   "cell_type": "code",
   "execution_count": 7,
   "id": "638e21c5-5420-4f91-b8bd-9bea011feaae",
   "metadata": {},
   "outputs": [
    {
     "name": "stdout",
     "output_type": "stream",
     "text": [
      "Valid email Id\n"
     ]
    }
   ],
   "source": [
    "if validate_mail:\n",
    "    print('Valid email Id')"
   ]
  },
  {
   "cell_type": "markdown",
   "id": "be27fa32-771e-4f0e-9240-120dc63cc7e4",
   "metadata": {},
   "source": [
    "1. Import library called email_validator\n",
    "2. Declaring variable email inside that we are defining string\n",
    "3. Declaring another variable validate email inside that validate_email variable we are defing one function called validate_email and inside that function we are paasing argument validate_email(email).\n",
    "4. These function does that if email is invalid they will give us an error directctly. "
   ]
  },
  {
   "cell_type": "markdown",
   "id": "c12a8352-9f58-4aed-b876-426390d2f4ef",
   "metadata": {},
   "source": [
    "31. Extract the username from an email address string."
   ]
  },
  {
   "cell_type": "code",
   "execution_count": 8,
   "id": "e2c7adf3-3254-4946-b98c-e5d196234d45",
   "metadata": {},
   "outputs": [],
   "source": [
    "email = 'DEvil@email.com'"
   ]
  },
  {
   "cell_type": "code",
   "execution_count": 13,
   "id": "64a5a3e8-80fa-4756-9244-d44e645b57d2",
   "metadata": {},
   "outputs": [],
   "source": [
    "extract_username = email.split('@')"
   ]
  },
  {
   "cell_type": "code",
   "execution_count": 14,
   "id": "462b5638-dd53-4900-b5ce-d57e1b8d339e",
   "metadata": {},
   "outputs": [
    {
     "name": "stdout",
     "output_type": "stream",
     "text": [
      "DEvil\n"
     ]
    }
   ],
   "source": [
    "print(extract_username[0])"
   ]
  },
  {
   "cell_type": "markdown",
   "id": "bcad93e3-fcf2-4622-a46b-362a415c11b7",
   "metadata": {},
   "source": [
    "1. Declare a variable email inside these we define one email\n",
    "2. By using split function we are split the email by using \"@\"\n",
    "3. extract the user name by using slicing methods in list"
   ]
  },
  {
   "cell_type": "markdown",
   "id": "99c02bd1-a8eb-4dbd-8a20-240bf3d820e8",
   "metadata": {},
   "source": [
    "32. Extract the domain name from an email address string."
   ]
  },
  {
   "cell_type": "code",
   "execution_count": 2,
   "id": "d73d6a90-0753-4e2a-a5af-42ba441ce005",
   "metadata": {},
   "outputs": [],
   "source": [
    "email = 'Devil@email.com'"
   ]
  },
  {
   "cell_type": "code",
   "execution_count": 5,
   "id": "a32eee63-cf80-47c4-bfd3-6bdb2a780590",
   "metadata": {},
   "outputs": [],
   "source": [
    "extract_domainname = email.split('@')"
   ]
  },
  {
   "cell_type": "code",
   "execution_count": 7,
   "id": "a7ce57d3-912e-45c6-ab51-5d75f5827067",
   "metadata": {},
   "outputs": [
    {
     "name": "stdout",
     "output_type": "stream",
     "text": [
      "email.com\n"
     ]
    }
   ],
   "source": [
    "print(extract_domainname[1])"
   ]
  },
  {
   "cell_type": "markdown",
   "id": "bec45888-7a1b-46f4-9f39-945a8d806cba",
   "metadata": {},
   "source": [
    "1. Declare a variable email inside these we define one email\n",
    "2. By using split function we are split the email by using \"@\"\n",
    "3. extract the domain name by using slicing methods in list"
   ]
  },
  {
   "cell_type": "markdown",
   "id": "946035ce-1b9a-4d2d-a49a-b5ed6d1ccf79",
   "metadata": {},
   "source": [
    "33. Replace multiple spaces in a string with a single space."
   ]
  },
  {
   "cell_type": "code",
   "execution_count": 8,
   "id": "5e64b821-8849-49ef-ac72-ef199fdacc76",
   "metadata": {},
   "outputs": [],
   "source": [
    "a = 'I   am  Learning    python'"
   ]
  },
  {
   "cell_type": "code",
   "execution_count": 21,
   "id": "a1b58bcc-0194-41a0-b27c-de99b003d40b",
   "metadata": {},
   "outputs": [
    {
     "name": "stdout",
     "output_type": "stream",
     "text": [
      "I am Learning python\n"
     ]
    }
   ],
   "source": [
    "b = ' '.join(a.split())\n",
    "print(b)"
   ]
  },
  {
   "cell_type": "markdown",
   "id": "d4e17aab-fca3-459a-a750-7ad7b25667d9",
   "metadata": {},
   "source": [
    "1. Declare a variable a insided that define a string called 'I   am learning    Python'\n",
    "2. In this string having an multiple spaces between each character.\n",
    "3. In order to takcle this problem we are using join function and split function.\n",
    "4. Inside the join fuction we are using split function and joining with an single spaces"
   ]
  },
  {
   "cell_type": "markdown",
   "id": "ec893efe-5a83-4e0e-8b3e-5793b645d316",
   "metadata": {},
   "source": [
    "34. Check if a string is a valid URL."
   ]
  },
  {
   "cell_type": "code",
   "execution_count": 35,
   "id": "49f892ee-709b-4742-b7a6-4b027091e084",
   "metadata": {},
   "outputs": [],
   "source": [
    "#!pip install validators\n",
    "import validators\n",
    "url = \"http://www.google.com\""
   ]
  },
  {
   "cell_type": "code",
   "execution_count": 36,
   "id": "7ecda59c-dea8-4972-9fba-80ac1721a664",
   "metadata": {},
   "outputs": [],
   "source": [
    "validate_url = validators.url(url)"
   ]
  },
  {
   "cell_type": "code",
   "execution_count": 37,
   "id": "8b305f51-c365-43e3-b6f0-954f0a8a99e1",
   "metadata": {},
   "outputs": [
    {
     "name": "stdout",
     "output_type": "stream",
     "text": [
      "These url is valid\n"
     ]
    }
   ],
   "source": [
    "if validate_url:\n",
    "    print('These url is valid')\n",
    "else:\n",
    "    print('These url is not valid')"
   ]
  },
  {
   "cell_type": "markdown",
   "id": "a6406fc0-8d51-476a-85de-1dbfb8bf5301",
   "metadata": {},
   "source": [
    "1. We are installing library called validators\n",
    "2. We are importing the library validators\n",
    "3. Declaring a variable called url inside that url we are defining string of url\n",
    "4. By using conditional statement if validate_url is True then it will print 'These url is valid'"
   ]
  },
  {
   "cell_type": "markdown",
   "id": "5b72110f-7732-4ac0-b58e-2d62ce10162b",
   "metadata": {},
   "source": [
    "35. Extract the protocol (http or https) from a URL string."
   ]
  },
  {
   "cell_type": "code",
   "execution_count": 40,
   "id": "2fd147fe-449e-4cb3-82d8-aeee74f91717",
   "metadata": {},
   "outputs": [],
   "source": [
    "url = \"http://www.google.com\""
   ]
  },
  {
   "cell_type": "code",
   "execution_count": 41,
   "id": "b521100b-b989-49f0-bfd1-bf8a18ba4811",
   "metadata": {},
   "outputs": [],
   "source": [
    "extract_http = url.split(':')"
   ]
  },
  {
   "cell_type": "code",
   "execution_count": 42,
   "id": "40c85276-bad9-4320-9b0b-9e3aae3c4e2b",
   "metadata": {},
   "outputs": [
    {
     "name": "stdout",
     "output_type": "stream",
     "text": [
      "http\n"
     ]
    }
   ],
   "source": [
    "print(extract_http[0])"
   ]
  },
  {
   "cell_type": "markdown",
   "id": "230fbb7d-f11d-40c6-b8a6-2a5dc04e9bb8",
   "metadata": {},
   "source": [
    "1. Declare a variable url inside these we define one email\n",
    "2. By using split function we are split the email by using \":\"\n",
    "3. extract the http by using slicing methods in list"
   ]
  },
  {
   "cell_type": "markdown",
   "id": "edd87397-74ec-4d8d-bdfc-6e6169e416f6",
   "metadata": {},
   "source": [
    "36. Find the frequency of each character in a string."
   ]
  },
  {
   "cell_type": "code",
   "execution_count": 43,
   "id": "0b1f61e1-54c8-429c-89d1-4ffbd417a52d",
   "metadata": {},
   "outputs": [],
   "source": [
    "a = 'hello world'"
   ]
  },
  {
   "cell_type": "code",
   "execution_count": 46,
   "id": "5ab0ed72-5569-452a-bcc4-c713e66ecfab",
   "metadata": {},
   "outputs": [],
   "source": [
    "frequency ={}\n",
    "for i in a:\n",
    "    if i in frequency:\n",
    "        frequency[i] += 1\n",
    "    else:\n",
    "        frequency[i] = 1\n",
    "        "
   ]
  },
  {
   "cell_type": "code",
   "execution_count": 48,
   "id": "757d8ae6-a667-4e06-8b58-02087f07a479",
   "metadata": {},
   "outputs": [
    {
     "name": "stdout",
     "output_type": "stream",
     "text": [
      "Character : h , frequency: 1\n",
      "Character : e , frequency: 1\n",
      "Character : l , frequency: 3\n",
      "Character : o , frequency: 2\n",
      "Character :   , frequency: 1\n",
      "Character : w , frequency: 1\n",
      "Character : r , frequency: 1\n",
      "Character : d , frequency: 1\n"
     ]
    }
   ],
   "source": [
    "for i,j in frequency.items():\n",
    "    print(f\"Character : {i} , frequency: {j}\")"
   ]
  },
  {
   "cell_type": "markdown",
   "id": "72358b66-06bd-46de-bfa1-a900274fdc16",
   "metadata": {},
   "source": [
    "1. Decalring a variable called a and inside that variable we are defining string\n",
    "2. Declaring another variable with an empty dictionary\n",
    "3. Using for loop iterating all characters which are present in a\n",
    "4. we are using conditional statement if any character present in frequency we will store that character in dictionary and also see that if any characater is present twice it will added to +1 and if any character present only 1 time then it will count as only 1"
   ]
  },
  {
   "cell_type": "markdown",
   "id": "ad8761a0-d70d-4db2-820d-757d3b2fd1bf",
   "metadata": {},
   "source": [
    "37. Remove all punctuation from a string."
   ]
  },
  {
   "cell_type": "code",
   "execution_count": 50,
   "id": "865dbb9b-e969-4450-844a-058b3adbeb83",
   "metadata": {},
   "outputs": [],
   "source": [
    "import string\n",
    "a = 'Hello!, World!!!'"
   ]
  },
  {
   "cell_type": "code",
   "execution_count": 53,
   "id": "c0d217aa-3110-43cf-a5cd-2fff8f92bb52",
   "metadata": {},
   "outputs": [],
   "source": [
    "b = a.translate(str.maketrans('','',string.punctuation))"
   ]
  },
  {
   "cell_type": "code",
   "execution_count": 54,
   "id": "95773160-ff70-48e3-9099-f926eaba3123",
   "metadata": {},
   "outputs": [
    {
     "name": "stdout",
     "output_type": "stream",
     "text": [
      "Hello World\n"
     ]
    }
   ],
   "source": [
    "print(b)"
   ]
  },
  {
   "cell_type": "markdown",
   "id": "07da8d9f-cbc7-404c-8b9c-324e04a7780e",
   "metadata": {},
   "source": [
    "1. Importing library called string\n",
    "2. Declaring a variable called a inside that variable we are defining string\n",
    "3. Declaring another variable called b and inside that varibale we are using string library by using translate method to remove all punchuation from the string."
   ]
  },
  {
   "cell_type": "markdown",
   "id": "4daa103a-5813-4373-ad92-69629cc8d8ff",
   "metadata": {},
   "source": [
    "38. Check if a string contains only digits."
   ]
  },
  {
   "cell_type": "code",
   "execution_count": 59,
   "id": "09502157-a46e-4d50-8feb-f3470621ac4b",
   "metadata": {},
   "outputs": [],
   "source": [
    "a = '123456'"
   ]
  },
  {
   "cell_type": "code",
   "execution_count": 60,
   "id": "f6fa3282-4d71-4358-b70a-32a91e00dde4",
   "metadata": {},
   "outputs": [
    {
     "name": "stdout",
     "output_type": "stream",
     "text": [
      "These string contains only digits\n"
     ]
    }
   ],
   "source": [
    "if a.isdigit():\n",
    "    print('These string contains only digits')\n",
    "else:\n",
    "    print('These string does not contains only digits')"
   ]
  },
  {
   "cell_type": "markdown",
   "id": "45540946-627b-4254-b9af-f4b00e526242",
   "metadata": {},
   "source": [
    "1. Declaring a variable called a inside that varibale we are defining one string\n",
    "2. Declaring conditional statement and using isdigit function if string contains only digits and if its True then print 'These string contains only digits'"
   ]
  },
  {
   "cell_type": "markdown",
   "id": "5f9db07e-d4e6-4deb-b928-a48bdcda0e1c",
   "metadata": {},
   "source": [
    "39. Check if a string contains only alphabets."
   ]
  },
  {
   "cell_type": "code",
   "execution_count": 63,
   "id": "38976a3b-755c-4b68-a57f-1664aeb40dbd",
   "metadata": {},
   "outputs": [],
   "source": [
    "a = 'Python'"
   ]
  },
  {
   "cell_type": "code",
   "execution_count": 64,
   "id": "054c2d48-9711-4c95-b1a7-eabea3a3530e",
   "metadata": {},
   "outputs": [
    {
     "name": "stdout",
     "output_type": "stream",
     "text": [
      "These string contains only alphabet\n"
     ]
    }
   ],
   "source": [
    "if a.isalpha():\n",
    "    print('These string contains only alphabet')\n",
    "else:\n",
    "    print('These string does not contain only alphabet')"
   ]
  },
  {
   "cell_type": "markdown",
   "id": "d0f8eca2-ae0f-4fac-a8ee-a3b2055e15a1",
   "metadata": {},
   "source": [
    "1. Declaring a variable called a inside that varibale we are defining one string\n",
    "2. Declaring conditional statement and using isalpha function if string contains only alphabet and if its True then print 'These string contains only alphabet'"
   ]
  },
  {
   "cell_type": "markdown",
   "id": "26039439-f633-49a1-b5ce-b92fdc6f4eaf",
   "metadata": {},
   "source": [
    "40. Convert a string to a list of characters."
   ]
  },
  {
   "cell_type": "code",
   "execution_count": 67,
   "id": "ff0b5758-871f-49f0-8432-db130d5d4256",
   "metadata": {},
   "outputs": [],
   "source": [
    "a = 'Python'"
   ]
  },
  {
   "cell_type": "code",
   "execution_count": 68,
   "id": "408eeae4-881c-4e6e-95f3-1434b177c77a",
   "metadata": {},
   "outputs": [
    {
     "name": "stdout",
     "output_type": "stream",
     "text": [
      "['P', 'y', 't', 'h', 'o', 'n']\n"
     ]
    }
   ],
   "source": [
    "b = list(a)\n",
    "print(b)"
   ]
  },
  {
   "cell_type": "markdown",
   "id": "9f792ace-e9ca-4093-845d-fbf46658df2f",
   "metadata": {},
   "source": [
    "1. Declaring Variable called a inside that variable we are defining one string\n",
    "2. Declaring another variable b inside that variable by using type conversion which converting string that is inside the variable a. By using list(a) method it will automatically converts all characters inside variable a into an list"
   ]
  },
  {
   "cell_type": "markdown",
   "id": "0abcbb7e-aee8-4a4f-aab7-dab9752575f7",
   "metadata": {},
   "source": [
    "41. Check if two strings are anagrams."
   ]
  },
  {
   "cell_type": "code",
   "execution_count": 72,
   "id": "df07f075-efb3-4b22-a8b5-d4fa14a2b260",
   "metadata": {},
   "outputs": [],
   "source": [
    "a = 'race'\n",
    "b = 'care'"
   ]
  },
  {
   "cell_type": "code",
   "execution_count": 74,
   "id": "c87dc2a8-8e48-448c-9981-09c9e760777b",
   "metadata": {},
   "outputs": [
    {
     "name": "stdout",
     "output_type": "stream",
     "text": [
      " race and care are anagrams\n"
     ]
    }
   ],
   "source": [
    "if len(a) == len(b):\n",
    "    if sorted(a) == sorted(b):\n",
    "        print(f' {a} and {b} are anagrams')\n",
    "    else:\n",
    "        print(f' {a} and {b} are not anagrams')"
   ]
  },
  {
   "cell_type": "markdown",
   "id": "d2d6ef03-48cc-4554-b307-9b6e7f2f16a8",
   "metadata": {},
   "source": [
    "1. Declare variable a inside that variable we are defining one string\n",
    "2. Declare another variable b inside that variable we are defining another string.\n",
    "3. Now using conditional statement if both len of strings are equal to each other then it will check another if stetment that by using sorted function it will sort the characterb of the strings into an ascenting order.\n",
    "4. If both are same then it will print both strings are anagrams."
   ]
  },
  {
   "cell_type": "markdown",
   "id": "ba965b5b-018a-41cd-9327-ffccb185f17e",
   "metadata": {},
   "source": [
    "42. Encode a string using a Caesar cipher."
   ]
  },
  {
   "cell_type": "code",
   "execution_count": 75,
   "id": "19c57cc2-5122-46c6-b6b1-4259e98eb9c0",
   "metadata": {},
   "outputs": [],
   "source": [
    "character = ['a', 'b', 'c', 'd', 'e', 'f', 'g', 'h', 'i', 'j', 'k', 'l', 'm', 'n', 'o', 'p', 'q', 'r', 's', 't',\n",
    "             'u', 'v', 'w', 'x', 'y', 'z']"
   ]
  },
  {
   "cell_type": "code",
   "execution_count": 103,
   "id": "69905626-ccf6-4bbf-8799-dcb102f6e519",
   "metadata": {},
   "outputs": [
    {
     "name": "stdin",
     "output_type": "stream",
     "text": [
      "Enter a word to encode :  hello\n",
      "Enter a shift number:  5\n"
     ]
    }
   ],
   "source": [
    "user_input = input('Enter a word to encode : ')\n",
    "shift = int(input('Enter a shift number: '))%26"
   ]
  },
  {
   "cell_type": "code",
   "execution_count": 104,
   "id": "30f5fe16-4120-41e1-ba7a-db71f0d2fb0f",
   "metadata": {},
   "outputs": [],
   "source": [
    "def encode(text, shift_amount):\n",
    "    encode_text = ''\n",
    "    for char in text:\n",
    "        position = character.index(char)\n",
    "        new_position = position + shift_amount\n",
    "        new_letter = character[new_position]\n",
    "        encode_text += new_letter\n",
    "    print(f' The encoded text is {encode_text}')\n",
    "        "
   ]
  },
  {
   "cell_type": "code",
   "execution_count": 105,
   "id": "617e2e54-5bb8-4096-83d4-1c3d32f9f1ec",
   "metadata": {},
   "outputs": [
    {
     "name": "stdout",
     "output_type": "stream",
     "text": [
      " The encoded text is mjqqt\n"
     ]
    }
   ],
   "source": [
    "encode(user_input, shift)"
   ]
  },
  {
   "cell_type": "markdown",
   "id": "fd28043c-b2d5-4ad9-a4e7-d30d1a1a1ee2",
   "metadata": {},
   "source": [
    "1. Declare a variable called character inside that character we are declaring list of characters\n",
    "2. Declaring two more variables called user_input in user input we will take that message from the user end and shift which is having a data type of integer it is also taking how much shift it want to make from the user one end.\n",
    "3. Defining a function called encode in encode function we are defining two arguments text and shift_amount.\n",
    "4. Inside that function we are declaring another variable called encode_text which is an empty string.\n",
    "5. By using for loop all iteratin through all the text. Text is basically character which we are mentioning in our Function.\n",
    "6. After iterating through each of the text we are declaring another variable called position inside that psosition by .index() we are checking index of each character which have user type in there message it will return as indext number of each character.\n",
    "7. After that we are declaring another variable which new_position. What new_position does is that it will take the last position of each index in which user have type it will added to each shift amount in which user will enter how much shift of text they want.\n",
    "8. Declaring another variable inside that variable it will that new position of each character and replacing with the another character  and storing into an new_letter.\n",
    "9. After that whatever stored into the new_letter variable it will add on the the encode text variable and then print the encode text.\n",
    "10. At last we call the function inside that function we are passing two arguments first is user_input and shift_amount."
   ]
  },
  {
   "cell_type": "markdown",
   "id": "970502c4-a2ab-406d-bcc4-1fcef77e7cff",
   "metadata": {},
   "source": [
    "43. Decode a Caesar cipher encoded string."
   ]
  },
  {
   "cell_type": "code",
   "execution_count": 99,
   "id": "85828b7f-8792-4a54-8e9c-635355fb4338",
   "metadata": {},
   "outputs": [],
   "source": [
    "character = ['a', 'b', 'c', 'd', 'e', 'f', 'g', 'h', 'i', 'j', 'k', 'l', 'm', 'n', 'o', 'p', 'q', 'r', 's', 't',\n",
    "             'u', 'v', 'w', 'x', 'y', 'z']"
   ]
  },
  {
   "cell_type": "code",
   "execution_count": 100,
   "id": "07467a2e-2b25-4f28-95b1-e7b805e25c9d",
   "metadata": {},
   "outputs": [
    {
     "name": "stdin",
     "output_type": "stream",
     "text": [
      "Enter a word to encode :  mjqqt\n",
      "Enter a shift number:  5\n"
     ]
    }
   ],
   "source": [
    "user_input = input('Enter a word to encode : ')\n",
    "shift = int(input('Enter a shift number: '))%26"
   ]
  },
  {
   "cell_type": "code",
   "execution_count": 101,
   "id": "779ded1e-8cbd-4bdf-be4e-68bea4ba20b3",
   "metadata": {},
   "outputs": [],
   "source": [
    "def decode(text, shift_amount):\n",
    "    decode_text = ''\n",
    "    for char in text:\n",
    "        position = character.index(char)\n",
    "        new_position = position - shift_amount\n",
    "        new_letter = character[new_position]\n",
    "        decode_text += new_letter\n",
    "    print(f' The encoded text is {decode_text}')\n",
    "        "
   ]
  },
  {
   "cell_type": "code",
   "execution_count": 102,
   "id": "3f2457b4-90de-43f7-b895-6d8cee7289d1",
   "metadata": {},
   "outputs": [
    {
     "name": "stdout",
     "output_type": "stream",
     "text": [
      " The encoded text is hello\n"
     ]
    }
   ],
   "source": [
    "decode(user_input,shift)"
   ]
  },
  {
   "cell_type": "markdown",
   "id": "aca5d660-947b-4830-9bdf-08a2c9622832",
   "metadata": {},
   "source": [
    "1. Declare a variable called character inside that character we are declaring list of characters\n",
    "2. Declaring two more variables called user_input in user input we will take that message from the user end and shift which is having a data type of integer it is also taking how much shift it want to make from the user one end.\n",
    "3. Defining a function called decode in decode function we are defining two arguments text and shift_amount.\n",
    "4. Inside that function we are declaring another variable called encode_text which is an empty string.\n",
    "5. By using for loop all iteratin through all the text. Text is basically character which we are mentioning in our Function.\n",
    "6. After iterating through each of the text we are declaring another variable called position inside that psosition by .index() we are checking index of each character which have user type in there message it will return as indext number of each character.\n",
    "7. After that we are declaring another variable which new_position. What new_position does is that it will take the last position of each index in which user have type it will substract to each shift amount in which user will enter how much shift of text they want.\n",
    "8. Declaring another variable inside that variable it will that new position of each character and replacing with the another character  and storing into an new_letter.\n",
    "9. After that whatever stored into the new_letter variable it will add on the the decode text variable and then print the decode text.\n",
    "10. At last we call the function inside that function we are passing two arguments first is user_input and shift_amount."
   ]
  },
  {
   "cell_type": "markdown",
   "id": "a7f75f8b-cc00-479d-bb56-843a468b1ced",
   "metadata": {},
   "source": [
    "44. Find the most frequent word in a string."
   ]
  },
  {
   "cell_type": "code",
   "execution_count": 10,
   "id": "9586d41e-9e0b-466b-9884-c598b8e344aa",
   "metadata": {},
   "outputs": [],
   "source": [
    "from collections import Counter\n",
    "a = 'Hello world Hello mean'\n",
    "b = a.replace(\" \", '')\n",
    "c = b.split()"
   ]
  },
  {
   "cell_type": "code",
   "execution_count": 15,
   "id": "04e10894-e66d-404e-95e8-65d7f91a45aa",
   "metadata": {},
   "outputs": [
    {
     "name": "stdout",
     "output_type": "stream",
     "text": [
      "[('HelloworldHellomean', 1)]\n"
     ]
    }
   ],
   "source": [
    "d = Counter(c)\n",
    "frequent_word = d.most_common(1)\n",
    "print(frequent_word)"
   ]
  },
  {
   "cell_type": "markdown",
   "id": "4b3e146e-f490-4cd0-8bf9-ebce8b9ef1e2",
   "metadata": {},
   "source": [
    "45. Find all unique words in a string."
   ]
  },
  {
   "cell_type": "code",
   "execution_count": 16,
   "id": "0dbffe4e-d2b2-476c-a952-7003f19fac91",
   "metadata": {},
   "outputs": [],
   "source": [
    "a = \" Hello word Hello\""
   ]
  },
  {
   "cell_type": "code",
   "execution_count": 18,
   "id": "c27ae37a-53d7-46c6-888e-998cd2458aec",
   "metadata": {},
   "outputs": [
    {
     "name": "stdout",
     "output_type": "stream",
     "text": [
      "{'word', 'Hello'}\n"
     ]
    }
   ],
   "source": [
    "b = set(a.split())\n",
    "print(b)"
   ]
  },
  {
   "cell_type": "markdown",
   "id": "ece1cf8c-f63c-4adf-9eed-203b1898d342",
   "metadata": {},
   "source": [
    "1. Declare variable a inside the variable we define string\n",
    "2. Using data type conversion set() the functionality of set is it will take only unique values only it will eliminate duplicate values"
   ]
  },
  {
   "cell_type": "markdown",
   "id": "fd12525f-dd29-4bf7-8553-d4002e2e791e",
   "metadata": {},
   "source": [
    "46. Count the number of syllables in a string."
   ]
  },
  {
   "cell_type": "code",
   "execution_count": 77,
   "id": "01877b88-e18e-40cf-8b8e-1e9159d496df",
   "metadata": {},
   "outputs": [],
   "source": [
    "a = 'Pyhton'"
   ]
  },
  {
   "cell_type": "code",
   "execution_count": 78,
   "id": "1d3e04f8-1fc9-40c6-95c6-cabebd587a25",
   "metadata": {},
   "outputs": [],
   "source": [
    "b = 'aeiou'"
   ]
  },
  {
   "cell_type": "code",
   "execution_count": 79,
   "id": "d888c2ee-971e-40bd-82ce-5afa5f8188c3",
   "metadata": {},
   "outputs": [
    {
     "name": "stdout",
     "output_type": "stream",
     "text": [
      "Pyhton has 1 syllables\n"
     ]
    }
   ],
   "source": [
    "count_syllables = 0\n",
    "for i in a:\n",
    "    if i in b:\n",
    "        count_syllables += 1\n",
    "        \n",
    "print(f'{a} has {count_syllables} syllables')"
   ]
  },
  {
   "cell_type": "markdown",
   "id": "e54c7120-cc8d-4f47-88fb-26e012720645",
   "metadata": {},
   "source": [
    "1. Declare a varibale a inside that variable we are defining one string\n",
    "2. Declare another variable b inside that variable we are definig another string which is having vowels\n",
    "3. Declare anotherb variable called count_syllables which is set them as 0\n",
    "4. By using for loop iterating each characters inside the variable and adding conditional statement if any vowels are present in string then this add up by 1 and stored into the variable called count_variable\n",
    "5. Print the result"
   ]
  },
  {
   "cell_type": "markdown",
   "id": "e07a226b-8cc8-49d3-85f2-d9e5b987e811",
   "metadata": {},
   "source": [
    "47. Check if a string contains any special characters."
   ]
  },
  {
   "cell_type": "code",
   "execution_count": 36,
   "id": "76cc2121-fb67-4278-a76e-a060804cce5a",
   "metadata": {},
   "outputs": [],
   "source": [
    "a = 'Python@1234'\n",
    "b ='@#$%^&*?<>:;?|'"
   ]
  },
  {
   "cell_type": "code",
   "execution_count": 37,
   "id": "2e8bf1e6-d743-436e-8b9d-47893bc83930",
   "metadata": {},
   "outputs": [
    {
     "name": "stdout",
     "output_type": "stream",
     "text": [
      "The string contain special Character\n"
     ]
    }
   ],
   "source": [
    "for i in b:\n",
    "    if i in a:\n",
    "        print(\"The string contain special Character\")"
   ]
  },
  {
   "cell_type": "markdown",
   "id": "2374e408-6939-49b7-a75f-069113c5902c",
   "metadata": {},
   "source": [
    "1. Declare a varibale a inside that variable we are defining one string\n",
    "2. Declare another variable b inside that variable we are definig another string which is having special characters\n",
    "3. By using for loop iterating each characters inside the variable and adding conditional statement if any special character are present in string then print the statement as these string having special characters "
   ]
  },
  {
   "cell_type": "markdown",
   "id": "cec187d4-02a5-46d2-9ffe-9180b542e9b4",
   "metadata": {},
   "source": [
    "48. Remove the nth word from a string."
   ]
  },
  {
   "cell_type": "code",
   "execution_count": 49,
   "id": "8e9e09e9-fac1-4844-8750-e6fc7f2e1eb9",
   "metadata": {},
   "outputs": [],
   "source": [
    "a = 'I am learning python'\n",
    "n = 3"
   ]
  },
  {
   "cell_type": "code",
   "execution_count": 50,
   "id": "0ac60581-9a2e-464d-b820-da7ddb52d860",
   "metadata": {},
   "outputs": [],
   "source": [
    "b = a.split()"
   ]
  },
  {
   "cell_type": "code",
   "execution_count": 51,
   "id": "61974ca2-ea75-4589-b116-3217ff6a6385",
   "metadata": {},
   "outputs": [],
   "source": [
    "c = b.pop(n)"
   ]
  },
  {
   "cell_type": "code",
   "execution_count": 52,
   "id": "30357adb-d499-4a39-8b2a-09106c88b836",
   "metadata": {},
   "outputs": [
    {
     "name": "stdout",
     "output_type": "stream",
     "text": [
      "I am learning\n"
     ]
    }
   ],
   "source": [
    "d = ' '.join(b)\n",
    "print(d)"
   ]
  },
  {
   "cell_type": "markdown",
   "id": "7f530248-4bf3-4220-9f31-6d24deda7aea",
   "metadata": {},
   "source": [
    "1. Dcelare a variable a and inside that variable we are defining one string.\n",
    "2. Define another variable and inside that variable we set them as 3.\n",
    "3. First we split that string and coverted into the list.\n",
    "4. After converting into the list we know that string is mutable object we are using one mehtod in list called pop by using pop method we are giving index postion as an argument in pop. The index position is our variabal.\n",
    "5. After removing word now we are converting back to normal string in this case we are using the join function after using the join funtion we converted string into the normal string and also print that string."
   ]
  },
  {
   "cell_type": "markdown",
   "id": "fd405909-b396-4db5-aa45-4b8bf9fcafd2",
   "metadata": {},
   "source": [
    "49. Insert a word at the nth position in a string."
   ]
  },
  {
   "cell_type": "code",
   "execution_count": 57,
   "id": "f626285b-6c71-4f9f-a8e4-9eb1fbbce0fb",
   "metadata": {},
   "outputs": [],
   "source": [
    "a = 'I am learning'\n",
    "n = 3\n",
    "add = 'Python'"
   ]
  },
  {
   "cell_type": "code",
   "execution_count": 58,
   "id": "9449f1ca-ac0d-468b-a746-514848f4b6b9",
   "metadata": {},
   "outputs": [],
   "source": [
    "b = a.split()"
   ]
  },
  {
   "cell_type": "code",
   "execution_count": 62,
   "id": "5b36c7f7-c36c-403b-92ce-007778e97505",
   "metadata": {},
   "outputs": [],
   "source": [
    "c = b.insert(n,add)"
   ]
  },
  {
   "cell_type": "code",
   "execution_count": 61,
   "id": "7737317b-1a66-4338-8c06-bc5a03ee6989",
   "metadata": {},
   "outputs": [
    {
     "name": "stdout",
     "output_type": "stream",
     "text": [
      "I am learning Python\n"
     ]
    }
   ],
   "source": [
    "d = ' '.join(b)\n",
    "print(d)"
   ]
  },
  {
   "cell_type": "markdown",
   "id": "0ed25336-63ad-449c-82ed-8ab5d225dc41",
   "metadata": {},
   "source": [
    "1. Declare a variable a and inside that variable we are defining one string.\n",
    "2. Define another variable and inside that variable we set them as 3.\n",
    "3. First we split that string and coverted into the list.\n",
    "4. After converting into the list we know that string is mutable object we are using one mehtod in list called insert by using insert method we are giving index postion as an argument in insert . The index position is our variable n and adding word is add varibale.\n",
    "5. After inserting word now we are converting back to normal string in this case we are using the join function after using the join funtion we converted string into the normal string and also print that string."
   ]
  },
  {
   "cell_type": "markdown",
   "id": "d6466a0f-a169-4f80-a956-117873de6d16",
   "metadata": {},
   "source": [
    "50. Convert a CSV string to a list of lists."
   ]
  },
  {
   "cell_type": "code",
   "execution_count": 63,
   "id": "84ba7221-4a30-4db2-b17a-b5731f37866b",
   "metadata": {},
   "outputs": [],
   "source": [
    "csv_data = \"Name, Age, Country\\nJohn, 25, USA\\nAlice, 30, Canada\\nBob, 22, UK\""
   ]
  },
  {
   "cell_type": "code",
   "execution_count": 74,
   "id": "4d09bd8a-b077-48a7-accd-696c727f1a2c",
   "metadata": {},
   "outputs": [],
   "source": [
    "data = csv_data.split('\\n')\n",
    "list_of_list = []\n",
    "for i in data:\n",
    "    line = i.split(',')\n",
    "    list_of_list.append(line)"
   ]
  },
  {
   "cell_type": "code",
   "execution_count": 75,
   "id": "4a360615-fdd1-4d9f-b251-69f34e58c79b",
   "metadata": {},
   "outputs": [
    {
     "name": "stdout",
     "output_type": "stream",
     "text": [
      "['Name', ' Age', ' Country']\n",
      "['John', ' 25', ' USA']\n",
      "['Alice', ' 30', ' Canada']\n",
      "['Bob', ' 22', ' UK']\n"
     ]
    }
   ],
   "source": [
    "for data in list_of_list:\n",
    "    print(data)"
   ]
  },
  {
   "cell_type": "markdown",
   "id": "490ee7ea-afa4-4952-9560-14eaacfe450a",
   "metadata": {},
   "source": [
    "1. Declaring a variable csv_data inside the variable we are defining a csv data\n",
    "2. First we are seperating the csv data by using split function and we are spliting string by '\\n'.\n",
    "3. Declaring another varible called list_of_list which is an empty list here.\n",
    "4. By using for loop and iterating all the character inside the data after that we are spliting string again by using split function and and these we are spliting with a character \",\"\n",
    "5. After that declaring variablw line is converted into the list and now in list there is an function called append\n",
    "6. By using append function we are adding all the charaters inside the line function into the list_of_list function\n",
    "7. If we print the list_of_list variable we can see that all line are inside the list of list.\n",
    "8. In or"
   ]
  },
  {
   "cell_type": "markdown",
   "id": "1aaf4ade-26d6-49fa-adb0-4afae9852e80",
   "metadata": {},
   "source": [
    "# List"
   ]
  },
  {
   "cell_type": "markdown",
   "id": "cd827ad1-35df-4b29-8213-1ea18783363b",
   "metadata": {},
   "source": [
    "1. Create a list with integers from 1 to 10."
   ]
  },
  {
   "cell_type": "code",
   "execution_count": 5,
   "id": "30958cf4-f8d1-47c4-8321-3c8e01e70d9f",
   "metadata": {},
   "outputs": [],
   "source": [
    "a = []"
   ]
  },
  {
   "cell_type": "code",
   "execution_count": 6,
   "id": "d0bf20d4-2d81-4576-8b03-768cff54e8d3",
   "metadata": {},
   "outputs": [
    {
     "name": "stdout",
     "output_type": "stream",
     "text": [
      "[1, 2, 3, 4, 5, 6, 7, 8, 9, 10]\n"
     ]
    }
   ],
   "source": [
    "for i in range(1,11):\n",
    "    a.append(i)\n",
    "print(a)"
   ]
  },
  {
   "cell_type": "markdown",
   "id": "5c93e2f0-5a2d-4310-abe5-37defd7b4728",
   "metadata": {},
   "source": [
    "1. Declare variable a inside that variable a we define a empty list.\n",
    "2. By using for loop and using range function what range function does is it will iterate throught all the numbers between 1 to 11.\n",
    "3. Here we are using 11 as an end number because what range function it will end number from the last number -1 thats why we have mention 11 as an end number\n",
    "4. Atlast by using append function it will stored all the numbers which are iterating through for loop and after for loop ends then we get our full list of numbers and print the list a"
   ]
  },
  {
   "cell_type": "markdown",
   "id": "4e21e420-6d25-41a9-9729-fe2871e25888",
   "metadata": {},
   "source": [
    "2. Find the length of a list without using the `len()` function."
   ]
  },
  {
   "cell_type": "code",
   "execution_count": 7,
   "id": "b9d3669e-5a38-401c-bf5e-e13a0f7b4fad",
   "metadata": {},
   "outputs": [],
   "source": [
    "a = [1, 2, 3, 4, 5, 6, 7, 8, 9, 10]"
   ]
  },
  {
   "cell_type": "code",
   "execution_count": 10,
   "id": "cfa25a6f-efc1-4c3f-b309-98ac05c535d0",
   "metadata": {},
   "outputs": [
    {
     "name": "stdout",
     "output_type": "stream",
     "text": [
      " The length of list is 10\n"
     ]
    }
   ],
   "source": [
    "len_list = 0\n",
    "for i in a:\n",
    "    len_list += 1\n",
    "print(f' The length of list is {len_list}')"
   ]
  },
  {
   "cell_type": "markdown",
   "id": "f6445444-00db-46e2-895f-ea2b1f81c849",
   "metadata": {},
   "source": [
    "1. Declaring variable a with alist of 10 numbers.\n",
    "2. Declaring another variable len_list we are set them as 0.\n",
    "3. By using for loop what for loop does is that it will iterate through all the numbers inside the list at the ttime of iterating through each numbers in a list.The len_list added by +1 at each time iterating 1 number\n",
    "4. We are printing the length of list."
   ]
  },
  {
   "cell_type": "markdown",
   "id": "ff92f05c-e1ff-4819-bc98-47924d52952c",
   "metadata": {},
   "source": [
    "3. Append an element to the end of a list."
   ]
  },
  {
   "cell_type": "code",
   "execution_count": 11,
   "id": "6514e762-6330-4873-b7e8-1bf7ebb8c22a",
   "metadata": {},
   "outputs": [],
   "source": [
    "a = [1, 2, 3, 4, 5, 6, 7, 8, 9, 10]"
   ]
  },
  {
   "cell_type": "code",
   "execution_count": 12,
   "id": "8a3fa782-514b-4079-a4b1-d9c8ef2427c8",
   "metadata": {},
   "outputs": [],
   "source": [
    "a.append(11)"
   ]
  },
  {
   "cell_type": "code",
   "execution_count": 13,
   "id": "e98abaae-35a9-4a98-a14e-e84bf0e653e5",
   "metadata": {},
   "outputs": [
    {
     "name": "stdout",
     "output_type": "stream",
     "text": [
      "[1, 2, 3, 4, 5, 6, 7, 8, 9, 10, 11]\n"
     ]
    }
   ],
   "source": [
    "print(a)"
   ]
  },
  {
   "cell_type": "markdown",
   "id": "21945279-dfeb-4c96-9e1f-acd03760e8d8",
   "metadata": {},
   "source": [
    "1. Declare a variable with a list of numbers.\n",
    "2. By using the append function what append function does is it will add the number to the last element to the list.\n",
    "3. Print that list"
   ]
  },
  {
   "cell_type": "raw",
   "id": "a1021bd1-724c-404e-a0fc-bc404b325b10",
   "metadata": {},
   "source": [
    "4. Insert an element at a specific index in a list."
   ]
  },
  {
   "cell_type": "code",
   "execution_count": 14,
   "id": "8393c948-0bfb-4482-adc9-0f64d699ef7c",
   "metadata": {},
   "outputs": [],
   "source": [
    "a = [1, 2, 3, 4, 5, 6, 7, 8, 9, 10]"
   ]
  },
  {
   "cell_type": "code",
   "execution_count": 15,
   "id": "8606da2f-7edb-46a7-8557-08b97578135d",
   "metadata": {},
   "outputs": [],
   "source": [
    "a.insert(3,9)"
   ]
  },
  {
   "cell_type": "code",
   "execution_count": 16,
   "id": "3f5763e9-a61e-4d41-ab3f-65723daef94f",
   "metadata": {},
   "outputs": [
    {
     "name": "stdout",
     "output_type": "stream",
     "text": [
      "[1, 2, 3, 9, 4, 5, 6, 7, 8, 9, 10]\n"
     ]
    }
   ],
   "source": [
    "print(a)"
   ]
  },
  {
   "cell_type": "markdown",
   "id": "6fb3601d-277d-4086-8aa2-7f80fe4b2cc5",
   "metadata": {},
   "source": [
    "1. Declare a variable a with a list of numbers.\n",
    "2. By using the insert function it will take the two arguments. First it will take index number at what index we want to place the element and second arguments is that what element we want to place at that specific index number.\n",
    "3. Print the list."
   ]
  },
  {
   "cell_type": "markdown",
   "id": "ede184e5-c0f2-4997-85d5-9a3ed7e0b738",
   "metadata": {},
   "source": [
    "5. Remove an element from a list by its value."
   ]
  },
  {
   "cell_type": "code",
   "execution_count": 17,
   "id": "bfce4043-b727-4ec3-bd8d-93fc85b1bfb4",
   "metadata": {},
   "outputs": [],
   "source": [
    "a = [1, 2, 3, 4, 5, 6, 7, 8, 9, 10]"
   ]
  },
  {
   "cell_type": "code",
   "execution_count": 18,
   "id": "560fda3c-1e38-4d62-86d4-e4998db63fcd",
   "metadata": {},
   "outputs": [],
   "source": [
    "a.remove(2)"
   ]
  },
  {
   "cell_type": "code",
   "execution_count": 19,
   "id": "46609c68-9d8d-4a02-9ae6-bcc867047432",
   "metadata": {},
   "outputs": [
    {
     "name": "stdout",
     "output_type": "stream",
     "text": [
      "[1, 3, 4, 5, 6, 7, 8, 9, 10]\n"
     ]
    }
   ],
   "source": [
    "print(a)"
   ]
  },
  {
   "cell_type": "markdown",
   "id": "5e848ecc-44f6-47fa-9265-48cebedd65a9",
   "metadata": {},
   "source": [
    "1. Declare a variable a with a list of numbers.\n",
    "2. By using the remove function it will take the one arguments i.e which we want to remove from the list.\n",
    "3. Print the list."
   ]
  },
  {
   "cell_type": "markdown",
   "id": "1c272ba1-724e-4980-b44b-7a4af840ff97",
   "metadata": {},
   "source": [
    "6. Remove an element from a list by its index."
   ]
  },
  {
   "cell_type": "code",
   "execution_count": 20,
   "id": "86084d5d-f3f8-4f7d-b43e-299e122c1556",
   "metadata": {},
   "outputs": [],
   "source": [
    "a = [1, 2, 3, 4, 5, 6, 7, 8, 9, 10]"
   ]
  },
  {
   "cell_type": "code",
   "execution_count": 21,
   "id": "b81a2809-72d5-45a1-ab7d-4c6b2733b7f2",
   "metadata": {},
   "outputs": [],
   "source": [
    "a.remove(a[4])"
   ]
  },
  {
   "cell_type": "code",
   "execution_count": 22,
   "id": "e78e6f1a-6dce-4365-875e-d3b9178e8a13",
   "metadata": {},
   "outputs": [
    {
     "name": "stdout",
     "output_type": "stream",
     "text": [
      "[1, 2, 3, 4, 6, 7, 8, 9, 10]\n"
     ]
    }
   ],
   "source": [
    "print(a)"
   ]
  },
  {
   "cell_type": "markdown",
   "id": "f4a50caa-55cf-4486-8cd3-4b3f15e02f29",
   "metadata": {},
   "source": [
    "1. Declare a variable a with a list of numbers.\n",
    "2. By using the remove function it will take the one arguments i.e list[index number] which we want to remove from the list.\n",
    "3. Print the list."
   ]
  },
  {
   "cell_type": "markdown",
   "id": "5f98aee6-9afe-46a7-b297-c65b6d42973e",
   "metadata": {},
   "source": [
    "7. Check if an element exists in a list."
   ]
  },
  {
   "cell_type": "code",
   "execution_count": 25,
   "id": "a31679fc-cbea-433e-9229-913cc7749949",
   "metadata": {},
   "outputs": [],
   "source": [
    "a = [1, 2, 3, 4, 5, 6, 7, 8, 9, 10]\n",
    "n = 3"
   ]
  },
  {
   "cell_type": "code",
   "execution_count": 26,
   "id": "68dcefa3-98eb-4ab3-a591-2baa05d72197",
   "metadata": {},
   "outputs": [
    {
     "name": "stdout",
     "output_type": "stream",
     "text": [
      "These element present in the list\n"
     ]
    }
   ],
   "source": [
    "if n in a:\n",
    "    print('These element present in the list')\n",
    "else:\n",
    "    print('These element not present in the list')"
   ]
  },
  {
   "cell_type": "markdown",
   "id": "857e1247-1b7f-4571-bbc4-eb17d4ce5638",
   "metadata": {},
   "source": [
    "1. Declare a variable a with a list of numbers.\n",
    "2. By using the conditional statement if n which is mention the element we want to search in the list.\n",
    "3. If it is present in the list then print 'These element present in the list' other wise print ' These element not present in the list'"
   ]
  },
  {
   "cell_type": "markdown",
   "id": "b6e7f40b-fe70-4007-9370-2a72277f280f",
   "metadata": {},
   "source": [
    "8. Find the index of the first occurrence of an element in a list."
   ]
  },
  {
   "cell_type": "code",
   "execution_count": 28,
   "id": "65f00e1b-826e-4094-a5d6-b4d3474b8363",
   "metadata": {},
   "outputs": [],
   "source": [
    "a = [1, 2, 4, 5, 6, 10, 20, 10]\n",
    "n = 10"
   ]
  },
  {
   "cell_type": "code",
   "execution_count": 29,
   "id": "671fcd11-cb18-424c-a659-ed6b2aeea93b",
   "metadata": {},
   "outputs": [],
   "source": [
    "b = a.index(n)"
   ]
  },
  {
   "cell_type": "code",
   "execution_count": 31,
   "id": "6a0016be-0dd4-4abb-b941-eddd726f4ed8",
   "metadata": {},
   "outputs": [
    {
     "name": "stdout",
     "output_type": "stream",
     "text": [
      " The index of 10 is 5\n"
     ]
    }
   ],
   "source": [
    "print(f\" The index of {n} is {b}\")"
   ]
  },
  {
   "cell_type": "markdown",
   "id": "ccd54ab9-ad79-4626-bfa3-f504135fc012",
   "metadata": {},
   "source": [
    "1. Declare a variable a with a list of numbers.\n",
    "2. By using the index function it will find the index of number of times element occurs in the list"
   ]
  },
  {
   "cell_type": "markdown",
   "id": "bdc32f14-e662-48d4-996e-a94bc1aa1ba9",
   "metadata": {},
   "source": [
    "9. Count the occurrences of an element in a list."
   ]
  },
  {
   "cell_type": "code",
   "execution_count": 32,
   "id": "f1bf954a-3a22-45b9-9e2b-106cc39d53ed",
   "metadata": {},
   "outputs": [],
   "source": [
    "a = [1, 2, 4, 5, 6, 10, 20, 10]\n",
    "n = 10"
   ]
  },
  {
   "cell_type": "code",
   "execution_count": 33,
   "id": "b47f4a58-8594-4b94-b050-98d04af7ca43",
   "metadata": {},
   "outputs": [],
   "source": [
    "b = a.count(n)"
   ]
  },
  {
   "cell_type": "code",
   "execution_count": 34,
   "id": "eec1b56b-bb4a-45f7-840a-fda8c95f195b",
   "metadata": {},
   "outputs": [
    {
     "name": "stdout",
     "output_type": "stream",
     "text": [
      " The element 10 occurs 2\n"
     ]
    }
   ],
   "source": [
    "print(f\" The element {n} occurs {b}\")"
   ]
  },
  {
   "cell_type": "markdown",
   "id": "e44918fe-e1d0-48ec-a447-1621bbe462fb",
   "metadata": {},
   "source": [
    "1. Declare a variable a with a list of numbers.\n",
    "2. By using the count function it will count the number of times that element occurs in the list.\n",
    "3. Print the result"
   ]
  },
  {
   "cell_type": "markdown",
   "id": "b893f7cd-3ee0-4b28-8147-ee2132b8c7b8",
   "metadata": {},
   "source": [
    "10. Reverse the order of elements in a list."
   ]
  },
  {
   "cell_type": "code",
   "execution_count": 36,
   "id": "d09bcd98-7432-42e5-b0de-4f3dd63388da",
   "metadata": {},
   "outputs": [],
   "source": [
    "a = [1, 2, 3, 4, 5, 6, 7, 8, 9, 10]"
   ]
  },
  {
   "cell_type": "code",
   "execution_count": 37,
   "id": "4ed7127a-d3dc-4691-b041-182ed5ef0da6",
   "metadata": {},
   "outputs": [
    {
     "data": {
      "text/plain": [
       "[10, 9, 8, 7, 6, 5, 4, 3, 2, 1]"
      ]
     },
     "execution_count": 37,
     "metadata": {},
     "output_type": "execute_result"
    }
   ],
   "source": [
    "a[::-1]"
   ]
  },
  {
   "cell_type": "markdown",
   "id": "a21098dc-e8af-4e09-96cf-c64268bb1210",
   "metadata": {},
   "source": [
    "1. Declare a variable a with a list of numbers.\n",
    "2. By using slicing in the list we are reversing the oreder of the list.\n",
    "3. Print the result"
   ]
  },
  {
   "cell_type": "markdown",
   "id": "b2a5b869-8e61-48df-83fe-d1710c33ce46",
   "metadata": {},
   "source": [
    "11. Sort a list in ascending order."
   ]
  },
  {
   "cell_type": "code",
   "execution_count": 39,
   "id": "7c3fdf78-552e-4b24-b420-364c208895af",
   "metadata": {},
   "outputs": [],
   "source": [
    "a = [10, 9, 8, 7, 6, 5, 4, 3, 2, 1]"
   ]
  },
  {
   "cell_type": "code",
   "execution_count": 40,
   "id": "0605fd78-e2c8-4fae-b80d-84763287c9ff",
   "metadata": {},
   "outputs": [],
   "source": [
    "a.sort()"
   ]
  },
  {
   "cell_type": "code",
   "execution_count": 41,
   "id": "2f86a617-16b5-44bd-b928-f6602104f7cc",
   "metadata": {},
   "outputs": [
    {
     "name": "stdout",
     "output_type": "stream",
     "text": [
      "[1, 2, 3, 4, 5, 6, 7, 8, 9, 10]\n"
     ]
    }
   ],
   "source": [
    "print(a)"
   ]
  },
  {
   "cell_type": "markdown",
   "id": "8ec1c082-39e7-4ced-a5fe-99ab6ff3c417",
   "metadata": {},
   "source": [
    "1. Declare a variable a with a list of numbers.\n",
    "2. By using using the sort function in list it will sort all the numbers which are present insidie the list.\n",
    "3. Print the result"
   ]
  },
  {
   "cell_type": "markdown",
   "id": "4fcf323b-5ec0-42a9-bdfb-8037c2236ead",
   "metadata": {},
   "source": [
    "12. Sort a list in descending order."
   ]
  },
  {
   "cell_type": "code",
   "execution_count": 42,
   "id": "26536d9a-adf3-4440-a0ec-f33c3d17411f",
   "metadata": {},
   "outputs": [],
   "source": [
    "a = [1, 2, 3, 4, 5, 6, 7, 8, 9, 10]"
   ]
  },
  {
   "cell_type": "code",
   "execution_count": 43,
   "id": "4f4a1fd0-cc46-4020-8c43-3666daa3c16e",
   "metadata": {},
   "outputs": [],
   "source": [
    "a.sort(reverse= True)"
   ]
  },
  {
   "cell_type": "code",
   "execution_count": 44,
   "id": "f2f37557-6e94-4033-a56b-f045856966d2",
   "metadata": {},
   "outputs": [
    {
     "name": "stdout",
     "output_type": "stream",
     "text": [
      "[10, 9, 8, 7, 6, 5, 4, 3, 2, 1]\n"
     ]
    }
   ],
   "source": [
    "print(a)"
   ]
  },
  {
   "cell_type": "markdown",
   "id": "1ed2b669-a092-453a-9e88-0c9bb0410973",
   "metadata": {},
   "source": [
    "1. Declare a variable a with a list of numbers.\n",
    "2. By using using the sort function inside the sort function one parameter reverse = false by default we are setting them as True and as an result it will sort the list by descending order.\n",
    "3. Print the result"
   ]
  },
  {
   "cell_type": "markdown",
   "id": "c02cb60b-6b11-4932-b9a3-016b1a120530",
   "metadata": {},
   "source": [
    "13. Create a list of even numbers from 1 to 20."
   ]
  },
  {
   "cell_type": "code",
   "execution_count": 45,
   "id": "8d316c1a-2de9-40ab-9d48-ab019e9997d0",
   "metadata": {},
   "outputs": [],
   "source": [
    "a = []"
   ]
  },
  {
   "cell_type": "code",
   "execution_count": 46,
   "id": "8b4f5611-ffa0-42e1-9518-fed6c95949b6",
   "metadata": {},
   "outputs": [
    {
     "name": "stdout",
     "output_type": "stream",
     "text": [
      "[2, 4, 6, 8, 10, 12, 14, 16, 18, 20]\n"
     ]
    }
   ],
   "source": [
    "for i in range(1,21):\n",
    "    if i%2 == 0:\n",
    "        a.append(i)\n",
    "print(a)"
   ]
  },
  {
   "cell_type": "markdown",
   "id": "9c673dd5-bd54-41e1-8882-0b3a0e120e72",
   "metadata": {},
   "source": [
    "1. Declare a variable a a with a empty list.\n",
    "2. By using for loop and range function.It will iterate through all the numbers in the range between 1,21.\n",
    "3. By applying condition statement for even number if that number is divisble by 2 and having the remainder 0 then only that number will add into that list.\n",
    "4. Print the result."
   ]
  },
  {
   "cell_type": "markdown",
   "id": "5e0b0e94-b474-4428-a18f-adeb36515f30",
   "metadata": {},
   "source": [
    "14. Create a list of odd numbers from 1 to 20."
   ]
  },
  {
   "cell_type": "code",
   "execution_count": 1,
   "id": "a0213de7-4903-4121-896b-eb92ba120a5d",
   "metadata": {},
   "outputs": [],
   "source": [
    "a = []"
   ]
  },
  {
   "cell_type": "code",
   "execution_count": 2,
   "id": "72db3370-68f0-41e1-9b5c-29908135fe21",
   "metadata": {},
   "outputs": [
    {
     "name": "stdout",
     "output_type": "stream",
     "text": [
      "[1, 3, 5, 7, 9, 11, 13, 15, 17, 19]\n"
     ]
    }
   ],
   "source": [
    "for i in range(1,21):\n",
    "    if i%2 != 0:\n",
    "        a.append(i)\n",
    "print(a)"
   ]
  },
  {
   "cell_type": "markdown",
   "id": "d6cbeb28-0052-4e00-9b57-b2065838a5c8",
   "metadata": {},
   "source": [
    "1. Declare a variable a a with a empty list.\n",
    "2. By using for loop and range function.It will iterate through all the numbers in the range between 1,21.\n",
    "3. By applying condition statement for even number if that number is not divisble by 2 and having the remainder 1 then only that number will add into that list.\n",
    "4. Print the result."
   ]
  },
  {
   "cell_type": "markdown",
   "id": "65a6fb7e-0b94-4774-8d30-27110e3590c6",
   "metadata": {},
   "source": [
    "15. Find the sum of all elements in a list."
   ]
  },
  {
   "cell_type": "code",
   "execution_count": 3,
   "id": "caf9fd07-065d-4184-9fe9-0a16775609fb",
   "metadata": {},
   "outputs": [],
   "source": [
    "a = [1, 2, 3, 4, 5, 6, 7, 8, 9, 10]"
   ]
  },
  {
   "cell_type": "code",
   "execution_count": 4,
   "id": "9c94db8e-80cf-4d90-864f-c980123d8201",
   "metadata": {},
   "outputs": [],
   "source": [
    "b = sum(a)"
   ]
  },
  {
   "cell_type": "code",
   "execution_count": 5,
   "id": "dc58b07d-dd71-49ae-b60c-b92fef661240",
   "metadata": {},
   "outputs": [
    {
     "name": "stdout",
     "output_type": "stream",
     "text": [
      "55\n"
     ]
    }
   ],
   "source": [
    "print(b)"
   ]
  },
  {
   "cell_type": "markdown",
   "id": "a1ff64eb-1701-4acd-b71c-027cc8102390",
   "metadata": {},
   "source": [
    "1. Declare a variable a a with a list of numbers.\n",
    "2. By using sum function it will add all numbers which are present inside the list and give us the result.\n",
    "3. Print the result."
   ]
  },
  {
   "cell_type": "markdown",
   "id": "44d76627-dd1f-434b-9eba-16ef327893a5",
   "metadata": {},
   "source": [
    "16. Find the maximum value in a list."
   ]
  },
  {
   "cell_type": "code",
   "execution_count": 6,
   "id": "8ced0d2b-7fec-4dbc-a65c-2c87b371b087",
   "metadata": {},
   "outputs": [],
   "source": [
    "a = [10,20,100,150,50,60,80]"
   ]
  },
  {
   "cell_type": "code",
   "execution_count": 7,
   "id": "943bb36b-6218-4163-bfa5-fa70e75b9f74",
   "metadata": {},
   "outputs": [
    {
     "name": "stdout",
     "output_type": "stream",
     "text": [
      "150\n"
     ]
    }
   ],
   "source": [
    "print(max(a))"
   ]
  },
  {
   "cell_type": "markdown",
   "id": "2b92bcd5-2931-41bb-bd16-48cf8be49d9f",
   "metadata": {},
   "source": [
    "1. Declare a variable a a with a list of numbers.\n",
    "2. By using max function it find that number which is greatest among all which are currently present in the list.\n",
    "3. Print the result."
   ]
  },
  {
   "cell_type": "markdown",
   "id": "2cbf668c-f6ea-49c9-8b6c-4fcff78c30c1",
   "metadata": {},
   "source": [
    "17. Find the minimum value in a list."
   ]
  },
  {
   "cell_type": "code",
   "execution_count": 8,
   "id": "6c1a3893-f43a-4999-9880-ced2f3fceecc",
   "metadata": {},
   "outputs": [],
   "source": [
    "a = [10,20,100,150,50,60,80]"
   ]
  },
  {
   "cell_type": "code",
   "execution_count": 9,
   "id": "5aff3a00-1818-473b-b61a-a9060a1041af",
   "metadata": {},
   "outputs": [
    {
     "name": "stdout",
     "output_type": "stream",
     "text": [
      "10\n"
     ]
    }
   ],
   "source": [
    "print(min(a))"
   ]
  },
  {
   "cell_type": "markdown",
   "id": "aa6a7068-608b-47dc-a218-91b26d9efa9e",
   "metadata": {},
   "source": [
    "1. Declare a variable a a with a list of numbers.\n",
    "2. By using min function it find that number which number is smallest among all which are currently present in the list.\n",
    "3. Print the result."
   ]
  },
  {
   "cell_type": "markdown",
   "id": "b1b36bda-ce6d-49ae-8fad-827d77d237c1",
   "metadata": {},
   "source": [
    "18. Create a list of squares of numbers from 1 to 10."
   ]
  },
  {
   "cell_type": "code",
   "execution_count": 10,
   "id": "d3990fc9-d6d0-46aa-97e1-16e76d8ae0c0",
   "metadata": {},
   "outputs": [],
   "source": [
    "a = []"
   ]
  },
  {
   "cell_type": "code",
   "execution_count": 12,
   "id": "9cc0d320-3aa5-4c4a-b8cf-c90c8c12b556",
   "metadata": {},
   "outputs": [
    {
     "name": "stdout",
     "output_type": "stream",
     "text": [
      "[1, 4, 9, 16, 25, 36, 49, 64, 81, 100]\n"
     ]
    }
   ],
   "source": [
    "for i in range(1,11):\n",
    "    a.append(i**2)\n",
    "print(a)"
   ]
  },
  {
   "cell_type": "markdown",
   "id": "f0560295-8555-465f-8286-eedd60520943",
   "metadata": {},
   "source": [
    "1. Create a empty list inside the variable a.\n",
    "2. By using for loop which is iterating through the range between the numbers 1 to 10.\n",
    "3. In a list the function called append were appending the numbers by using the formulae of power which is i**2 this formulae will convert all numbers into the squares of the numbers and then appended into the lisy.\n",
    "4. Print the result."
   ]
  },
  {
   "cell_type": "markdown",
   "id": "4c3677cb-acc3-4383-9a7a-31eb15a4cc9c",
   "metadata": {},
   "source": [
    "19. Create a list of random numbers."
   ]
  },
  {
   "cell_type": "code",
   "execution_count": 29,
   "id": "144a6a1d-334f-4186-b462-a742dda8b9a6",
   "metadata": {},
   "outputs": [],
   "source": [
    "import random\n",
    "a = []"
   ]
  },
  {
   "cell_type": "code",
   "execution_count": 30,
   "id": "2cf963bc-0dc5-4599-9b31-6f3ddf767688",
   "metadata": {},
   "outputs": [
    {
     "name": "stdout",
     "output_type": "stream",
     "text": [
      "[1, 2, 3, 1, 4, 1, 1, 7, 4, 6, 11, 7, 12, 5, 10, 3, 10, 16, 11]\n"
     ]
    }
   ],
   "source": [
    "for i in range(1,20):\n",
    "    b = random.randint(1,i)\n",
    "    a.append(b)\n",
    "print(a)"
   ]
  },
  {
   "cell_type": "markdown",
   "id": "548bf0ab-5a0d-428f-b6ee-a34c9efe3ed4",
   "metadata": {},
   "source": [
    "1. Create a empty list inside the variable a\n",
    "2. We are importing an library called random\n",
    "3. By using for loop which is iteratating throught the range of numbers between 1 to 20\n",
    "4. Inside the for loop we are again declaring one variable b inside that varible we are using random.randint function.\n",
    "5. How these function work is that it will basically takes the two arguments first is starting position an second is ending position. In these we are starting our number from 1 and ending to i which ia having len of 20\n",
    "6. It will generate an random number after each iteration by using the for loop.\n",
    "7. Using the append function we are appending those numbers into the list\n",
    "8. Print the result"
   ]
  },
  {
   "cell_type": "markdown",
   "id": "27153709-a9f8-4978-afa8-fa22f0872765",
   "metadata": {},
   "source": [
    "20. Remove duplicates from a list."
   ]
  },
  {
   "cell_type": "code",
   "execution_count": 31,
   "id": "f7719630-2eb5-4b50-b862-e8d3c0e01d5d",
   "metadata": {},
   "outputs": [],
   "source": [
    "a = [1, 2, 10, 30, 10, 20, 23, 24]"
   ]
  },
  {
   "cell_type": "code",
   "execution_count": 34,
   "id": "ee461f12-d504-4225-9b40-b17fbcc377e6",
   "metadata": {},
   "outputs": [
    {
     "name": "stdout",
     "output_type": "stream",
     "text": [
      "[1, 2, 10, 30, 20, 23, 24]\n"
     ]
    }
   ],
   "source": [
    "b = []\n",
    "for i in a:\n",
    "    if i not in b:\n",
    "        b.append(i)\n",
    "print(b)"
   ]
  },
  {
   "cell_type": "markdown",
   "id": "3e7362f5-c3be-4a12-bf9b-1711f2e7bd5a",
   "metadata": {},
   "source": [
    "1. Create a list of numbers inside the variable a\n",
    "2. Create another empty list inside the variable b.\n",
    "3. By using for loop it will iterate through all the numbers of list inside a.\n",
    "4. By using conditional statement if any number which is not present in b then and only then will be appending number to that list \n",
    "5. Print the result"
   ]
  },
  {
   "cell_type": "markdown",
   "id": "77af664c-ccbc-46d6-8765-ced118db60e6",
   "metadata": {},
   "source": [
    "21. Find the common elements between two lists."
   ]
  },
  {
   "cell_type": "code",
   "execution_count": 35,
   "id": "ccf9948b-d501-400f-9a7d-7597d509dd00",
   "metadata": {},
   "outputs": [],
   "source": [
    "a = [10, 20, 30, 40, 50, 60]\n",
    "b = [50, 60, 80, 10, 100, 120]"
   ]
  },
  {
   "cell_type": "code",
   "execution_count": 37,
   "id": "8300f85f-88f6-4c81-b136-2c333edf718e",
   "metadata": {},
   "outputs": [
    {
     "name": "stdout",
     "output_type": "stream",
     "text": [
      "[10, 50, 60]\n"
     ]
    }
   ],
   "source": [
    "common_element = []\n",
    "for i in a:\n",
    "    if i in b:\n",
    "        common_element.append(i)\n",
    "print(common_element)"
   ]
  },
  {
   "cell_type": "markdown",
   "id": "98e3eab7-3de7-471e-9dac-8175d10c43fb",
   "metadata": {},
   "source": [
    "1. Create two list. One list of number are created inside the variable a and another list is created inside the variable b\n",
    "2. Created a empty list called common_element.\n",
    "3. By using for loop it will iterate through all the elements inside the first which is variable a.\n",
    "4. By using the conditional statement if any element is present inside the second list which variable b.\n",
    "5. If that variable is present then it will append that element to the common_element variable.\n",
    "6. Print the result"
   ]
  },
  {
   "cell_type": "markdown",
   "id": "d4c40699-7590-4e38-ad88-e6e988ed11a9",
   "metadata": {},
   "source": [
    "22. Find the difference between two lists."
   ]
  },
  {
   "cell_type": "code",
   "execution_count": 38,
   "id": "a56a18e1-924c-48ed-8f9a-4b1c34e8a35c",
   "metadata": {},
   "outputs": [],
   "source": [
    "a = [10, 20, 30, 40, 50, 60]\n",
    "b = [50, 60, 80, 10, 100, 120]"
   ]
  },
  {
   "cell_type": "code",
   "execution_count": 42,
   "id": "541d6f5f-4e22-4ab9-ae25-2cbfdf7f82fc",
   "metadata": {},
   "outputs": [],
   "source": [
    "difference_list = list(set(a).difference(b))"
   ]
  },
  {
   "cell_type": "code",
   "execution_count": 43,
   "id": "60f853e4-f6dd-4b28-a0dc-0685b8360fda",
   "metadata": {},
   "outputs": [
    {
     "name": "stdout",
     "output_type": "stream",
     "text": [
      "[20, 40, 30]\n"
     ]
    }
   ],
   "source": [
    "print(difference_list)"
   ]
  },
  {
   "cell_type": "markdown",
   "id": "22d1af08-706a-4746-a6ee-482384adf1fe",
   "metadata": {},
   "source": [
    "1. Create a two list one list inside the variable a and second list inside the variable b.\n",
    "2. Declaring another variable called difference list we are using list data type conversion and then we are converting first list into the set and by using the difference mehtod in set if any number which does not contain in another list.\n",
    "3. Then that number will remain in that list and print the result."
   ]
  },
  {
   "cell_type": "markdown",
   "id": "433fbb43-34ed-41c9-96be-ec4f47e36a3d",
   "metadata": {},
   "source": [
    "23. Merge two lists."
   ]
  },
  {
   "cell_type": "code",
   "execution_count": 48,
   "id": "5fcdebfe-8a10-4eb3-bf4c-98ec51848a6e",
   "metadata": {},
   "outputs": [],
   "source": [
    "a = [10, 20, 30, 40, 50, 60]\n",
    "b = [50, 60, 80, 10, 100, 120]"
   ]
  },
  {
   "cell_type": "code",
   "execution_count": 49,
   "id": "01e167a4-fe8d-44cd-87b8-bbce701dfce6",
   "metadata": {},
   "outputs": [
    {
     "name": "stdout",
     "output_type": "stream",
     "text": [
      "[10, 20, 30, 40, 50, 60, 50, 60, 80, 10, 100, 120]\n"
     ]
    }
   ],
   "source": [
    "c = a + b\n",
    "print(c)"
   ]
  },
  {
   "cell_type": "markdown",
   "id": "cde88c04-a5d9-4587-b883-c7ed75fd3ef3",
   "metadata": {},
   "source": [
    "1. Create a two list inside the variable a and variable b\n",
    "2. Declare the another variable called c and inside that variable we are adding the two list i.e a and b \n",
    "3. Print the result "
   ]
  },
  {
   "cell_type": "markdown",
   "id": "b6a8b836-91d0-440a-9dce-6a48c62d9321",
   "metadata": {},
   "source": [
    "24. Multiply all elements in a list by 2."
   ]
  },
  {
   "cell_type": "code",
   "execution_count": 50,
   "id": "b86deb68-1bcb-4537-aef1-3e1e065aec9b",
   "metadata": {},
   "outputs": [],
   "source": [
    "a = [10, 20, 30, 40, 50, 60]"
   ]
  },
  {
   "cell_type": "code",
   "execution_count": 51,
   "id": "208a2cfb-f981-42a6-bd64-5662d918d26f",
   "metadata": {},
   "outputs": [
    {
     "name": "stdout",
     "output_type": "stream",
     "text": [
      "[20, 40, 60, 80, 100, 120]\n"
     ]
    }
   ],
   "source": [
    "b = []\n",
    "for i in a:\n",
    "    b.append(i*2)\n",
    "print(b)"
   ]
  },
  {
   "cell_type": "markdown",
   "id": "6e9d7753-c1a9-4414-94c9-467285c03977",
   "metadata": {},
   "source": [
    "1. Create a list of numbers inside the variable a\n",
    "2. Create a empty list inside the variable b.\n",
    "3. By using for loop it will iterating through all the list inside the variable a.\n",
    "4. It will append and also that number will be multiply 2 and stored into the list of variable b\n",
    "5. Print the result"
   ]
  },
  {
   "cell_type": "markdown",
   "id": "ba041265-a3ea-4eb7-83b2-740816a9f37c",
   "metadata": {},
   "source": [
    "25. Filter out all even numbers from a list."
   ]
  },
  {
   "cell_type": "code",
   "execution_count": 1,
   "id": "8efec7bb-fe4f-419a-b1d1-84462270b321",
   "metadata": {},
   "outputs": [],
   "source": [
    "a = [33, 60, 80, 55, 100, 90]"
   ]
  },
  {
   "cell_type": "code",
   "execution_count": 2,
   "id": "38c87442-f23e-4445-bed3-8b5b9d420f4a",
   "metadata": {},
   "outputs": [],
   "source": [
    "b = []"
   ]
  },
  {
   "cell_type": "code",
   "execution_count": 3,
   "id": "688cc582-159b-485f-8842-812b85399084",
   "metadata": {},
   "outputs": [
    {
     "name": "stdout",
     "output_type": "stream",
     "text": [
      "[60, 80, 100, 90]\n"
     ]
    }
   ],
   "source": [
    "for i in a:\n",
    "    if i%2 == 0:\n",
    "        b.append(i)\n",
    "print(b)"
   ]
  },
  {
   "cell_type": "markdown",
   "id": "a1f06551-9505-49ea-b4ee-4b279150b8ff",
   "metadata": {},
   "source": [
    "1. Create a list of numbers inside the variable a\n",
    "2. Create a empty list inside the variable b.\n",
    "3. By using for loop we are itering through all the numbers in the list and then using conditional if the number is divisible by 2 and having remainder 0 then only we will append that number into the list inside the variable b.\n",
    "4. Print the result"
   ]
  },
  {
   "cell_type": "markdown",
   "id": "b70bd656-df3b-4bb5-a432-a5b607db9373",
   "metadata": {},
   "source": [
    "26. Convert a list of strings to a list of integers."
   ]
  },
  {
   "cell_type": "code",
   "execution_count": 4,
   "id": "d3c684d2-001d-4b5d-858c-d1e67c8d673d",
   "metadata": {},
   "outputs": [],
   "source": [
    "a = ['1', '2', '3', '4', '5', '6', '7', '8', '9', '10']"
   ]
  },
  {
   "cell_type": "code",
   "execution_count": 7,
   "id": "888b6a15-51b7-43c1-8fe6-2749a6f518da",
   "metadata": {},
   "outputs": [
    {
     "name": "stdout",
     "output_type": "stream",
     "text": [
      "[1, 2, 3, 4, 5, 6, 7, 8, 9, 10]\n"
     ]
    }
   ],
   "source": [
    "b = []\n",
    "for i in a:\n",
    "    b.append(int(i))\n",
    "print(b)"
   ]
  },
  {
   "cell_type": "markdown",
   "id": "4dae4d5b-1038-479f-a9e0-abb35f5da0b1",
   "metadata": {},
   "source": [
    "1. Create a list of number which having data type of string.\n",
    "2. Create an another list which is an empty list.\n",
    "3. By using for loop it will iterating through all the elements in the list and then by using int function we are converting all the elements into an integers and then appending the elment into list inside variable b.\n",
    "4. Print the result"
   ]
  },
  {
   "cell_type": "markdown",
   "id": "d96cb71a-cd20-4d07-9164-e1678fdb4344",
   "metadata": {},
   "source": [
    "27. Convert a list of integers to a list of strings."
   ]
  },
  {
   "cell_type": "code",
   "execution_count": 8,
   "id": "5172d4dc-ef92-4175-bee6-2bc736098337",
   "metadata": {},
   "outputs": [],
   "source": [
    "a = [1, 2, 3, 4, 5, 6, 7, 8, 9, 10]"
   ]
  },
  {
   "cell_type": "code",
   "execution_count": 9,
   "id": "75ec76ac-aeaf-4699-a12d-79bd1acff279",
   "metadata": {},
   "outputs": [
    {
     "name": "stdout",
     "output_type": "stream",
     "text": [
      "['1', '2', '3', '4', '5', '6', '7', '8', '9', '10']\n"
     ]
    }
   ],
   "source": [
    "b = []\n",
    "for i in a:\n",
    "    b.append(str(i))\n",
    "print(b)"
   ]
  },
  {
   "cell_type": "markdown",
   "id": "0b8bb002-f4f3-4653-90e6-237b8e4c2241",
   "metadata": {},
   "source": [
    "1. Create a list of number which having data type of string.\n",
    "2. Create an another list which is an empty list.\n",
    "3. By using for loop it will iterating through all the elements in the list and then by using str function we are converting all the elements into an string and then appending the elment into list inside variable b.\n",
    "4. Print the result"
   ]
  },
  {
   "cell_type": "markdown",
   "id": "01e81304-5e02-4426-8553-3f7109499d41",
   "metadata": {},
   "source": [
    "28. Flatten a nested list."
   ]
  },
  {
   "cell_type": "code",
   "execution_count": 57,
   "id": "fb22a24b-71b9-44a3-a862-24f358d7a77a",
   "metadata": {},
   "outputs": [],
   "source": [
    "a = [[1, 2, 3],[4, 5],[6, 7, 8]]"
   ]
  },
  {
   "cell_type": "code",
   "execution_count": 58,
   "id": "70b5f668-fc8e-4060-9071-956e0e4d228d",
   "metadata": {},
   "outputs": [
    {
     "name": "stdout",
     "output_type": "stream",
     "text": [
      "[1, 2, 3, 4, 5, 6, 7, 8]\n"
     ]
    }
   ],
   "source": [
    "clean_list = []\n",
    "for i in a:\n",
    "    clean_list += i\n",
    "print(clean_list)"
   ]
  },
  {
   "cell_type": "markdown",
   "id": "37648d09-0354-4494-a226-681b5f1f6986",
   "metadata": {},
   "source": [
    "1. Created a nested list inside the variable a \n",
    "2. Create another empty list inside the variable called clean_list\n",
    "3. By using the for loop it will iterating all the numbers inside variable a and then that number will be adding to clean_list.\n",
    "4. Print the result"
   ]
  },
  {
   "cell_type": "markdown",
   "id": "3c664531-ab70-4595-9b88-3ffbf9817788",
   "metadata": {},
   "source": [
    "29. Create a list of the first 10 Fibonacci numbers."
   ]
  },
  {
   "cell_type": "code",
   "execution_count": 144,
   "id": "acb58f3a-8d5e-4b54-9d40-1e47fd4438bf",
   "metadata": {},
   "outputs": [],
   "source": [
    "fibonacci_list = []"
   ]
  },
  {
   "cell_type": "code",
   "execution_count": 145,
   "id": "d50587ca-0192-431e-95e2-5397b237d7ce",
   "metadata": {},
   "outputs": [
    {
     "name": "stdout",
     "output_type": "stream",
     "text": [
      "[0, 1, 1, 2, 3, 5, 8, 13, 21, 34, 55]\n"
     ]
    }
   ],
   "source": [
    "a, b = 0, 1\n",
    "for i in range(11):\n",
    "    fibonacci_list.append(a)\n",
    "    a,b = b, a+b\n",
    "print(fibonacci_list)"
   ]
  },
  {
   "cell_type": "markdown",
   "id": "cce6ea71-e7ff-4a9f-93e5-7a287bdf17a2",
   "metadata": {},
   "source": [
    "1. Create a empty list inside the variable called fibonacci_list\n",
    "2. For initialization we created two more variables a and b and assign the value 0 and 1\n",
    "3. By using for loop with in the range of 1 to 10 we are adding first number i.e inside variable a and then we are iterating the for loop 10 times\n",
    "4. We update the values of a and b to calculate the next Fibonacci number. This is done by swapping the values: a becomes b and b becomes the sum of the previous a and b.\n",
    "5. Print the result"
   ]
  },
  {
   "cell_type": "markdown",
   "id": "e00fee68-ee5f-43ac-95c9-bf65c84fdb92",
   "metadata": {},
   "source": [
    "30. Check if a list is sorted."
   ]
  },
  {
   "cell_type": "code",
   "execution_count": 21,
   "id": "3e34f781-05da-427d-b868-14e6cbe608ed",
   "metadata": {},
   "outputs": [],
   "source": [
    "a = [1, 2, 3, 4, 5, 6, 7, 8, 9, 10]"
   ]
  },
  {
   "cell_type": "code",
   "execution_count": 22,
   "id": "355a26a2-c396-4b61-810a-a5e6bb1d0a1c",
   "metadata": {},
   "outputs": [
    {
     "name": "stdout",
     "output_type": "stream",
     "text": [
      "These list is a sorted list\n"
     ]
    }
   ],
   "source": [
    "if a == sorted(a):\n",
    "    print('These list is a sorted list')\n",
    "else:\n",
    "    print('These list is not a sort list')"
   ]
  },
  {
   "cell_type": "markdown",
   "id": "1ad9e455-f89c-4ecb-818c-165054bf8b1e",
   "metadata": {},
   "source": [
    "1. Create a number of list inside the variable a\n",
    "2. By using conditional statement if our list a and sorted(a) is same then these list contains a sorted list other wise these list does not contain the sorted list."
   ]
  },
  {
   "cell_type": "markdown",
   "id": "c8d8e8d5-b197-4ebb-af9b-1996afd3481d",
   "metadata": {},
   "source": [
    "31. Rotate a list to the left by `n` positions."
   ]
  },
  {
   "cell_type": "code",
   "execution_count": 29,
   "id": "3a6e3bf3-b579-41c8-a423-de46573a932d",
   "metadata": {},
   "outputs": [],
   "source": [
    "a = [1, 2, 3, 4, 5, 6, 7]\n",
    "n = 2 % len(a)"
   ]
  },
  {
   "cell_type": "code",
   "execution_count": 30,
   "id": "17e204f2-1378-4058-9592-2d699996cd86",
   "metadata": {},
   "outputs": [],
   "source": [
    "rotate = a[n:] + a[:n]"
   ]
  },
  {
   "cell_type": "code",
   "execution_count": 31,
   "id": "05d0e04c-653e-42cf-b1e6-700847083512",
   "metadata": {},
   "outputs": [
    {
     "name": "stdout",
     "output_type": "stream",
     "text": [
      "[3, 4, 5, 6, 7, 1, 2]\n"
     ]
    }
   ],
   "source": [
    "print(rotate)"
   ]
  },
  {
   "cell_type": "markdown",
   "id": "964c579c-750f-4826-ad46-44a2a37e5ab2",
   "metadata": {},
   "source": [
    "1. Create a list of numbers inside the variable a \n",
    "2. create another variable n inside that variable we are defining one formulae i.e n% len(list)\n",
    "3. By using rotate variable we are using n as an varible in which the user will input accordint to that number it will rotate list from the left side\n",
    "4. Print the result."
   ]
  },
  {
   "cell_type": "markdown",
   "id": "bd312340-7c56-4c48-8829-3cd042e71bd5",
   "metadata": {},
   "source": [
    "32. Rotate a list to the right by `n` positions."
   ]
  },
  {
   "cell_type": "code",
   "execution_count": 32,
   "id": "ae6a0476-dc33-4dbd-9ec4-672bb6c37bd2",
   "metadata": {},
   "outputs": [],
   "source": [
    "a = [1, 2, 3, 4, 5, 6, 7]\n",
    "n = 2 % len(a)"
   ]
  },
  {
   "cell_type": "code",
   "execution_count": 34,
   "id": "01fc2e32-dbda-40cc-9494-afe2c853a659",
   "metadata": {},
   "outputs": [
    {
     "name": "stdout",
     "output_type": "stream",
     "text": [
      "[6, 7, 1, 2, 3, 4, 5]\n"
     ]
    }
   ],
   "source": [
    "rotate = a[-n:] + a[:-n]\n",
    "print(rotate)"
   ]
  },
  {
   "cell_type": "markdown",
   "id": "ff148a9d-0d30-4183-9dcd-5daa6d943e49",
   "metadata": {},
   "source": [
    "1. Create a list of numbers inside the variable a \n",
    "2. create another variable n inside that variable we are defining one formulae i.e n% len(list)\n",
    "3. By using rotate variable we are using n as an varible in which the user will input according to that number it will rotate list from the right side\n",
    "4. Print the result."
   ]
  },
  {
   "cell_type": "markdown",
   "id": "a50128f8-d171-40d1-b376-f98a51480484",
   "metadata": {},
   "source": [
    "33. Create a list of prime numbers up to 50."
   ]
  },
  {
   "cell_type": "code",
   "execution_count": 114,
   "id": "07cd546c-13dc-41ed-8a34-64f098b6a5c4",
   "metadata": {},
   "outputs": [
    {
     "name": "stdout",
     "output_type": "stream",
     "text": [
      "Tuple of the first 50 prime numbers: [2, 3, 5, 7, 11, 13, 17, 19, 23, 29, 31, 37, 41, 43, 47]\n"
     ]
    }
   ],
   "source": [
    "def is_prime(num):\n",
    "    if num <= 1:\n",
    "        return False\n",
    "    for i in range(2, int(num ** 0.5) + 1):\n",
    "        if num % i == 0:\n",
    "            return False\n",
    "    return True\n",
    "\n",
    "prime_numbers_list = [num for num in range(2, 50) if is_prime(num)]\n",
    "\n",
    "print(\"Tuple of the first 50 prime numbers:\", prime_numbers_list)"
   ]
  },
  {
   "cell_type": "markdown",
   "id": "d7582d81-ca13-4b78-8791-3352508ca9d5",
   "metadata": {},
   "source": [
    "1. Create a function called is_prime \n",
    "2. Inside that function we have given a 1 argument num\n",
    "3. Inside the function if any number is less than 1 then it is not a prime and similarly if any number is divisible by another number and having remainder 0 then that number is not a prime number \n",
    "4. These function will check if these number is prime number or not \n",
    "5. By using list comprehension it will go into the range of 2 to 50 and we check that number is prime number or not \n",
    "6. If that number is prime number then we add into the list if not we will not add into the list."
   ]
  },
  {
   "cell_type": "markdown",
   "id": "4210a16f-534d-43bd-9215-beac7fafcd61",
   "metadata": {},
   "source": [
    "34. Split a list into chunks of size `n`."
   ]
  },
  {
   "cell_type": "code",
   "execution_count": 61,
   "id": "2784213e-007e-43d5-9f18-a3bf2ebc1953",
   "metadata": {},
   "outputs": [],
   "source": [
    "n = 50\n",
    "a = []"
   ]
  },
  {
   "cell_type": "code",
   "execution_count": 63,
   "id": "c090bdc8-221b-4a20-b1d0-c94b18293373",
   "metadata": {},
   "outputs": [
    {
     "name": "stdout",
     "output_type": "stream",
     "text": [
      "[1, 2, 3, 4, 5, 6, 7, 8, 9, 10, 11, 12, 13, 14, 15, 16, 17, 18, 19, 20, 21, 22, 23, 24, 25, 26, 27, 28, 29, 30, 31, 32, 33, 34, 35, 36, 37, 38, 39, 40, 41, 42, 43, 44, 45, 46, 47, 48, 49]\n"
     ]
    }
   ],
   "source": [
    "for i in range(1,n):\n",
    "    a.append(i)\n",
    "print(a)"
   ]
  },
  {
   "cell_type": "markdown",
   "id": "035eff11-aa40-4f65-8a9e-d025b3e6ac6e",
   "metadata": {},
   "source": [
    "1. Declaring a varibale called n which is taking input from the user\n",
    "2. Createing a empty list inside the variablem called a\n",
    "3. By using for loop in range of n in which user will enter the input and iterating through all the numbers within a range.\n",
    "4. After that we appending list into smaller size chunks and print the result"
   ]
  },
  {
   "cell_type": "markdown",
   "id": "164a2470-190b-409e-a1ce-0b873741f969",
   "metadata": {},
   "source": [
    "35. Find the second largest number in a list."
   ]
  },
  {
   "cell_type": "code",
   "execution_count": 85,
   "id": "2387fa7e-934a-470b-a63d-28681573331b",
   "metadata": {},
   "outputs": [],
   "source": [
    "a = [50, 60 , 100, 90, 80, 70, 30]"
   ]
  },
  {
   "cell_type": "code",
   "execution_count": 87,
   "id": "3c51b63c-8a84-44f5-9b95-5a89518d9022",
   "metadata": {},
   "outputs": [
    {
     "name": "stdout",
     "output_type": "stream",
     "text": [
      "The second largest number is 90\n"
     ]
    }
   ],
   "source": [
    "largest_number = 0\n",
    "second_number = 0\n",
    "for i in a:\n",
    "    if i > largest_number:\n",
    "        largest_number = i\n",
    "    elif i > second_number and second_number < largest_number:\n",
    "        second_number = i\n",
    "print(f'The second largest number is {second_number}')"
   ]
  },
  {
   "cell_type": "markdown",
   "id": "916650e5-aacd-4178-9a54-f8cd1bd09a35",
   "metadata": {},
   "source": [
    "1. Create a list of numbers inside the variable a\n",
    "2. Declaring two more variables first largest number and second is second_largest_number \n",
    "3. By using for loop in list of variable a it will iterate through all the characters inside the variable a and then first we find out the largest numbber by using conditional statement in for loop\n",
    "4. If we found out the largest number then we are using elif statement in that elif statement if any number is greater than second number and also if that number is less than the largest number than only store that number into the second_largest_number.\n",
    "5. print the result "
   ]
  },
  {
   "cell_type": "markdown",
   "id": "e28b7d92-26ba-46c1-97d0-2e56d283ddcb",
   "metadata": {},
   "source": [
    "36. Replace every element in a list with its square."
   ]
  },
  {
   "cell_type": "code",
   "execution_count": 172,
   "id": "a67b36fe-b89a-42af-8714-9c22fc8300a9",
   "metadata": {},
   "outputs": [],
   "source": [
    "a = [1, 2, 3, 4, 5, 6, 7, 8, 9, 10]"
   ]
  },
  {
   "cell_type": "code",
   "execution_count": 177,
   "id": "e4dabd06-fee0-40fc-ae58-4d321bd35d90",
   "metadata": {},
   "outputs": [
    {
     "name": "stdout",
     "output_type": "stream",
     "text": [
      "[1, 4, 9, 16, 25, 36, 49, 64, 81, 100]\n"
     ]
    }
   ],
   "source": [
    "squared_list = []\n",
    "for i in a:\n",
    "    squared_list.append(i ** 2)\n",
    "print(squared_list)"
   ]
  },
  {
   "cell_type": "markdown",
   "id": "a6d5f230-dec2-41b4-8909-a00049715859",
   "metadata": {},
   "source": [
    "1. Create a list number inside the variable a\n",
    "2. Create an empty list inside the variable squared_list\n",
    "3. By using for loop it will iterating through all the element inside the variable a and then appending that number inside that squared_list.\n",
    "4. Print the result"
   ]
  },
  {
   "cell_type": "markdown",
   "id": "075e9f22-a743-49d5-9648-fb9b636f8c05",
   "metadata": {},
   "source": [
    "37. Convert a list to a dictionary where list elements become keys and their\n",
    "indices become values."
   ]
  },
  {
   "cell_type": "code",
   "execution_count": 201,
   "id": "f5320d83-ce17-4f0b-8e22-62ac4998848a",
   "metadata": {},
   "outputs": [],
   "source": [
    "a = ['apple', 'banana', 'mango', 'orange']\n",
    "b = {}"
   ]
  },
  {
   "cell_type": "code",
   "execution_count": 202,
   "id": "21062f57-143f-406f-8526-ca79bc4263b2",
   "metadata": {},
   "outputs": [
    {
     "name": "stdout",
     "output_type": "stream",
     "text": [
      "{'apple': 0, 'banana': 1, 'mango': 2, 'orange': 3}\n"
     ]
    }
   ],
   "source": [
    "for i in a:\n",
    "    b[i] = a.index(i)\n",
    "print(b)"
   ]
  },
  {
   "cell_type": "markdown",
   "id": "91bd96a4-f512-40ec-96b4-8f2e6fdcb80d",
   "metadata": {},
   "source": [
    "1. Create a list of strings inside the variable a\n",
    "2. Create an empty dictionary inside the variable b\n",
    "3. By using the for loop we are giving key and and value to the dictionary after each element in the list and the value should be there indexing number \n",
    "4. print the result"
   ]
  },
  {
   "cell_type": "markdown",
   "id": "01024920-806b-446a-863c-244fa3931f88",
   "metadata": {},
   "source": [
    "38. Shuffle the elements of a list randomly."
   ]
  },
  {
   "cell_type": "code",
   "execution_count": 203,
   "id": "2c1f6384-2610-4dab-b55f-8702137615b1",
   "metadata": {},
   "outputs": [],
   "source": [
    "import random \n",
    "a = [1, 2, 3, 4, 5, 6, 7, 8, 9, 10]"
   ]
  },
  {
   "cell_type": "code",
   "execution_count": 205,
   "id": "8ad1ede3-6e33-4656-a92c-0cd4dbabde8d",
   "metadata": {},
   "outputs": [
    {
     "name": "stdout",
     "output_type": "stream",
     "text": [
      "[6, 5, 8, 10, 7, 3, 4, 2, 9, 1]\n"
     ]
    }
   ],
   "source": [
    "random.shuffle(a)\n",
    "print(a)"
   ]
  },
  {
   "cell_type": "markdown",
   "id": "466d26b4-5eaa-4ef6-92e9-e771ae9c305d",
   "metadata": {},
   "source": [
    "1. Create a list of numbers inside the variable a \n",
    "2. Import the random module\n",
    "3. By using random module function i.e random.shuffle function it will shuffle all the elements inside the lisg\n",
    "4. Print the result"
   ]
  },
  {
   "cell_type": "markdown",
   "id": "9089a535-a6ec-411f-ad71-293ce618b29f",
   "metadata": {},
   "source": [
    "39. Create a list of the first 10 factorial numbers."
   ]
  },
  {
   "cell_type": "code",
   "execution_count": 211,
   "id": "48937548-6ab6-4702-827c-4e92b9c939c2",
   "metadata": {},
   "outputs": [],
   "source": [
    "import math\n",
    "a = []"
   ]
  },
  {
   "cell_type": "code",
   "execution_count": 212,
   "id": "767acfaf-b3a1-4d3f-befe-f961100d106f",
   "metadata": {},
   "outputs": [
    {
     "name": "stdout",
     "output_type": "stream",
     "text": [
      "[1, 1, 2, 6, 24, 120, 720, 5040, 40320, 362880]\n"
     ]
    }
   ],
   "source": [
    "for i in range(10):\n",
    "    b =  math.factorial(i)\n",
    "    a.append(b)\n",
    "print(a)\n",
    "    "
   ]
  },
  {
   "cell_type": "markdown",
   "id": "b44a2895-5c4d-46ed-a8f2-a775cf5ba88a",
   "metadata": {},
   "source": [
    "1. Create a empty list inside the variable a\n",
    "2. Importing the math module\n",
    "3. By using for loop within the range of 10 it will iterate through all the numbers within the range of 0 to 10 numbers\n",
    "4. In math module there is an function called math.factorial by using these function inside the variable b we are calculating all the factorial numbers within the range of 10\n",
    "5. We are appending those calculated factorial numbers into the list of variable a \n",
    "6. Print the result "
   ]
  },
  {
   "cell_type": "markdown",
   "id": "70a4f57d-f8bf-4842-bccf-b7fbd9e4cc91",
   "metadata": {},
   "source": [
    "40. Check if two lists have at least one element in common."
   ]
  },
  {
   "cell_type": "code",
   "execution_count": 215,
   "id": "0f188899-b846-4fc1-b66a-4547aec17a95",
   "metadata": {},
   "outputs": [],
   "source": [
    "a = [2, 4, 6, 8]\n",
    "b = [3, 5, 8, 10]"
   ]
  },
  {
   "cell_type": "code",
   "execution_count": 216,
   "id": "cef81aec-e5db-4f55-9d1f-80d31f86f703",
   "metadata": {},
   "outputs": [
    {
     "name": "stdout",
     "output_type": "stream",
     "text": [
      "8\n"
     ]
    }
   ],
   "source": [
    "for i in a:\n",
    "    if i in b:\n",
    "        print(i)"
   ]
  },
  {
   "cell_type": "markdown",
   "id": "ad9446ed-c226-4643-80d7-7be1d0d8170f",
   "metadata": {},
   "source": [
    "1. Create a two list of numbers.\n",
    "2. By using for loop in one of the list it will iterate through all the elements inside the list\n",
    "3. By using conditional statement if any number in a is present inside another list if these condition true then it will print that common element."
   ]
  },
  {
   "cell_type": "markdown",
   "id": "26d390a0-865e-4bc6-88de-0edc01275ab6",
   "metadata": {},
   "source": [
    "41. Remove all elements from a list."
   ]
  },
  {
   "cell_type": "code",
   "execution_count": 220,
   "id": "ea1780a8-2184-48b1-bc73-c38788cd6a72",
   "metadata": {},
   "outputs": [],
   "source": [
    "a = [1, 2, 3, 4, 5, 6, 7, 8, 9, 10]"
   ]
  },
  {
   "cell_type": "code",
   "execution_count": 219,
   "id": "85965f00-3291-40d7-9e26-c752b5bad065",
   "metadata": {},
   "outputs": [
    {
     "name": "stdout",
     "output_type": "stream",
     "text": [
      "[]\n"
     ]
    }
   ],
   "source": [
    "a.clear()\n",
    "print(a)"
   ]
  },
  {
   "cell_type": "markdown",
   "id": "d72fa5b7-0c8b-4566-98ae-0a62f6448cf8",
   "metadata": {},
   "source": [
    "1. create a list of numbers inside the variable a\n",
    "2. In list there is an method called clear it will clear all the elements inside the list but the list will remain as it is it will not delete the list."
   ]
  },
  {
   "cell_type": "markdown",
   "id": "80f7f50a-aa5e-4f5a-8ce6-63b821015969",
   "metadata": {},
   "source": [
    "42. Replace negative numbers in a list with 0."
   ]
  },
  {
   "cell_type": "code",
   "execution_count": 235,
   "id": "880a34cb-0788-4d98-b18e-3a8cfa585fb7",
   "metadata": {},
   "outputs": [],
   "source": [
    "a = [1, 2, 3, -1, 6, 7]"
   ]
  },
  {
   "cell_type": "code",
   "execution_count": 237,
   "id": "99717d08-9cd4-4182-a949-26b99ceebc1c",
   "metadata": {},
   "outputs": [
    {
     "name": "stdout",
     "output_type": "stream",
     "text": [
      "[1, 2, 3, 0, 6, 7]\n"
     ]
    }
   ],
   "source": [
    "for i in range(len(a)):\n",
    "    if a[i] < 0:\n",
    "        a[i] = 0\n",
    "print(a)"
   ]
  },
  {
   "cell_type": "markdown",
   "id": "b875e792-608f-4173-9886-cc5d3542075c",
   "metadata": {},
   "source": [
    "1. Create a list of number inside the variable a \n",
    "2. By using for loop in range of len(list) it will give the index number of that list.\n",
    "3. By using conditional statement if any number at that index i less than 0 then that number should be equal 0 at that index\n",
    "4. Print the result "
   ]
  },
  {
   "cell_type": "markdown",
   "id": "1be6976f-6a06-412d-9041-48207dc13869",
   "metadata": {},
   "source": [
    "43. Convert a string into a list of words."
   ]
  },
  {
   "cell_type": "code",
   "execution_count": 238,
   "id": "9bdbefcc-853a-41a0-8300-1cd31dd617ac",
   "metadata": {},
   "outputs": [],
   "source": [
    "a = \"Python\""
   ]
  },
  {
   "cell_type": "code",
   "execution_count": 239,
   "id": "7fd4ec09-2efc-4aa1-a602-9458050ea4d7",
   "metadata": {},
   "outputs": [
    {
     "name": "stdout",
     "output_type": "stream",
     "text": [
      "['P', 'y', 't', 'h', 'o', 'n']\n"
     ]
    }
   ],
   "source": [
    "b = list(a)\n",
    "print(b)"
   ]
  },
  {
   "cell_type": "markdown",
   "id": "34b73e29-dc21-4158-9335-201e07cc95c1",
   "metadata": {},
   "source": [
    "1. Declare a variable a inside that variable we are defining a string.\n",
    "2. By using type conversion method it will directly convert the string into list by typing list(a)\n",
    "3. Print the result "
   ]
  },
  {
   "cell_type": "markdown",
   "id": "8d6cb9f4-fd4c-4ea5-b570-71f5e8948ba2",
   "metadata": {},
   "source": [
    "44. Convert a list of words into a string."
   ]
  },
  {
   "cell_type": "code",
   "execution_count": 248,
   "id": "1f48c77c-8969-45a9-88ab-0913035a698c",
   "metadata": {},
   "outputs": [],
   "source": [
    "a = ['P', 'y', 't', 'h', 'o', 'n']"
   ]
  },
  {
   "cell_type": "code",
   "execution_count": 252,
   "id": "2abcb369-e450-41f4-af3f-24b98a5d7ff7",
   "metadata": {},
   "outputs": [
    {
     "name": "stdout",
     "output_type": "stream",
     "text": [
      "Python\n"
     ]
    }
   ],
   "source": [
    "b = ''.join(a)\n",
    "print(b)"
   ]
  },
  {
   "cell_type": "markdown",
   "id": "2724cade-e8ba-4226-93eb-64bb4b270b5c",
   "metadata": {},
   "source": [
    "1. Declare a variable a inside that variable we are defining a string.\n",
    "2. By using .join function it will join all the characters inside the list and then it will convert the list into string.\n",
    "3. Print the result "
   ]
  },
  {
   "cell_type": "markdown",
   "id": "92b0064c-f32d-4f6e-b07c-ea4319e69ab5",
   "metadata": {},
   "source": [
    "45. Create a list of the first `n` powers of 2."
   ]
  },
  {
   "cell_type": "code",
   "execution_count": 256,
   "id": "abfa791b-a49f-4531-bc1a-596e3d093fc5",
   "metadata": {},
   "outputs": [],
   "source": [
    "n = 5\n",
    "a = []"
   ]
  },
  {
   "cell_type": "code",
   "execution_count": 257,
   "id": "a6646ab4-26c0-4b7c-902e-89cb9b21280f",
   "metadata": {},
   "outputs": [
    {
     "name": "stdout",
     "output_type": "stream",
     "text": [
      "[1, 4, 9, 16]\n"
     ]
    }
   ],
   "source": [
    "for i in range(1,n):\n",
    "    a.append(i**2)\n",
    "print(a)"
   ]
  },
  {
   "cell_type": "markdown",
   "id": "2bab3d53-ad21-441a-9c50-80c5e33213e6",
   "metadata": {},
   "source": [
    "1. Create a variable called n which take input from the user.\n",
    "2. Create a empty list inside the variable a\n",
    "3. By using for loop in the range of 1 to variable n which is taken from the user and it will iterate all numbers in that range.\n",
    "4. It is appending all numbers of squares to the list of a."
   ]
  },
  {
   "cell_type": "markdown",
   "id": "39172d93-1101-4178-ac31-cd5e9c1bc5b4",
   "metadata": {},
   "source": [
    "46. Find the longest string in a list of strings."
   ]
  },
  {
   "cell_type": "code",
   "execution_count": 1,
   "id": "74e3624a-1f7f-4ba9-8515-9f18e7733fa9",
   "metadata": {},
   "outputs": [],
   "source": [
    "a = ['Python', 'Java', 'Scala', 'Julia']"
   ]
  },
  {
   "cell_type": "code",
   "execution_count": 2,
   "id": "8419f0de-8043-497f-87b0-0a4b73e9e146",
   "metadata": {},
   "outputs": [
    {
     "name": "stdout",
     "output_type": "stream",
     "text": [
      "Python\n"
     ]
    }
   ],
   "source": [
    "longest_string = ''\n",
    "for i in a:\n",
    "    if len(i) > len(longest_string):\n",
    "        longest_string = i\n",
    "print(longest_string)"
   ]
  },
  {
   "cell_type": "markdown",
   "id": "827394d7-cd41-4bdb-9cbe-a2b2f2aaebfd",
   "metadata": {},
   "source": [
    "1. Create a list of string inside the variable a \n",
    "2. Declare another variable called longest_string  which is having empty string\n",
    "3. By using for loop it will iterating all the strings which are present inside the list.\n",
    "4. By using conditional statement if lenght of any string is greater the current string then that string will store into the variable called longest string.\n",
    "5. Print the result"
   ]
  },
  {
   "cell_type": "markdown",
   "id": "889040e0-0e26-4393-aeea-9bb16ef4952f",
   "metadata": {},
   "source": [
    "47. Find the shortest string in a list of strings."
   ]
  },
  {
   "cell_type": "code",
   "execution_count": 29,
   "id": "12ac8fb5-e724-4141-969f-5d7b8de536c7",
   "metadata": {},
   "outputs": [],
   "source": [
    "a = ['Python', 'Java', 'Scala', 'Julia']"
   ]
  },
  {
   "cell_type": "code",
   "execution_count": 30,
   "id": "4f48e62f-ef2c-49a3-a13a-4125e21a33b4",
   "metadata": {},
   "outputs": [
    {
     "name": "stdout",
     "output_type": "stream",
     "text": [
      "Java\n"
     ]
    }
   ],
   "source": [
    "shortest_string = a[0]\n",
    "for i in a:\n",
    "    if len(i) < len(shortest_string):\n",
    "        shortest_string = i\n",
    "    \n",
    "print(shortest_string)"
   ]
  },
  {
   "cell_type": "markdown",
   "id": "bfbf006a-7ab3-466e-9f3e-36d0639f0e81",
   "metadata": {},
   "source": [
    "1. Create a list of string inside the variable a \n",
    "2. Declare another variable called shortes_string  which is having a first element of string\n",
    "3. By using for loop it will iterating all the strings which are present inside the list.\n",
    "4. By using conditional statement if lenght of any string is less than the current string then that string will store into the variable called shortest string.\n",
    "5. Print the result"
   ]
  },
  {
   "cell_type": "markdown",
   "id": "0e383759-2756-4bc5-8ff8-a0e60ad32424",
   "metadata": {},
   "source": [
    "48. Create a list of the first `n` triangular numbers."
   ]
  },
  {
   "cell_type": "code",
   "execution_count": 42,
   "id": "6f21e8a4-245d-459c-898e-76fa6b93695c",
   "metadata": {},
   "outputs": [],
   "source": [
    "a = []\n",
    "n = 5"
   ]
  },
  {
   "cell_type": "code",
   "execution_count": 43,
   "id": "f2be3c5e-2924-4cb3-9401-c871e52f1409",
   "metadata": {},
   "outputs": [
    {
     "name": "stdout",
     "output_type": "stream",
     "text": [
      "[1, 3, 6, 10, 15]\n"
     ]
    }
   ],
   "source": [
    "for i in range(1, n+1):\n",
    "    b = (i* (i+1)//2)\n",
    "    a.append(b)\n",
    "print(a)"
   ]
  },
  {
   "cell_type": "markdown",
   "id": "0141e252-2b51-40a9-9f8e-552e4777d0ae",
   "metadata": {},
   "source": [
    "1. Create a empty list inside the variable a\n",
    "2. create another variable n which takes input from the user\n",
    "3. By using for loop in the range between 1 to n+1 and declaring variable b inside that variable we are definig formulae for triangular numbers\n",
    "4. Then thos triangular numbers will be appended to list a and print the result "
   ]
  },
  {
   "cell_type": "markdown",
   "id": "95241607-c4bd-46ae-af0a-fe52a6c2d918",
   "metadata": {},
   "source": [
    "49. Check if a list contains another list as a subsequence."
   ]
  },
  {
   "cell_type": "code",
   "execution_count": 84,
   "id": "72d135da-f98e-4e30-9899-fcd405f069bb",
   "metadata": {},
   "outputs": [],
   "source": [
    "a = [1, 2, 3, 4, 5, 6, 7, 8, 9, 10]\n",
    "sub = [3, 11, 5]"
   ]
  },
  {
   "cell_type": "code",
   "execution_count": 85,
   "id": "373154bf-0138-47f8-b1a7-f53b5b56eff9",
   "metadata": {},
   "outputs": [],
   "source": [
    "def subsequence(list_1, list_2):\n",
    "    for i in list_2:\n",
    "        if i in list_1:\n",
    "            return 'These list had subsequence'\n",
    "        else:\n",
    "            return 'These list not having subsequence'"
   ]
  },
  {
   "cell_type": "code",
   "execution_count": 86,
   "id": "062102bb-e2f6-4a6d-9ca7-f658fd8c2213",
   "metadata": {},
   "outputs": [
    {
     "data": {
      "text/plain": [
       "'These list had subsequence'"
      ]
     },
     "execution_count": 86,
     "metadata": {},
     "output_type": "execute_result"
    }
   ],
   "source": [
    "subsequence(a,sub)"
   ]
  },
  {
   "cell_type": "markdown",
   "id": "069b6a56-84bc-4995-88c5-8ea63bcd90ea",
   "metadata": {},
   "source": [
    "1. Create a list of numbers inside the variable a and sub\n",
    "2. We define one function called subsequence in these function we define two arguments list_1 and list_2\n",
    "3. In these function we are using for loop in list_2 and using conditional statement if any element in the list_2 is present in the list one then these list having subsequence.\n",
    "4. Otherwise these list is not subsequence"
   ]
  },
  {
   "cell_type": "markdown",
   "id": "fa9e81f3-f181-4258-b253-30e78dcc3c01",
   "metadata": {},
   "source": [
    "50. Swap two elements in a list by their indices."
   ]
  },
  {
   "cell_type": "code",
   "execution_count": 60,
   "id": "0abb3382-522d-40a0-954d-78964e2e6d6c",
   "metadata": {},
   "outputs": [],
   "source": [
    "a = [1, 2, 3, 4, 5, 6, 7, 8, 9, 10]"
   ]
  },
  {
   "cell_type": "code",
   "execution_count": 63,
   "id": "86b01138-e8da-4553-a2da-b6a5f05fc561",
   "metadata": {},
   "outputs": [
    {
     "name": "stdout",
     "output_type": "stream",
     "text": [
      "[1, 6, 3, 4, 5, 2, 7, 8, 9, 10]\n"
     ]
    }
   ],
   "source": [
    "temp = a[1]\n",
    "a[1] = a[5]\n",
    "a[5] = temp\n",
    "print(a)"
   ]
  },
  {
   "cell_type": "markdown",
   "id": "af8d773c-e361-4842-ba22-46a98712287c",
   "metadata": {},
   "source": [
    "1. Create a list of numbers inside the variable a\n",
    "2. Element of first number store inside another variable called temp.\n",
    "3. By using indices element of first number and element another equal to each other\n",
    "4. But element of another number should be equal to temp variable we have store the first number into the temp variable"
   ]
  },
  {
   "cell_type": "markdown",
   "id": "74533ca3-e06e-4943-9ab0-61e6322b3418",
   "metadata": {},
   "source": [
    "# Tuple"
   ]
  },
  {
   "cell_type": "markdown",
   "id": "3610b97e-2b0f-4eb7-83c3-16d8b0de6b45",
   "metadata": {},
   "source": [
    "1. Create a tuple with integers from 1 to 5."
   ]
  },
  {
   "cell_type": "code",
   "execution_count": 94,
   "id": "75650cf9-35f1-49ad-b17e-7a37896a2cfe",
   "metadata": {},
   "outputs": [],
   "source": [
    "a = []"
   ]
  },
  {
   "cell_type": "code",
   "execution_count": 95,
   "id": "838a8650-90a3-4daa-919c-3ae7b4476b0f",
   "metadata": {},
   "outputs": [
    {
     "name": "stdout",
     "output_type": "stream",
     "text": [
      "(1, 2, 3, 4)\n"
     ]
    }
   ],
   "source": [
    "for i in range(1,5):\n",
    "    a.append(i)\n",
    "print(tuple(a))"
   ]
  },
  {
   "cell_type": "markdown",
   "id": "a323a48d-d80b-4c7d-9796-49f53305b4f0",
   "metadata": {},
   "source": [
    "1. Create a empty list inside the variable a\n",
    "2. By using for loop in the range (1,5) it will iterate through all the numbers between 1 to 5.\n",
    "3. By using append function we are appending those numbers into the list.\n",
    "4. By using type conversion method to tuple these will convert list into the tuple"
   ]
  },
  {
   "cell_type": "markdown",
   "id": "84e0e43c-d550-4461-a0ff-2e3a9d255dc8",
   "metadata": {},
   "source": [
    "2. Access the third element of a tuple."
   ]
  },
  {
   "cell_type": "code",
   "execution_count": 1,
   "id": "7c274f19-357a-4675-97a5-e5d8e97dccb7",
   "metadata": {},
   "outputs": [],
   "source": [
    "a = (1, 2, 3, 4)"
   ]
  },
  {
   "cell_type": "code",
   "execution_count": 2,
   "id": "58aa374a-c864-4b9f-a55c-26ea7dece413",
   "metadata": {},
   "outputs": [
    {
     "name": "stdout",
     "output_type": "stream",
     "text": [
      "3\n"
     ]
    }
   ],
   "source": [
    "b = a[2]\n",
    "print(b)"
   ]
  },
  {
   "cell_type": "markdown",
   "id": "7aeb273f-971f-462c-b65d-9c7b2ad270ba",
   "metadata": {},
   "source": [
    "1. Create a tuple inside the variable \n",
    "2. For accessing third element in tuple just like list in tuple also we can use slicing to individual element in tuple.\n",
    "3. Print the result"
   ]
  },
  {
   "cell_type": "markdown",
   "id": "3ea9db9a-fd10-4b26-aae5-8cc205b8425c",
   "metadata": {},
   "source": [
    "3. Find the length of a tuple without using the `len()` function."
   ]
  },
  {
   "cell_type": "code",
   "execution_count": 3,
   "id": "4e51b46f-7a5a-4cea-9ca9-ed759a45002f",
   "metadata": {},
   "outputs": [],
   "source": [
    "a = (1, 2, 3, 4)"
   ]
  },
  {
   "cell_type": "code",
   "execution_count": 4,
   "id": "f150a035-80ab-4605-857f-3874e4056274",
   "metadata": {},
   "outputs": [
    {
     "name": "stdout",
     "output_type": "stream",
     "text": [
      "4\n"
     ]
    }
   ],
   "source": [
    "len_tuple = 0\n",
    "for i in a:\n",
    "    len_tuple += 1\n",
    "print(len_tuple) "
   ]
  },
  {
   "cell_type": "markdown",
   "id": "90a403ac-1482-4a2a-aae8-fb452982d90c",
   "metadata": {},
   "source": [
    "1. Create a tuple inside the variable a\n",
    "2. Declare a variabe len_tuple and set them as 0\n",
    "3. By using for loop it will iterate through each character in tuple.\n",
    "4. After each iteration it will add +1 to the variable called len_tuple\n",
    "5. Print the result "
   ]
  },
  {
   "cell_type": "markdown",
   "id": "f0394844-1c37-410a-a65e-33d5cc20f646",
   "metadata": {},
   "source": [
    "4. Count the occurrences of an element in a tuple."
   ]
  },
  {
   "cell_type": "code",
   "execution_count": 7,
   "id": "6465f96d-38dc-4103-9dfc-3fe19028a7fd",
   "metadata": {},
   "outputs": [],
   "source": [
    "a = (10 , 20, 30 , 40 , 50, 20, 60, 20, 20)"
   ]
  },
  {
   "cell_type": "code",
   "execution_count": 8,
   "id": "e7b71f7a-e9fc-4e61-846f-6da3d74f5c1e",
   "metadata": {},
   "outputs": [
    {
     "name": "stdout",
     "output_type": "stream",
     "text": [
      "4\n"
     ]
    }
   ],
   "source": [
    "for i in a:\n",
    "    b = a.count(i)\n",
    "print(b)"
   ]
  },
  {
   "cell_type": "markdown",
   "id": "91cf6f5d-9185-494f-8b25-120e98f83b12",
   "metadata": {},
   "source": [
    "1. Create a tuple insdide the variable a \n",
    "2. By using for loop in tuple it will iterate all characters inside the tuple\n",
    "3. Declaring another variable b and inside that variable we are using count function.\n",
    "4. It will each and every element present inside the element then those element which is repeating more than once that element occurence will be return."
   ]
  },
  {
   "cell_type": "markdown",
   "id": "e75d4d37-5eb0-4a7c-9c4c-272993fdac82",
   "metadata": {},
   "source": [
    "5. Find the index of the first occurrence of an element in a tuple."
   ]
  },
  {
   "cell_type": "code",
   "execution_count": 9,
   "id": "b149e379-92f6-4827-b35f-f514ae000c8b",
   "metadata": {},
   "outputs": [],
   "source": [
    "a = (10 , 20, 30 , 40 , 50, 20, 60, 20, 20)"
   ]
  },
  {
   "cell_type": "code",
   "execution_count": 12,
   "id": "ce1ec24c-1105-41f9-9f4e-c58a0de7b438",
   "metadata": {},
   "outputs": [
    {
     "name": "stdout",
     "output_type": "stream",
     "text": [
      "1\n"
     ]
    }
   ],
   "source": [
    "b = a.index(20)\n",
    "print(b)"
   ]
  },
  {
   "cell_type": "markdown",
   "id": "8d3cb7fa-f4a9-4842-82ac-45f33e491787",
   "metadata": {},
   "source": [
    "1. Create a tuple inside the variable a\n",
    "2. Just like list by using index fuction we will the index of an element in the tuple\n",
    "3. Print the result "
   ]
  },
  {
   "cell_type": "markdown",
   "id": "89f13ea4-7361-432d-a5df-2f62c83801b4",
   "metadata": {},
   "source": [
    "6. Check if an element exists in a tuple."
   ]
  },
  {
   "cell_type": "code",
   "execution_count": 14,
   "id": "4f7c0c8a-c65f-4aa5-b00a-3cab8c151c82",
   "metadata": {},
   "outputs": [],
   "source": [
    "a = (1, 2, 3, 4)\n",
    "n = 3"
   ]
  },
  {
   "cell_type": "code",
   "execution_count": 15,
   "id": "e83e351c-d5fb-48c5-a056-4271e5302704",
   "metadata": {},
   "outputs": [
    {
     "name": "stdout",
     "output_type": "stream",
     "text": [
      "These element present in the tuple\n"
     ]
    }
   ],
   "source": [
    "if n in a:\n",
    "    print(\"These element present in the tuple\")\n",
    "else:\n",
    "    print(\"These element not present in the tuple\")"
   ]
  },
  {
   "cell_type": "markdown",
   "id": "4a4c1d5f-8b3b-4cd1-b923-df3ded55d213",
   "metadata": {},
   "source": [
    "1. Create a tuple inside the variable a \n",
    "2. Decalare another variable n which is having a value 3\n",
    "3. By using conditional statemnt if number inside varaible is present in tuple a or not.\n",
    "4. If its present then print these element present in the tuple and if it is not present then these element not present in the tuple."
   ]
  },
  {
   "cell_type": "markdown",
   "id": "4c40b091-88e6-4c23-bd90-3ca50f53d741",
   "metadata": {},
   "source": [
    "7. Convert a tuple to a list."
   ]
  },
  {
   "cell_type": "markdown",
   "id": "5c904bf9-cd62-4fc5-8bff-d55efae69817",
   "metadata": {},
   "source": [
    "a = (1, 2, 3, 4)"
   ]
  },
  {
   "cell_type": "code",
   "execution_count": 18,
   "id": "334eab36-a399-4e12-add4-f3f86ee2aa53",
   "metadata": {},
   "outputs": [
    {
     "name": "stdout",
     "output_type": "stream",
     "text": [
      "[1, 2, 3, 4]\n"
     ]
    }
   ],
   "source": [
    "b = list(a)\n",
    "print(b)"
   ]
  },
  {
   "cell_type": "markdown",
   "id": "59dd7a43-20ea-4ca1-945d-ba12fb24200f",
   "metadata": {},
   "source": [
    "1. Create a tuple inside the variable a \n",
    "2. By using type conversion method from tuple to convert list by using list(a) it will convert tuple into the list."
   ]
  },
  {
   "cell_type": "markdown",
   "id": "c018dce0-6af8-4310-bb70-4bead4b61593",
   "metadata": {},
   "source": [
    "8. Convert a list to a tuple."
   ]
  },
  {
   "cell_type": "code",
   "execution_count": 19,
   "id": "bb71c41a-8b5d-453e-abab-7f284471c22a",
   "metadata": {},
   "outputs": [],
   "source": [
    "a = [1, 2, 3, 4]"
   ]
  },
  {
   "cell_type": "code",
   "execution_count": 20,
   "id": "5ef96fbf-56c1-4873-ae86-4b002e3f2ddd",
   "metadata": {},
   "outputs": [
    {
     "name": "stdout",
     "output_type": "stream",
     "text": [
      "(1, 2, 3, 4)\n"
     ]
    }
   ],
   "source": [
    "b = tuple(a)\n",
    "print(b)"
   ]
  },
  {
   "cell_type": "markdown",
   "id": "b3295a21-7eab-4357-aa59-b6d8d26e55a8",
   "metadata": {},
   "source": [
    "1. Create a tuple inside the variable a \n",
    "2. By using type conversion method from list to convert into tuple by using tuple(a) it will convert list into the tuple "
   ]
  },
  {
   "cell_type": "markdown",
   "id": "581a22fe-2301-4933-ae96-dde3141ec45a",
   "metadata": {},
   "source": [
    "9. Unpack the elements of a tuple into variables."
   ]
  },
  {
   "cell_type": "code",
   "execution_count": 24,
   "id": "a1da8e42-d9ff-4585-bea5-b892aea05d95",
   "metadata": {},
   "outputs": [],
   "source": [
    "a_tuple = (1, 2, 3, 4)\n",
    "a, b, c, d = a_tuple     "
   ]
  },
  {
   "cell_type": "code",
   "execution_count": 25,
   "id": "b2036781-d234-44f0-aba7-20d57f1bd630",
   "metadata": {},
   "outputs": [
    {
     "name": "stdout",
     "output_type": "stream",
     "text": [
      "1\n",
      "2\n",
      "3\n",
      "4\n"
     ]
    }
   ],
   "source": [
    "print(a)\n",
    "print(b)\n",
    "print(c)\n",
    "print(d)"
   ]
  },
  {
   "cell_type": "markdown",
   "id": "dd03b3d9-b72c-4f7b-9ad2-bd3340566ce3",
   "metadata": {},
   "source": [
    "1. We start by creating a tuple named my_tuple with three elements.\n",
    "2. We use the unpacking assignment to assign the values of the tuple elements to individual variables a, b, c and d.\n",
    "3. We print the values of these variables."
   ]
  },
  {
   "cell_type": "markdown",
   "id": "25013c38-b510-417a-8c06-d7db493b1928",
   "metadata": {},
   "source": [
    "10. Create a tuple of even numbers from 1 to 10."
   ]
  },
  {
   "cell_type": "code",
   "execution_count": 26,
   "id": "60921922-8e84-4c1d-875b-2b1d11278523",
   "metadata": {},
   "outputs": [],
   "source": [
    "a = []"
   ]
  },
  {
   "cell_type": "code",
   "execution_count": 27,
   "id": "1c3c64f0-4758-4c83-a9a8-02fa98527deb",
   "metadata": {},
   "outputs": [
    {
     "name": "stdout",
     "output_type": "stream",
     "text": [
      "(2, 4, 6, 8, 10)\n"
     ]
    }
   ],
   "source": [
    "for i in range(1, 11):\n",
    "    if i % 2 == 0:\n",
    "        a.append(i)\n",
    "print(tuple(a))"
   ]
  },
  {
   "cell_type": "markdown",
   "id": "af25cc60-a360-47ea-89ff-a8971a6d2e87",
   "metadata": {},
   "source": [
    "1. First we are creating a empty list inside the variable a \n",
    "2. By using for loop in teh range of 1 to 11. It will iterate all the numbers within the range of 1 to 11 except the last number.\n",
    "3. By using conditional statement if any element is divisible by 2 and havind remainder 0 then that element will be append to the list a \n",
    "4. After appending into the list we are printing result by converting list into tuple and then print the result."
   ]
  },
  {
   "cell_type": "markdown",
   "id": "52acd6e6-fac6-4848-b79c-bf3ef7763395",
   "metadata": {},
   "source": [
    "11. Create a tuple of odd numbers from 1 to 10."
   ]
  },
  {
   "cell_type": "code",
   "execution_count": 28,
   "id": "1c4e9a6a-19c5-4a6f-ad02-49af86c0f06c",
   "metadata": {},
   "outputs": [],
   "source": [
    "a = []"
   ]
  },
  {
   "cell_type": "code",
   "execution_count": 29,
   "id": "13098650-a20d-492e-9263-c89e1b9977ef",
   "metadata": {},
   "outputs": [
    {
     "name": "stdout",
     "output_type": "stream",
     "text": [
      "(1, 3, 5, 7, 9)\n"
     ]
    }
   ],
   "source": [
    "for i in range(1, 11):\n",
    "    if i % 2 != 0:\n",
    "        a.append(i)\n",
    "print(tuple(a))"
   ]
  },
  {
   "cell_type": "markdown",
   "id": "530edc5b-615f-4364-8937-7bafb348e961",
   "metadata": {},
   "source": [
    "1. First we are creating a empty list inside the variable a \n",
    "2. By using for loop in teh range of 1 to 11. It will iterate all the numbers within the range of 1 to 11 except the last number.\n",
    "3. By using conditional statement if any element is divisible by 2 and having remainder not equal to 0 then that element will be append to the list a \n",
    "4. After appending into the list we are printing result by converting list into tuple and then print the result."
   ]
  },
  {
   "cell_type": "markdown",
   "id": "66678eb6-ed73-415e-afed-29d26a549444",
   "metadata": {},
   "source": [
    "12. Concatenate two tuples."
   ]
  },
  {
   "cell_type": "code",
   "execution_count": 30,
   "id": "9185fba7-1692-4210-ae36-2964d0118d3f",
   "metadata": {},
   "outputs": [],
   "source": [
    "a = (1, 2, 3, 4, 5)\n",
    "b = (6, 7, 8, 9, 10)"
   ]
  },
  {
   "cell_type": "code",
   "execution_count": 31,
   "id": "0cc12189-f8a6-4f32-b700-16d12e819f6b",
   "metadata": {},
   "outputs": [
    {
     "name": "stdout",
     "output_type": "stream",
     "text": [
      "(1, 2, 3, 4, 5, 6, 7, 8, 9, 10)\n"
     ]
    }
   ],
   "source": [
    "c = a + b\n",
    "print(c)"
   ]
  },
  {
   "cell_type": "markdown",
   "id": "aef38dfa-73fa-4c64-903a-1f590168012f",
   "metadata": {},
   "source": [
    "1. create a two tuplea inside the variable a and variable b\n",
    "2. By using addition function we merge the two tuples into one tuple and store it into the variable called c\n",
    "3. Print the result"
   ]
  },
  {
   "cell_type": "markdown",
   "id": "94a7901d-5ade-4c11-9b0b-855c049e562b",
   "metadata": {},
   "source": [
    "13. Repeat a tuple three times."
   ]
  },
  {
   "cell_type": "code",
   "execution_count": 32,
   "id": "7687f26e-72c8-4e0f-a53f-473548828f3f",
   "metadata": {},
   "outputs": [],
   "source": [
    "a = (1, 2, 3, 4, 5)"
   ]
  },
  {
   "cell_type": "code",
   "execution_count": 35,
   "id": "664cbfde-a9b2-409d-a37c-2406c1879eee",
   "metadata": {},
   "outputs": [
    {
     "name": "stdout",
     "output_type": "stream",
     "text": [
      "(1, 2, 3, 4, 5, 1, 2, 3, 4, 5, 1, 2, 3, 4, 5)\n"
     ]
    }
   ],
   "source": [
    "b = a * 3\n",
    "print(b)"
   ]
  },
  {
   "cell_type": "markdown",
   "id": "70471798-d919-4b6a-84a0-4f5d249f8a1f",
   "metadata": {},
   "source": [
    "1. Creat a tuple inside the variable a \n",
    "2. For repeating tuple 3 times we are multiplying tuple by 3 and it will merge into that and repeat it self three times.\n",
    "3. print the result "
   ]
  },
  {
   "cell_type": "markdown",
   "id": "1abdbe0b-c77b-42f7-aefe-952b96c45496",
   "metadata": {},
   "source": [
    "14. Check if a tuple is empty."
   ]
  },
  {
   "cell_type": "code",
   "execution_count": 36,
   "id": "8d227073-295c-407f-a3ce-85439e118197",
   "metadata": {},
   "outputs": [],
   "source": [
    "a = ()"
   ]
  },
  {
   "cell_type": "code",
   "execution_count": 38,
   "id": "3b2897ef-aaf0-4a03-b666-306ed18fabbb",
   "metadata": {},
   "outputs": [
    {
     "name": "stdout",
     "output_type": "stream",
     "text": [
      " These tuple is empty\n"
     ]
    }
   ],
   "source": [
    "if not a:\n",
    "    print(' These tuple is empty')\n",
    "else:\n",
    "    print(\"These tuple is not empty\")"
   ]
  },
  {
   "cell_type": "markdown",
   "id": "52799a0c-a9ad-46b3-a93b-e10425bf334e",
   "metadata": {},
   "source": [
    "1. Create a tuple inside the variable a \n",
    "2. By using conditional statement that of tuple is empty then print these tuple is empty and else print these tuple is not empty"
   ]
  },
  {
   "cell_type": "markdown",
   "id": "b74c5986-9052-4ef8-8e50-e9220262808d",
   "metadata": {},
   "source": [
    "15. Create a nested tuple."
   ]
  },
  {
   "cell_type": "code",
   "execution_count": 43,
   "id": "f62bb5a2-4616-4bae-85e5-f87c16b11933",
   "metadata": {},
   "outputs": [
    {
     "name": "stdout",
     "output_type": "stream",
     "text": [
      "(1, 2, 3, 4, ('a', 'b', 'c'))\n"
     ]
    }
   ],
   "source": [
    "a = (1, 2, 3, 4, ('a', 'b', 'c'))\n",
    "print(a)"
   ]
  },
  {
   "cell_type": "markdown",
   "id": "54fa5846-b565-4d72-9f65-567a0af17a10",
   "metadata": {},
   "source": [
    "1. Create a tuple inside a variable a.\n",
    "2. Inside that tuple we create another set of tuple which is having a data type of strings.\n",
    "3. Print the result "
   ]
  },
  {
   "cell_type": "markdown",
   "id": "ad9cb640-33b5-4c07-95cc-b6bed2265012",
   "metadata": {},
   "source": [
    "16. Access the first element of a nested tuple."
   ]
  },
  {
   "cell_type": "code",
   "execution_count": 44,
   "id": "29cc8c52-3e3e-4ea8-b763-7497d2d008e0",
   "metadata": {},
   "outputs": [],
   "source": [
    "a = (1, 2, 3, 4, ('a', 'b', 'c'))"
   ]
  },
  {
   "cell_type": "code",
   "execution_count": 47,
   "id": "45bf0e18-c2da-4308-bf9d-490456bf5d06",
   "metadata": {},
   "outputs": [
    {
     "name": "stdout",
     "output_type": "stream",
     "text": [
      "a\n"
     ]
    }
   ],
   "source": [
    "b = a[4][0]\n",
    "print(b)"
   ]
  },
  {
   "cell_type": "markdown",
   "id": "e7bd8c30-827d-4c9c-845a-107928ece2ea",
   "metadata": {},
   "source": [
    "1. Create a tuple inside the variable a \n",
    "2. Inside that tuple we create another tuple which is having a data type of strings\n",
    "3. By using slicing method we are accessing a nested tuple 1 st element\n",
    "4. Print the result "
   ]
  },
  {
   "cell_type": "markdown",
   "id": "8479bf66-715a-49e4-b3a2-a4f35a520840",
   "metadata": {},
   "source": [
    "17. Create a tuple with a single element."
   ]
  },
  {
   "cell_type": "code",
   "execution_count": 51,
   "id": "a33b8e33-69f9-4cb4-b462-58ba29c7cb56",
   "metadata": {},
   "outputs": [
    {
     "name": "stdout",
     "output_type": "stream",
     "text": [
      "(1,)\n"
     ]
    }
   ],
   "source": [
    "a =(1,)\n",
    "print(a)"
   ]
  },
  {
   "cell_type": "markdown",
   "id": "65d471a4-21c2-44d5-aef2-5e6c23439d0a",
   "metadata": {},
   "source": [
    "1. Create a tuple inside the variable a.\n",
    "2. For single element tuple we have to put comma at the end of an element and after that print the result "
   ]
  },
  {
   "cell_type": "markdown",
   "id": "34b9cb32-7205-44a3-81d4-50279a2d3573",
   "metadata": {},
   "source": [
    "18. Compare two tuples."
   ]
  },
  {
   "cell_type": "code",
   "execution_count": 54,
   "id": "abd4a5a7-5fd8-49bd-908a-4ec5e56e2051",
   "metadata": {},
   "outputs": [],
   "source": [
    "tuple_1 = (1, 2, 3)\n",
    "tuple_2 = (3, 5, 6)"
   ]
  },
  {
   "cell_type": "code",
   "execution_count": 56,
   "id": "912ff741-4e8d-44c9-ad8b-ab75fdba11d9",
   "metadata": {},
   "outputs": [
    {
     "name": "stdout",
     "output_type": "stream",
     "text": [
      "tuple1 == tuple2: False\n",
      "tuple1 != tuple2: True\n",
      "tuple1 < tuple2: True\n",
      "tuple1 <= tuple2: True\n",
      "tuple1 > tuple2: False\n",
      "tuple1 >= tuple2: False\n"
     ]
    }
   ],
   "source": [
    "print(\"tuple1 == tuple2:\", tuple_1 == tuple_2)  \n",
    "print(\"tuple1 != tuple2:\", tuple_1 != tuple_2)  \n",
    "print(\"tuple1 < tuple2:\", tuple_1 < tuple_2)    \n",
    "print(\"tuple1 <= tuple2:\", tuple_1 <= tuple_2)  \n",
    "print(\"tuple1 > tuple2:\", tuple_1 > tuple_2)  \n",
    "print(\"tuple1 >= tuple2:\", tuple_1 >= tuple_2)"
   ]
  },
  {
   "cell_type": "markdown",
   "id": "3c8388d0-3fab-46ae-b898-0dd0978e80e4",
   "metadata": {},
   "source": [
    "1. Create a two tuple inside the variable tuple_1 and tuple_2\n",
    "2. Compare the two tuples if both the tuples are equal\n",
    "3. Compare the two tuples if both the tuples are not equal\n",
    "4. Compare the two tuples if the tuple_1 one is less than tuple_2\n",
    "5. Compare the two tuples if the tuple_1 is less than or equal to tuple_2\n",
    "6. Compare the two tuple if the tuple_1 is greater than tuple_2\n",
    "7. Compare the two tuple if the tuple_1 is greater than equal to tuple_2"
   ]
  },
  {
   "cell_type": "markdown",
   "id": "293168c7-c9e0-439c-9606-6ad8d6ef6779",
   "metadata": {},
   "source": [
    "19. Delete a tuple."
   ]
  },
  {
   "cell_type": "code",
   "execution_count": 57,
   "id": "cf0d18d3-9490-4ce9-a091-a341e92fb6f3",
   "metadata": {},
   "outputs": [],
   "source": [
    "a = (1, 2, 3, 4, 5)"
   ]
  },
  {
   "cell_type": "code",
   "execution_count": 58,
   "id": "575ce378-b011-4f7e-9172-8ad70f9f6540",
   "metadata": {},
   "outputs": [],
   "source": [
    "del(a)"
   ]
  },
  {
   "cell_type": "markdown",
   "id": "f13e5eec-0a96-4a59-b463-f57e71ed4efe",
   "metadata": {},
   "source": [
    "1. Create a tuple inside the variable a \n",
    "2. By using del function it will delete all the element in the tuple as well delete the tuple which we create inside the variable a "
   ]
  },
  {
   "cell_type": "markdown",
   "id": "273ea5f0-2ffc-4d97-a3e9-49205b4dfd9a",
   "metadata": {},
   "source": [
    "20. Slice a tuple."
   ]
  },
  {
   "cell_type": "code",
   "execution_count": 60,
   "id": "d9e887a0-a308-47d3-87ad-b5c5f3adebc6",
   "metadata": {},
   "outputs": [],
   "source": [
    "a = (1, 2, 3, 4, 5, 6, 7, 8, 9, 10)"
   ]
  },
  {
   "cell_type": "code",
   "execution_count": 62,
   "id": "63b2a097-7845-4fcb-89fc-0c351a6679a5",
   "metadata": {},
   "outputs": [
    {
     "name": "stdout",
     "output_type": "stream",
     "text": [
      "(4, 5, 6)\n"
     ]
    }
   ],
   "source": [
    "slice_tuple = a[3:6]\n",
    "print(slice_tuple)"
   ]
  },
  {
   "cell_type": "markdown",
   "id": "fdc8ef03-798a-4f95-b371-045e3189d2e9",
   "metadata": {},
   "source": [
    "1. Create a tuple inside the variable a\n",
    "2. Create another variable slice_tuple inside that variable by using slicing method we are mentioning starting index and ending index of the tuple.\n",
    "3. Print the result"
   ]
  },
  {
   "cell_type": "markdown",
   "id": "970ed46b-27d9-49ef-8f89-3f95aa056074",
   "metadata": {},
   "source": [
    "21. Find the maximum value in a tuple."
   ]
  },
  {
   "cell_type": "code",
   "execution_count": 63,
   "id": "000d198c-59a0-4cb2-baa3-d9af4fc7aa82",
   "metadata": {},
   "outputs": [],
   "source": [
    "a = (10, 20, 100, 60, 120, 150, 80, 20, 70)"
   ]
  },
  {
   "cell_type": "code",
   "execution_count": 64,
   "id": "cbacb54b-093c-4283-a3ca-dba606461867",
   "metadata": {},
   "outputs": [
    {
     "data": {
      "text/plain": [
       "150"
      ]
     },
     "execution_count": 64,
     "metadata": {},
     "output_type": "execute_result"
    }
   ],
   "source": [
    "max(a)"
   ]
  },
  {
   "cell_type": "markdown",
   "id": "98cd5cc9-1d01-45c4-b261-16c73918ba72",
   "metadata": {},
   "source": [
    "1. Create a tuple inside the variable a \n",
    "2. By using max function it will print the maximum number inside the tuple a"
   ]
  },
  {
   "cell_type": "markdown",
   "id": "ce0349f4-9bcd-4a32-a365-48b489f6db38",
   "metadata": {},
   "source": [
    "22. Find the minimum value in a tuple."
   ]
  },
  {
   "cell_type": "code",
   "execution_count": 65,
   "id": "4720ae12-6716-472a-977c-44c8b3993e4b",
   "metadata": {},
   "outputs": [],
   "source": [
    "a = (10, 20, 100, 60, 120, 150, 80, 20, 70)"
   ]
  },
  {
   "cell_type": "code",
   "execution_count": 66,
   "id": "5ef368f1-0cbb-47bf-8544-bbef63ae1d56",
   "metadata": {},
   "outputs": [
    {
     "data": {
      "text/plain": [
       "10"
      ]
     },
     "execution_count": 66,
     "metadata": {},
     "output_type": "execute_result"
    }
   ],
   "source": [
    "min(a)"
   ]
  },
  {
   "cell_type": "markdown",
   "id": "e1edae33-3cc0-4e27-891f-a122984a5784",
   "metadata": {},
   "source": [
    "1. Create a tuple inside the variable a \n",
    "2. By using min function it will print the maximum number inside the tuple a"
   ]
  },
  {
   "cell_type": "markdown",
   "id": "9ce1e977-0e85-44c8-bf8b-5e270346a470",
   "metadata": {},
   "source": [
    "23. Convert a string to a tuple of characters."
   ]
  },
  {
   "cell_type": "code",
   "execution_count": 67,
   "id": "2412d59e-8e4e-4569-bd3d-e350ec0a3614",
   "metadata": {},
   "outputs": [],
   "source": [
    "a = 'Python'"
   ]
  },
  {
   "cell_type": "code",
   "execution_count": 68,
   "id": "1e3373a7-bbd2-4170-90b1-abf97e9a09df",
   "metadata": {},
   "outputs": [
    {
     "name": "stdout",
     "output_type": "stream",
     "text": [
      "('P', 'y', 't', 'h', 'o', 'n')\n"
     ]
    }
   ],
   "source": [
    "b = tuple(a)\n",
    "print(b)"
   ]
  },
  {
   "cell_type": "markdown",
   "id": "88ec6258-7382-437c-9573-5b2a802dfd3b",
   "metadata": {},
   "source": [
    "1. Declare a variable a inside the variable we are defining a string\n",
    "2. By using type conversion method which is tuple(a) it will convert the string into tuple of characters."
   ]
  },
  {
   "cell_type": "markdown",
   "id": "fbbad0e5-7651-4362-8996-7d2702a637fb",
   "metadata": {},
   "source": [
    "24. Convert a tuple of characters to a string."
   ]
  },
  {
   "cell_type": "code",
   "execution_count": 71,
   "id": "76de2007-162d-4a96-8d5d-09290da794a2",
   "metadata": {},
   "outputs": [],
   "source": [
    "a = ('P', 'y', 't', 'h', 'o', 'n')"
   ]
  },
  {
   "cell_type": "code",
   "execution_count": 75,
   "id": "217ebde5-d8c6-4b20-b45b-a986e1802f4a",
   "metadata": {},
   "outputs": [
    {
     "name": "stdout",
     "output_type": "stream",
     "text": [
      "Python\n"
     ]
    }
   ],
   "source": [
    "b = ''.join(a)\n",
    "print(b)"
   ]
  },
  {
   "cell_type": "markdown",
   "id": "5ff9a23f-010f-467f-bb10-3307edb46317",
   "metadata": {},
   "source": [
    "1. Declare a variable a inside the variable we are defining a string\n",
    "2. By using type join function it will join the tuple of characters and convert into string."
   ]
  },
  {
   "cell_type": "markdown",
   "id": "282b565b-ccbd-4733-8660-182ff02aa4ad",
   "metadata": {},
   "source": [
    "25. Create a tuple from multiple data types."
   ]
  },
  {
   "cell_type": "code",
   "execution_count": 78,
   "id": "9adde035-a6c9-468b-b0b3-065869d018ae",
   "metadata": {},
   "outputs": [],
   "source": [
    "a = (1, 'Python', 2.32, True, [1,2,3,4], {'a' : 'apple'}, (1, 2, 3,4))"
   ]
  },
  {
   "cell_type": "code",
   "execution_count": 79,
   "id": "35cc9ee0-87b7-484d-bcfd-63cfb1cea53a",
   "metadata": {},
   "outputs": [
    {
     "name": "stdout",
     "output_type": "stream",
     "text": [
      "(1, 'Python', 2.32, True, [1, 2, 3, 4], {'a': 'apple'}, (1, 2, 3, 4))\n"
     ]
    }
   ],
   "source": [
    "print(a)"
   ]
  },
  {
   "cell_type": "markdown",
   "id": "94495e85-a188-4715-92ec-7d556b77a30f",
   "metadata": {},
   "source": [
    "1. Create a tuple inside the variable a.\n",
    "2. Inside the tuple we have create multiple data typles each element having different data types from each other"
   ]
  },
  {
   "cell_type": "markdown",
   "id": "b1167bdb-2b9b-4374-995a-f96569409238",
   "metadata": {},
   "source": [
    "26. Check if two tuples are identical."
   ]
  },
  {
   "cell_type": "code",
   "execution_count": 86,
   "id": "0701ca0b-6fa7-4c5a-8390-3e3620ca9797",
   "metadata": {},
   "outputs": [],
   "source": [
    "a = (1, 2, 3, 4)\n",
    "b = (1, 2, 3, 4)"
   ]
  },
  {
   "cell_type": "code",
   "execution_count": 87,
   "id": "c539e910-6a81-4cd8-8a3b-b18d045cf656",
   "metadata": {},
   "outputs": [
    {
     "name": "stdout",
     "output_type": "stream",
     "text": [
      "These two tuples are identical\n"
     ]
    }
   ],
   "source": [
    "if a == b:\n",
    "    print('These two tuples are identical')\n",
    "else:\n",
    "    print('These two tuples are not identical')"
   ]
  },
  {
   "cell_type": "markdown",
   "id": "0c0c4136-89a1-4bff-bf3e-a95a0c4929ff",
   "metadata": {},
   "source": [
    "1. Create two tuples inside the variable a and variable b\n",
    "2. If both the tuple are equal to each other then print these two tuples are identical or else these two tuple are not identical"
   ]
  },
  {
   "cell_type": "markdown",
   "id": "90bb8f9f-c260-42f0-9300-5742b34c241d",
   "metadata": {},
   "source": [
    "27. Sort the elements of a tuple."
   ]
  },
  {
   "cell_type": "code",
   "execution_count": 88,
   "id": "d92d4036-fffc-4323-9fdb-5e09e799f662",
   "metadata": {},
   "outputs": [],
   "source": [
    "a = (10, 9, 8, 7, 6, 5, 4, 3, 2, 1)"
   ]
  },
  {
   "cell_type": "code",
   "execution_count": 92,
   "id": "21f7a602-c47a-413a-979a-cc0ab21391c2",
   "metadata": {},
   "outputs": [
    {
     "name": "stdout",
     "output_type": "stream",
     "text": [
      "(1, 2, 3, 4, 5, 6, 7, 8, 9, 10)\n"
     ]
    }
   ],
   "source": [
    "b = tuple(sorted(a))\n",
    "print(b)"
   ]
  },
  {
   "cell_type": "markdown",
   "id": "7468344d-36b9-46e3-980c-169d2f841299",
   "metadata": {},
   "source": [
    "1. Create a tuple inside the variable a \n",
    "2. By using sorted function it will sort the tuple by ascending order.\n",
    "3. But what sorted function does is that it will convert the tuple into the list.\n",
    "4. In order to avoid these we use type conversion method outside the sorted function tuple(sorted(a))\n",
    "5. Print the result "
   ]
  },
  {
   "cell_type": "markdown",
   "id": "5e14f8e6-f4cf-4470-937a-1cbd2d414692",
   "metadata": {},
   "source": [
    "28. Convert a tuple of integers to a tuple of strings."
   ]
  },
  {
   "cell_type": "code",
   "execution_count": 93,
   "id": "f96105ba-6337-49fe-baf4-39cbc38d4e40",
   "metadata": {},
   "outputs": [],
   "source": [
    "a = (1, 2, 3, 4, 5, 6, 7, 8, 9, 10)\n",
    "b = []"
   ]
  },
  {
   "cell_type": "code",
   "execution_count": 94,
   "id": "c18b221d-cddb-4205-8cf5-80402417dfcb",
   "metadata": {},
   "outputs": [
    {
     "name": "stdout",
     "output_type": "stream",
     "text": [
      "('1', '2', '3', '4', '5', '6', '7', '8', '9', '10')\n"
     ]
    }
   ],
   "source": [
    "for i in a :\n",
    "    b.append(str(i))\n",
    "print(tuple(b))"
   ]
  },
  {
   "cell_type": "markdown",
   "id": "ebc48c02-b0e3-4824-9203-f9119d8904b5",
   "metadata": {},
   "source": [
    "1. Create a tuple inside the variable a \n",
    "2. Create a empty list inside the variable b\n",
    "3. By using for loop it wil iterate through all the numbers inside the variable a \n",
    "4. It will append all the numbers which is converted from integer to string inside the list b\n",
    "5. By using type Conversion mthod tuple(a) it will convert the list into the tuple"
   ]
  },
  {
   "cell_type": "markdown",
   "id": "69b48920-4826-4822-843d-834314e226b6",
   "metadata": {},
   "source": [
    "29. Convert a tuple of strings to a tuple of integers."
   ]
  },
  {
   "cell_type": "code",
   "execution_count": 95,
   "id": "163cebc4-2f13-4145-ba91-dc9f1a8c052a",
   "metadata": {},
   "outputs": [],
   "source": [
    "a = ('1', '2', '3', '4', '5', '6', '7', '8', '9', '10')\n",
    "b = []"
   ]
  },
  {
   "cell_type": "code",
   "execution_count": 96,
   "id": "98b28acc-b9e1-485b-86b8-52f45ee811f2",
   "metadata": {},
   "outputs": [
    {
     "name": "stdout",
     "output_type": "stream",
     "text": [
      "(1, 2, 3, 4, 5, 6, 7, 8, 9, 10)\n"
     ]
    }
   ],
   "source": [
    "for i in a :\n",
    "    b.append(int(i))\n",
    "print(tuple(b))"
   ]
  },
  {
   "cell_type": "markdown",
   "id": "2e336b6f-d71e-4dad-a0ce-c1a1375cab50",
   "metadata": {},
   "source": [
    "1. Create a tuple inside the variable a \n",
    "2. Create a empty list inside the variable b\n",
    "3. By using for loop it wil iterate through all the numbers inside the variable a \n",
    "4. It will append all the numbers which is converted from integer to string inside the list b\n",
    "5. By using type Conversion mthod tuple(a) it will convert the list into the tuple"
   ]
  },
  {
   "cell_type": "markdown",
   "id": "fa049d1e-eaac-40cc-9544-8537b581ff20",
   "metadata": {},
   "source": [
    "30. Merge two tuples."
   ]
  },
  {
   "cell_type": "code",
   "execution_count": 98,
   "id": "7ed83a05-70d2-4912-867f-38def9ffef02",
   "metadata": {},
   "outputs": [],
   "source": [
    "a = (1, 2, 3, 4, 5)\n",
    "b = (6, 7, 8, 9, 10)"
   ]
  },
  {
   "cell_type": "code",
   "execution_count": 99,
   "id": "df8f66fa-d07b-43ea-9a6e-240a1df7883f",
   "metadata": {},
   "outputs": [
    {
     "name": "stdout",
     "output_type": "stream",
     "text": [
      "(1, 2, 3, 4, 5, 6, 7, 8, 9, 10)\n"
     ]
    }
   ],
   "source": [
    "merge_tuple = a + b\n",
    "print(merge_tuple)"
   ]
  },
  {
   "cell_type": "markdown",
   "id": "3f289920-4e1a-4b3a-bea3-84093b09067f",
   "metadata": {},
   "source": [
    "1. Create a two tuple inside the variable a and variable b.\n",
    "2. Inside the merge_tuple variable we are concating two tuples by using a + b and stored inside the variable merge_tuple \n",
    "3. Print the result"
   ]
  },
  {
   "cell_type": "markdown",
   "id": "76c96498-92f4-4811-88f8-64c6b9fe279d",
   "metadata": {},
   "source": [
    "31. Flatten a nested tuple."
   ]
  },
  {
   "cell_type": "code",
   "execution_count": 108,
   "id": "b1ba8a8d-7a8d-474c-92f8-e4897a518c69",
   "metadata": {},
   "outputs": [],
   "source": [
    "a = ((1,2,4), (4,5,6),(7,8,9,10))"
   ]
  },
  {
   "cell_type": "code",
   "execution_count": 111,
   "id": "9f7b9c91-9f2a-4bd8-805d-70dce54618ee",
   "metadata": {},
   "outputs": [
    {
     "name": "stdout",
     "output_type": "stream",
     "text": [
      "(1, 2, 4, 4, 5, 6, 7, 8, 9, 10)\n"
     ]
    }
   ],
   "source": [
    "flatten_tuple = ()\n",
    "for i in a:\n",
    "    flatten_tuple += i\n",
    "print(flatten_tuple)"
   ]
  },
  {
   "cell_type": "markdown",
   "id": "987a4170-7b57-4686-bda6-0dfa2f39a48a",
   "metadata": {},
   "source": [
    "1. Create a tuplle insdide the variable a\n",
    "2. Inside the tuple we have created a nested tuple inside tuple a \n",
    "3. Create another tuple called flatten_tuple \n",
    "4. By using for loop in tuple a it will iterate through all tuple inside tuple a and add it to flatten_tuple\n",
    "5. Print the tuple "
   ]
  },
  {
   "cell_type": "markdown",
   "id": "56857e31-1574-4061-aa56-61c85711385c",
   "metadata": {},
   "source": [
    "32. Create a tuple of the first 5 prime numbers."
   ]
  },
  {
   "cell_type": "code",
   "execution_count": 112,
   "id": "4ca66a09-7fd8-4e17-bd7d-19c48b0ce344",
   "metadata": {},
   "outputs": [
    {
     "name": "stdout",
     "output_type": "stream",
     "text": [
      "Tuple of the first 5 prime numbers: (2, 3, 5, 7, 11)\n"
     ]
    }
   ],
   "source": [
    "def is_prime(num):\n",
    "    if num <= 1:\n",
    "        return False\n",
    "    for i in range(2, int(num ** 0.5) + 1):\n",
    "        if num % i == 0:\n",
    "            return False\n",
    "    return True\n",
    "prime_numbers_list = [num for num in range(2, 100) if is_prime(num)][:5]\n",
    "\n",
    "\n",
    "prime_numbers_tuple = tuple(prime_numbers_list)\n",
    "\n",
    "print(\"Tuple of the first 5 prime numbers:\", prime_numbers_tuple)"
   ]
  },
  {
   "cell_type": "markdown",
   "id": "06605241-3d20-4524-82df-cb018df66ccc",
   "metadata": {},
   "source": [
    "1. We define a function called prime numbers\n",
    "2. Inside that prime number if any number is less than 1 that is not a prime number \n",
    "3. By using for loop in range of 2 to num which will take input from the user.\n",
    "4. If any number will be divisible by that number and remainder 0 then it should not be a prime number\n",
    "5. By using list comprehension we are converting all the numbers within the range of 2 to 100 and in that list we are using the first 5 prime numbers by using slicing \n",
    "6. That prime_number_list will be converted into the prime_number_tuple \n",
    "7. Print the result"
   ]
  },
  {
   "cell_type": "markdown",
   "id": "e0d658c9-7181-42d0-8cc3-9c41ca0517f4",
   "metadata": {},
   "source": [
    "33. Check if a tuple is a palindrome."
   ]
  },
  {
   "cell_type": "code",
   "execution_count": 124,
   "id": "61a8d5fc-09f1-4984-b074-597c2cb9dd8e",
   "metadata": {},
   "outputs": [],
   "source": [
    "a = (1, 2, 1)\n",
    "reverse_a = a[::-1]"
   ]
  },
  {
   "cell_type": "code",
   "execution_count": 125,
   "id": "17a57412-73b8-42b9-b537-2347c7d74084",
   "metadata": {},
   "outputs": [
    {
     "name": "stdout",
     "output_type": "stream",
     "text": [
      "These tuple is palindrome\n"
     ]
    }
   ],
   "source": [
    "if a == reverse_a:\n",
    "    print('These tuple is palindrome')\n",
    "else:\n",
    "    print('These tuple is not palindrome')"
   ]
  },
  {
   "cell_type": "markdown",
   "id": "4c3f156d-93d7-467a-b2c6-77df2cfa27ee",
   "metadata": {},
   "source": [
    "1. Create a tuple inside the variable a\n",
    "2. Declare another varaiable reverse_a we are reversing the tuple by using reverse slicing\n",
    "3. If normal tuplea and reverse tuple is equal then print these tuple is palindrome otherwise these tuple is not palindrome."
   ]
  },
  {
   "cell_type": "markdown",
   "id": "a96c5cb6-dab2-4aa2-aa62-47ec019023a7",
   "metadata": {},
   "source": [
    "34. Create a tuple of squares of numbers from 1 to 5."
   ]
  },
  {
   "cell_type": "code",
   "execution_count": 128,
   "id": "27d3a47c-ed70-4892-b7b7-178be8b0eaba",
   "metadata": {},
   "outputs": [],
   "source": [
    "a = []"
   ]
  },
  {
   "cell_type": "code",
   "execution_count": 127,
   "id": "2e6e5aeb-b760-45c4-bcd6-8de287c39d02",
   "metadata": {},
   "outputs": [
    {
     "name": "stdout",
     "output_type": "stream",
     "text": [
      "(1, 4, 9, 16, 25)\n"
     ]
    }
   ],
   "source": [
    "for i in range(1, 6):\n",
    "    a.append(i**2)\n",
    "print(tuple(a))"
   ]
  },
  {
   "cell_type": "markdown",
   "id": "d17bb2a8-0c76-4180-b39a-90e8687d38e3",
   "metadata": {},
   "source": [
    "1. Create a empty list inside the variable a\n",
    "2. By using for loop in range of 1 to 6 it will iterate through all the numbers inside the range 1 to 6.\n",
    "3. By using squaring each number and appending all the numbers into the empty list a\n",
    "4. By using data type conversion method we will convert the list into the tuple "
   ]
  },
  {
   "cell_type": "markdown",
   "id": "b567d243-7027-44de-83d9-e0752a0ea246",
   "metadata": {},
   "source": [
    "35. Filter out all even numbers from a tuple."
   ]
  },
  {
   "cell_type": "code",
   "execution_count": 130,
   "id": "98c1f2a2-003d-4309-9630-3e0242f271a0",
   "metadata": {},
   "outputs": [],
   "source": [
    "a = (1, 2, 3, 4, 5, 6, 7, 8, 9, 10)"
   ]
  },
  {
   "cell_type": "code",
   "execution_count": 132,
   "id": "2da166e7-b070-4d74-8802-2725d67ff6de",
   "metadata": {},
   "outputs": [
    {
     "name": "stdout",
     "output_type": "stream",
     "text": [
      "(1, 3, 5, 7, 9)\n"
     ]
    }
   ],
   "source": [
    "filter_tuple = []\n",
    "for i in a:\n",
    "    if i % 2 != 0:\n",
    "        filter_tuple.append(i)\n",
    "print(tuple(filter_tuple))"
   ]
  },
  {
   "cell_type": "markdown",
   "id": "29acf884-4c06-4986-a451-64009387d357",
   "metadata": {},
   "source": [
    "1. Creating a tuple inside the variable a \n",
    "2. By using for loop it will iterate through all the numbers inside the variable a and if that number is divisible 2 and having the remainder is not equal to 0 then that number will be appeding to list of filter_tuple\n",
    "3. By using type conversion tuple(filter_tuple) it will convert the list into tuple and print the result "
   ]
  },
  {
   "cell_type": "markdown",
   "id": "e79c0297-10bb-4b2e-958a-f9407b6dbd2a",
   "metadata": {},
   "source": [
    "36. Multiply all elements in a tuple by 2."
   ]
  },
  {
   "cell_type": "code",
   "execution_count": 138,
   "id": "94d20e98-5079-4b2a-a68f-ec7de629b375",
   "metadata": {},
   "outputs": [],
   "source": [
    "a = (1, 2, 3, 4, 5, 6, 7, 8, 9, 10)"
   ]
  },
  {
   "cell_type": "code",
   "execution_count": 139,
   "id": "cfd19270-cf35-45c5-89c1-799477aa62fe",
   "metadata": {},
   "outputs": [],
   "source": [
    "multiply_tuple = []"
   ]
  },
  {
   "cell_type": "code",
   "execution_count": 140,
   "id": "b29640ba-0234-4e5a-ac8e-29a757de92d5",
   "metadata": {},
   "outputs": [
    {
     "name": "stdout",
     "output_type": "stream",
     "text": [
      "(2, 4, 6, 8, 10, 12, 14, 16, 18, 20)\n"
     ]
    }
   ],
   "source": [
    "for i in a:\n",
    "    multiply_tuple.append(i*2)\n",
    "print(tuple(multiply_tuple))"
   ]
  },
  {
   "cell_type": "markdown",
   "id": "07aa5172-86dd-48f6-b600-eef18ab998ec",
   "metadata": {},
   "source": [
    "1. Creating a tuple inside the variable a \n",
    "2. By using for loop it will iterate through all the numbers inside the variable a and that number will be divisible by 2 and append that number into the lis of multiply_tuple\n",
    "3. By using type conversion tuple(multiply_tuple) it will convert the list into tuple and print the result "
   ]
  },
  {
   "cell_type": "markdown",
   "id": "af25e08a-a413-4e6a-af59-0fb141d9eed4",
   "metadata": {},
   "source": [
    "37. Create a tuple of random numbers."
   ]
  },
  {
   "cell_type": "code",
   "execution_count": 144,
   "id": "14de6f1a-22ba-4b8f-960b-77981e84deff",
   "metadata": {},
   "outputs": [],
   "source": [
    "import random\n",
    "a = []\n",
    "b = range(1, 10)"
   ]
  },
  {
   "cell_type": "code",
   "execution_count": 145,
   "id": "ff18a42a-dc06-4f65-b113-55a9131e2427",
   "metadata": {},
   "outputs": [
    {
     "name": "stdout",
     "output_type": "stream",
     "text": [
      "(7, 6, 6, 7, 3, 7, 2, 6, 8)\n"
     ]
    }
   ],
   "source": [
    "for i in range(1, 10):\n",
    "    a.append(random.choice(b))\n",
    "print(tuple(a))"
   ]
  },
  {
   "cell_type": "markdown",
   "id": "5f8ff4ba-af13-4f96-87d5-164e026fe37f",
   "metadata": {},
   "source": [
    "1. Creating a empty list inside th variable a \n",
    "2. Declaring another varible b which is having a range of numbers between 1 to 10\n",
    "3. By using for loop within the range of 1 to 10 it will iterate through all the numbers inside the range of numbers\n",
    "4. By using random.choice function it will choose the random number from the variable and append it to list a\n",
    "5. By using th type conversion tuple(a) it will convert the list into the tuple"
   ]
  },
  {
   "cell_type": "markdown",
   "id": "b999bd25-5e95-49f3-8d98-f6392ea4b707",
   "metadata": {},
   "source": [
    "38. Check if a tuple is sorted."
   ]
  },
  {
   "cell_type": "code",
   "execution_count": 146,
   "id": "b61fe369-c868-454c-bcb3-c9edb84b4d2f",
   "metadata": {},
   "outputs": [],
   "source": [
    "a = (1, 2, 3, 4, 5, 6, 7, 8, 9, 10)"
   ]
  },
  {
   "cell_type": "code",
   "execution_count": 147,
   "id": "1fd63e11-c05f-4140-b2a3-3ea9365fcc35",
   "metadata": {},
   "outputs": [],
   "source": [
    "b = tuple(sorted(a))"
   ]
  },
  {
   "cell_type": "code",
   "execution_count": 148,
   "id": "2cee2ee4-9201-4413-aa8c-89b62f9cb1f9",
   "metadata": {},
   "outputs": [
    {
     "name": "stdout",
     "output_type": "stream",
     "text": [
      "These tuple is sorted tuple\n"
     ]
    }
   ],
   "source": [
    "if a == b:\n",
    "    print('These tuple is sorted tuple')\n",
    "else:\n",
    "    print('These tuple is not sorted tuple')"
   ]
  },
  {
   "cell_type": "markdown",
   "id": "5236312c-b36f-4dcb-a675-ab76e45043d0",
   "metadata": {},
   "source": [
    "1. Create a tuple inside the variable a\n",
    "2. Declare another variable b and sort the tuple by using sorted function convert that into tuple.\n",
    "3. By using conditional statement if the normal tuple is equal to sorted tuple then this tuple is sorted tuple "
   ]
  },
  {
   "cell_type": "markdown",
   "id": "f5ee9d2e-355c-4ab8-82fb-9cb06b8be4f6",
   "metadata": {},
   "source": [
    "39. Rotate a tuple to the left by `n` positions."
   ]
  },
  {
   "cell_type": "code",
   "execution_count": 152,
   "id": "68880a4c-7e34-4eda-9dd4-aa0f61d3a3f2",
   "metadata": {},
   "outputs": [],
   "source": [
    "a = (1, 2, 3, 4, 5, 6, 7, 8, 9, 10)\n",
    "n = 2 % len(a)"
   ]
  },
  {
   "cell_type": "code",
   "execution_count": 156,
   "id": "a4e8ce53-f456-4fdc-9a5f-66c73b3c619f",
   "metadata": {},
   "outputs": [],
   "source": [
    "rotate_left = a[n:] + a[:n]"
   ]
  },
  {
   "cell_type": "code",
   "execution_count": 157,
   "id": "01c3641f-4838-4c73-ac72-e0b26813e2c0",
   "metadata": {},
   "outputs": [
    {
     "name": "stdout",
     "output_type": "stream",
     "text": [
      "(3, 4, 5, 6, 7, 8, 9, 10, 1, 2)\n"
     ]
    }
   ],
   "source": [
    "print(rotate_left)"
   ]
  },
  {
   "cell_type": "markdown",
   "id": "8e4b78a3-4144-4cd6-a28b-f6e2e05fd618",
   "metadata": {},
   "source": [
    "1. Create a tuple inside the variable a \n",
    "2. Create another variable a inside that variable check if that index number is greater than the len(tuple) then it will divide the number by len(tuple).\n",
    "3. By usinf slicing we are merging both the tuples and print the results"
   ]
  },
  {
   "cell_type": "markdown",
   "id": "d4f6fc13-063d-433d-8fa7-e92418255eb8",
   "metadata": {},
   "source": [
    "40. Rotate a tuple to the right by `n` positions."
   ]
  },
  {
   "cell_type": "code",
   "execution_count": 158,
   "id": "fe31b3a0-0d1e-416b-b033-dd5fbf7b36c8",
   "metadata": {},
   "outputs": [],
   "source": [
    "a = (1, 2, 3, 4, 5, 6, 7, 8, 9, 10)\n",
    "n = 2 % len(a)"
   ]
  },
  {
   "cell_type": "code",
   "execution_count": 159,
   "id": "14e9bf7b-0fd1-4e02-b783-b3d8cb577a05",
   "metadata": {},
   "outputs": [],
   "source": [
    "rotate_right = a[-n:] + a[:-n]"
   ]
  },
  {
   "cell_type": "code",
   "execution_count": 160,
   "id": "9431c80f-6da7-4621-b12d-7bc48bf37b40",
   "metadata": {},
   "outputs": [
    {
     "name": "stdout",
     "output_type": "stream",
     "text": [
      "(9, 10, 1, 2, 3, 4, 5, 6, 7, 8)\n"
     ]
    }
   ],
   "source": [
    "print(rotate_right)"
   ]
  },
  {
   "cell_type": "markdown",
   "id": "443603bd-62d8-4f58-95ca-f8375530ca2b",
   "metadata": {},
   "source": [
    "1. Create a tuple inside the variable a \n",
    "2. Create another variable a inside that variable check if that index number is greater than the len(tuple) then it will divide the number by len(tuple).\n",
    "3. By using reverse slicing we are merging both the tuples and print the results"
   ]
  },
  {
   "cell_type": "markdown",
   "id": "f30825d5-14a2-4e2b-b022-1a7c2e7a4995",
   "metadata": {},
   "source": [
    "41. Create a tuple of the first 5 Fibonacci numbers."
   ]
  },
  {
   "cell_type": "code",
   "execution_count": 5,
   "id": "6141a6e4-f442-41ed-b141-f84cb4e66c8b",
   "metadata": {},
   "outputs": [],
   "source": [
    "n = 5\n",
    "fibonacci_number = [0, 1]\n",
    "while len(fibonacci_number) < n:\n",
    "    next_number = fibonacci_number[-1] + fibonacci_number[-2]\n",
    "    fibonacci_number.append(next_number)"
   ]
  },
  {
   "cell_type": "code",
   "execution_count": 6,
   "id": "413b6edf-d47a-4bcf-8acc-b8c90cd8b938",
   "metadata": {},
   "outputs": [
    {
     "name": "stdout",
     "output_type": "stream",
     "text": [
      "(0, 1, 1, 2, 3)\n"
     ]
    }
   ],
   "source": [
    "print(tuple(fibonacci_number))"
   ]
  },
  {
   "cell_type": "markdown",
   "id": "64b77d6d-25ad-438c-8583-bc7ac903566d",
   "metadata": {},
   "source": [
    "1. Declare a variable n and which is set them 5 because we want 5 fibonacci number.\n",
    "2. Declare another variable called fibonacci number inside that variable we declare list which [0, 1] which is an starting two number fibonacci number\n",
    "3. By using while loop if len(fibonacci_number) less than the variable n which is an user input in integer then this while loop will continue runing until these condition statisfy\n",
    "4. Declare another varibale called next_number inside that variable we are defining an formaulae for fibonacci number \n",
    "5. Then those number we are appending into the list of fibonacci number and then by using type conversion Tuple(fibonacci_number) we are printing the result."
   ]
  },
  {
   "cell_type": "markdown",
   "id": "d60aeb49-2936-48ff-bea8-0cb31c2700b3",
   "metadata": {},
   "source": [
    "42. Create a tuple from user input."
   ]
  },
  {
   "cell_type": "code",
   "execution_count": 13,
   "id": "a3bb7d48-3829-428a-8e19-35e13857926b",
   "metadata": {},
   "outputs": [
    {
     "name": "stdin",
     "output_type": "stream",
     "text": [
      "Enter something:  12345678\n"
     ]
    }
   ],
   "source": [
    "a = input(\"Enter something: \")"
   ]
  },
  {
   "cell_type": "code",
   "execution_count": 14,
   "id": "f71175f9-da6e-4352-9751-a1d70b5239b7",
   "metadata": {},
   "outputs": [
    {
     "name": "stdout",
     "output_type": "stream",
     "text": [
      "('1', '2', '3', '4', '5', '6', '7', '8')\n"
     ]
    }
   ],
   "source": [
    "b = tuple(a)\n",
    "print(b)"
   ]
  },
  {
   "cell_type": "markdown",
   "id": "1b2347cb-5d13-449b-be98-042e25104881",
   "metadata": {},
   "source": [
    "1. Create a variable a in which we are taking input from the user \n",
    "2. By using type conversion method we are using tuple(a) to convert into tuple\n",
    "3. Print the result"
   ]
  },
  {
   "cell_type": "markdown",
   "id": "71b5d289-dda5-4853-991c-145da61c58da",
   "metadata": {},
   "source": [
    "43. Swap two elements in a tuple."
   ]
  },
  {
   "cell_type": "code",
   "execution_count": 15,
   "id": "4cd8fe76-0559-446d-adc8-b131167d0c06",
   "metadata": {},
   "outputs": [],
   "source": [
    "a = (1, 3, 3, 4, 5, 6, 7, 8)"
   ]
  },
  {
   "cell_type": "code",
   "execution_count": 16,
   "id": "ce4884e2-fb6c-471d-ac4f-63b20eb08592",
   "metadata": {},
   "outputs": [],
   "source": [
    "index_1 = 4\n",
    "index_2 = 6"
   ]
  },
  {
   "cell_type": "code",
   "execution_count": 18,
   "id": "7cc5583f-382d-4289-bc97-4c090df006ab",
   "metadata": {},
   "outputs": [
    {
     "name": "stdout",
     "output_type": "stream",
     "text": [
      "(1, 3, 3, 4, 7, 6, 5, 8)\n"
     ]
    }
   ],
   "source": [
    "b = list(a)\n",
    "temp = b[index_1]\n",
    "b[index_1] = b[index_2]\n",
    "b[index_2] = temp\n",
    "print(tuple(b))"
   ]
  },
  {
   "cell_type": "markdown",
   "id": "1564ae4c-05f5-429d-8a77-24c420866ba1",
   "metadata": {},
   "source": [
    "1. Create a tuple inside the variable a \n",
    "2. Create another two variable index_1 and index_2 in that variables we are mentioning the index number \n",
    "3. We are converting tuples into the list and store that list into the variable b.\n",
    "4. The first index element will be storing into temp variable and then swaping index both the element which is present inside the list at that insdec number with the help of temp variable\n",
    "5. Print the result and convert the list into the tuple again"
   ]
  },
  {
   "cell_type": "markdown",
   "id": "8f734719-9fbb-4726-845d-8a53c9ebb46a",
   "metadata": {},
   "source": [
    "44. Reverse the elements of a tuple."
   ]
  },
  {
   "cell_type": "code",
   "execution_count": 19,
   "id": "4aacb531-e7b6-4ab5-8767-3ed792c1d6ca",
   "metadata": {},
   "outputs": [],
   "source": [
    "a  = (1, 2, 3, 4, 5, 6, 7, 8)"
   ]
  },
  {
   "cell_type": "code",
   "execution_count": 20,
   "id": "b469408b-3b55-49d6-8a02-1e4c9d07a690",
   "metadata": {},
   "outputs": [
    {
     "name": "stdout",
     "output_type": "stream",
     "text": [
      "(8, 7, 6, 5, 4, 3, 2, 1)\n"
     ]
    }
   ],
   "source": [
    "b = a[::-1]\n",
    "print(b)"
   ]
  },
  {
   "cell_type": "markdown",
   "id": "c2cfff49-894d-43e0-9072-754f9e33fcfa",
   "metadata": {},
   "source": [
    "1. Create a tuple inside the variable a\n",
    "2. By using reverse indexing in tuple that tuple will be store into the variable b\n",
    "3. Print the result "
   ]
  },
  {
   "cell_type": "markdown",
   "id": "21532c87-f8d8-4e1a-a0bd-1f1dcf9b23d8",
   "metadata": {},
   "source": [
    "45. Create a tuple of the first `n` powers of 2."
   ]
  },
  {
   "cell_type": "code",
   "execution_count": 23,
   "id": "3b865622-30ee-4625-b2e7-9e661bd5ed4f",
   "metadata": {},
   "outputs": [],
   "source": [
    "a = []\n",
    "n = 5"
   ]
  },
  {
   "cell_type": "code",
   "execution_count": 24,
   "id": "1ca48d28-9fc9-43d3-beb2-a574806619c8",
   "metadata": {},
   "outputs": [
    {
     "name": "stdout",
     "output_type": "stream",
     "text": [
      "(2, 4, 8, 16)\n"
     ]
    }
   ],
   "source": [
    "for i in range(1, n):\n",
    "    a.append(2 ** i)\n",
    "print(tuple(a))"
   ]
  },
  {
   "cell_type": "markdown",
   "id": "ca901501-3471-42c6-b0a1-21e85f9a73e1",
   "metadata": {},
   "source": [
    "1. Create a empty list inside the variable a.\n",
    "2. Create another variable n which is having the value 5\n",
    "3. By using for loop in range 1 to variable n which we entering number it will iterate through all the numbers and then squaring 2 to all numbers which is present whithin the range.\n",
    "4. Append those number into the list and then converting into tuple and print the result"
   ]
  },
  {
   "cell_type": "markdown",
   "id": "1d1de39f-aa06-41ab-920c-7e9a266ae583",
   "metadata": {},
   "source": [
    "46. Find the longest string in a tuple of strings."
   ]
  },
  {
   "cell_type": "code",
   "execution_count": 25,
   "id": "0b9e2550-64c3-4e72-aa7e-67fead606a89",
   "metadata": {},
   "outputs": [],
   "source": [
    "a = ('Python', 'Flutter', 'Java', 'Scala')"
   ]
  },
  {
   "cell_type": "code",
   "execution_count": 26,
   "id": "feb43b70-0f8e-4541-85e0-d054297452d5",
   "metadata": {},
   "outputs": [
    {
     "name": "stdout",
     "output_type": "stream",
     "text": [
      "Flutter\n"
     ]
    }
   ],
   "source": [
    "longest_string = ' '\n",
    "for i in a:\n",
    "    if len(i) > len(longest_string):\n",
    "        longest_string = i\n",
    "print(longest_string)"
   ]
  },
  {
   "cell_type": "markdown",
   "id": "086cc44a-c4e4-4fac-aa6d-ec6fd9d34f43",
   "metadata": {},
   "source": [
    "1. Create a tuple inside the varible a having data type of string\n",
    "2. Create another variable and set them as an empty string \n",
    "3. By using for loop it will iterate through all the element present inside the tuple one by one.\n",
    "4. By using conditional statement if length of current string is greater than longest_string then that string will be store into the longest string and check each every iteration.\n",
    "5. Print the result "
   ]
  },
  {
   "cell_type": "markdown",
   "id": "09cfb382-f262-4853-a51f-d74f437a2242",
   "metadata": {},
   "source": [
    "47. Find the shortest string in a tuple of strings."
   ]
  },
  {
   "cell_type": "code",
   "execution_count": 27,
   "id": "e1bb944e-e5a4-4197-8eaf-7ff55b5674ba",
   "metadata": {},
   "outputs": [],
   "source": [
    "a = ('Python', 'Flutter', 'Java', 'Scala')"
   ]
  },
  {
   "cell_type": "code",
   "execution_count": 28,
   "id": "812018a8-d619-4f8c-a22c-633f24d58679",
   "metadata": {},
   "outputs": [
    {
     "name": "stdout",
     "output_type": "stream",
     "text": [
      "Java\n"
     ]
    }
   ],
   "source": [
    "shortest_string = a[0]\n",
    "for i in a:\n",
    "    if len(i) < len(shortest_string):\n",
    "        shortest_string = i\n",
    "print(shortest_string)"
   ]
  },
  {
   "cell_type": "markdown",
   "id": "9daf9adf-1d69-43bf-89c4-5c5338ce5384",
   "metadata": {},
   "source": [
    "1. Create a tuple inside the varible a having data type of string\n",
    "2. Create another variable shortest_string and we have given a first element from the tuple \n",
    "3. By using for loop it will iterate through all the element present inside the tuple one by one.\n",
    "4. By using conditional statement if length of current string is less than shortest_string then that string will be store into the shortest string and check each every iteration.\n",
    "5. Print the result "
   ]
  },
  {
   "cell_type": "markdown",
   "id": "a6cd5677-1597-4e2c-8d53-4b82b65b00b0",
   "metadata": {},
   "source": [
    "48. Create a tuple of the first `n` triangular numbers."
   ]
  },
  {
   "cell_type": "code",
   "execution_count": 29,
   "id": "4e428a8e-a07a-4e1c-9769-2d493cabb746",
   "metadata": {},
   "outputs": [],
   "source": [
    "a = []\n",
    "n = 5"
   ]
  },
  {
   "cell_type": "code",
   "execution_count": 30,
   "id": "d82a0c18-d3db-4150-bb98-6823fdcc1655",
   "metadata": {},
   "outputs": [
    {
     "name": "stdout",
     "output_type": "stream",
     "text": [
      "(1, 3, 6, 10, 15)\n"
     ]
    }
   ],
   "source": [
    "for i in range(1, n+1):\n",
    "    b = (i* (i+1)//2)\n",
    "    a.append(b)\n",
    "print(tuple(a))"
   ]
  },
  {
   "cell_type": "markdown",
   "id": "cb78f7ba-d923-4920-8eb8-cc8e96dc5577",
   "metadata": {},
   "source": [
    "1. Create a empty list inside the variable a\n",
    "2. Create another variable n which is equal to 5\n",
    "3. By using for loop 1 to variable n + 1 it will iterate through all the numbers within these range.\n",
    "4. Defining formulae for triangular numbers into the variable b and then append those number into the list a \n",
    "5. Convert the list into the tuple and then print the result"
   ]
  },
  {
   "cell_type": "markdown",
   "id": "f0727113-c499-48f0-825b-fd4f6aac9876",
   "metadata": {},
   "source": [
    "49. Check if a tuple contains another tuple as a subsequence."
   ]
  },
  {
   "cell_type": "code",
   "execution_count": 31,
   "id": "3dfeca15-bde7-4f46-8f34-fa27bc13df4b",
   "metadata": {},
   "outputs": [],
   "source": [
    "a = (1, 2, 3, 4, 5, 6, 7, 8, 9, 10)\n",
    "b = (3, 4, 5)"
   ]
  },
  {
   "cell_type": "code",
   "execution_count": 35,
   "id": "2419a83d-3299-4eab-b8cc-3d1ce05f05a0",
   "metadata": {},
   "outputs": [],
   "source": [
    "def subsequence(a, b):\n",
    "    for i in b:\n",
    "        if i in a:\n",
    "            return 'These tuple have subsequence'\n",
    "        else:\n",
    "            return 'These tuple does not have subsequence'"
   ]
  },
  {
   "cell_type": "code",
   "execution_count": 36,
   "id": "979eabd8-9bb3-41ea-abc8-fe9343a6b538",
   "metadata": {},
   "outputs": [
    {
     "data": {
      "text/plain": [
       "'These tuple have subsequence'"
      ]
     },
     "execution_count": 36,
     "metadata": {},
     "output_type": "execute_result"
    }
   ],
   "source": [
    "subsequence(a, b)"
   ]
  },
  {
   "cell_type": "markdown",
   "id": "bb9566d1-eea3-430d-8249-ed6b862b34dd",
   "metadata": {},
   "source": [
    "1. Create a tuple inside the variable a\n",
    "2. Create a another tuple inside the variable b\n",
    "3. Define function subsequence which takes two arguments from the user and then using for loop if the element in the second tuple are present in the first tuple then return these tuple has subsequence"
   ]
  },
  {
   "cell_type": "markdown",
   "id": "7ec6d445-ae89-415c-bcc4-c83859fc51f5",
   "metadata": {},
   "source": [
    "50. Create a tuple of alternating 1s and 0s of length `n`."
   ]
  },
  {
   "cell_type": "code",
   "execution_count": 41,
   "id": "3c6f7cdf-3d50-4a39-b711-ec8f2fa32de0",
   "metadata": {},
   "outputs": [],
   "source": [
    "a = []\n",
    "n = 10"
   ]
  },
  {
   "cell_type": "code",
   "execution_count": 42,
   "id": "fb2710ae-3326-41e6-a679-b1060670a4f0",
   "metadata": {},
   "outputs": [
    {
     "name": "stdout",
     "output_type": "stream",
     "text": [
      "(0, 1, 0, 1, 0, 1, 0, 1, 0, 1)\n"
     ]
    }
   ],
   "source": [
    "for i in range(0,n):\n",
    "    a.append(i%2)\n",
    "print(tuple(a))"
   ]
  },
  {
   "cell_type": "markdown",
   "id": "892ee276-110b-4cd6-8a87-fd0b8d454a0e",
   "metadata": {},
   "source": [
    "1. Create an empty list inside the variable a\n",
    "2. Create another variable n and equal to 10\n",
    "3. By using for loop in range between 0 to n which is take the input from the user and then the number will be divisible by 2.\n",
    "4. That number will be appending to the list a \n",
    "5. Convert that list into tuple and then print the result "
   ]
  },
  {
   "cell_type": "markdown",
   "id": "84461299-3ec8-401b-8ee6-156850d6f9c2",
   "metadata": {},
   "source": [
    "# Set"
   ]
  },
  {
   "cell_type": "markdown",
   "id": "d48d198f-01cf-4a27-bac8-b78d711c6ba2",
   "metadata": {},
   "source": [
    "1. Create a set with integers from 1 to 5."
   ]
  },
  {
   "cell_type": "code",
   "execution_count": 45,
   "id": "5750aed7-9a6e-4451-9db9-e52ee9bad79d",
   "metadata": {},
   "outputs": [],
   "source": [
    "a = set()"
   ]
  },
  {
   "cell_type": "code",
   "execution_count": 46,
   "id": "56c34e9d-5942-4b8e-9b53-1ef4c6028eb2",
   "metadata": {},
   "outputs": [
    {
     "name": "stdout",
     "output_type": "stream",
     "text": [
      "{1, 2, 3, 4}\n"
     ]
    }
   ],
   "source": [
    "for i in range(1, 5):\n",
    "    a.add(i)\n",
    "print(a)"
   ]
  },
  {
   "cell_type": "markdown",
   "id": "51b69aaa-243b-413d-8344-691c0540dcb3",
   "metadata": {},
   "source": [
    "1. Create a empty set inside the variable a \n",
    "2. By using for in range between 1 to 5 it will iterate through all the number within the range 1 to 5\n",
    "3. In set there is fuction called set.add() it will add all element within the range between 1 to 5\n",
    "4. Print the result"
   ]
  },
  {
   "cell_type": "markdown",
   "id": "5c488a07-4eaf-4b44-a5f7-d180c66abf0c",
   "metadata": {},
   "source": [
    "2. Add an element to a set."
   ]
  },
  {
   "cell_type": "code",
   "execution_count": 49,
   "id": "482c57f6-f8f7-43ec-952d-a30c9d63bc7b",
   "metadata": {},
   "outputs": [],
   "source": [
    "a = {1, 2, 3, 4, 5}"
   ]
  },
  {
   "cell_type": "code",
   "execution_count": 50,
   "id": "f790efde-09f7-4676-a0b2-819c1e55ec3b",
   "metadata": {},
   "outputs": [],
   "source": [
    "a.add(6)"
   ]
  },
  {
   "cell_type": "code",
   "execution_count": 51,
   "id": "f1d035ab-b18c-42ff-9e68-db66b2da1787",
   "metadata": {},
   "outputs": [
    {
     "name": "stdout",
     "output_type": "stream",
     "text": [
      "{1, 2, 3, 4, 5, 6}\n"
     ]
    }
   ],
   "source": [
    "print(a)"
   ]
  },
  {
   "cell_type": "markdown",
   "id": "6c22e486-7e9f-4789-a4a5-79ddf31eb7c5",
   "metadata": {},
   "source": [
    "1. Create a set inside the variable a \n",
    "2. In set there is an function set.add function it will add the element in the set at the end of the set."
   ]
  },
  {
   "cell_type": "markdown",
   "id": "2732124b-fabf-4995-9a5c-e749de8ca74b",
   "metadata": {},
   "source": [
    "3. Remove an element from a set."
   ]
  },
  {
   "cell_type": "code",
   "execution_count": 52,
   "id": "10ea3d6d-9e42-4388-8ed0-e4a5975937ce",
   "metadata": {},
   "outputs": [],
   "source": [
    "a = {1, 2, 3, 4, 5, 6}"
   ]
  },
  {
   "cell_type": "code",
   "execution_count": 53,
   "id": "3ffa40bd-e391-403d-a9cf-122aaa4e8d8c",
   "metadata": {},
   "outputs": [],
   "source": [
    "a.remove(6)"
   ]
  },
  {
   "cell_type": "code",
   "execution_count": 54,
   "id": "3e435664-a67b-4c63-a9bd-28a68b62342f",
   "metadata": {},
   "outputs": [
    {
     "name": "stdout",
     "output_type": "stream",
     "text": [
      "{1, 2, 3, 4, 5}\n"
     ]
    }
   ],
   "source": [
    "print(a)"
   ]
  },
  {
   "cell_type": "markdown",
   "id": "f941a9f6-b274-4f33-928f-4269d5ab2b71",
   "metadata": {},
   "source": [
    "1. Create a set inside the variable a \n",
    "2. In set there is an function set.remove function it will remove the element from the set."
   ]
  },
  {
   "cell_type": "markdown",
   "id": "d2d0c1ce-ac9a-433a-9ac2-0d7d1de7b9d3",
   "metadata": {},
   "source": [
    "4. Check if an element exists in a set."
   ]
  },
  {
   "cell_type": "code",
   "execution_count": 55,
   "id": "6c3b5b90-9a9e-40bf-886f-0c349616c682",
   "metadata": {},
   "outputs": [],
   "source": [
    "a = {1, 2, 3, 4, 5}\n",
    "b = 2"
   ]
  },
  {
   "cell_type": "code",
   "execution_count": 56,
   "id": "97ee92a2-bf7f-44f1-ba1d-5cde95aaccb0",
   "metadata": {},
   "outputs": [
    {
     "name": "stdout",
     "output_type": "stream",
     "text": [
      "These element is present in these set\n"
     ]
    }
   ],
   "source": [
    "if b in a:\n",
    "    print('These element is present in these set')\n",
    "else:\n",
    "    print('These element is not present in these set')"
   ]
  },
  {
   "cell_type": "markdown",
   "id": "6bab585c-6927-490f-a2fe-23c2b9c03a33",
   "metadata": {},
   "source": [
    "1. Create a set inside the variable a.\n",
    "2. Create another vaiable b in which we metion element\n",
    "3. By using the conditional statement if that element present in variable b is presnt inside set a then print the these element is present in these set."
   ]
  },
  {
   "cell_type": "markdown",
   "id": "3aa06ea8-8a29-4205-970c-57b11cdbf174",
   "metadata": {},
   "source": [
    "5. Find the length of a set without using the `len()` function."
   ]
  },
  {
   "cell_type": "code",
   "execution_count": 57,
   "id": "18a10c90-ef2a-4781-b224-ebceee1fbd96",
   "metadata": {},
   "outputs": [],
   "source": [
    "a = {1, 2, 3, 4, 5}"
   ]
  },
  {
   "cell_type": "code",
   "execution_count": 58,
   "id": "ebfcbd9a-2962-4614-a01f-b5eed80ea0dd",
   "metadata": {},
   "outputs": [
    {
     "name": "stdout",
     "output_type": "stream",
     "text": [
      "5\n"
     ]
    }
   ],
   "source": [
    "len_set = 0\n",
    "for i in a:\n",
    "    len_set += 1\n",
    "print(len_set)"
   ]
  },
  {
   "cell_type": "markdown",
   "id": "4bfcf710-c3ab-4b99-81fb-3225ddbb498b",
   "metadata": {},
   "source": [
    "1. Create a set inside the variable a \n",
    "2. create another variable len_ste which is having the value 0\n",
    "3. By using for loop in set a it will iterate through all the characters inside the set a and after each iteration it will add +1 in to the variable len_set\n",
    "4. Print the result "
   ]
  },
  {
   "cell_type": "markdown",
   "id": "c2ba5027-371f-4fc5-9c7b-a565599cf37d",
   "metadata": {},
   "source": [
    "6. Clear all elements from a set."
   ]
  },
  {
   "cell_type": "code",
   "execution_count": 59,
   "id": "f2ee4f6b-3e54-454c-935e-467813f25856",
   "metadata": {},
   "outputs": [],
   "source": [
    "a = {1, 2, 3, 4, 5}"
   ]
  },
  {
   "cell_type": "code",
   "execution_count": 60,
   "id": "25e4fc03-37aa-4347-b423-c7c56bff8eaf",
   "metadata": {},
   "outputs": [],
   "source": [
    "a.clear()"
   ]
  },
  {
   "cell_type": "code",
   "execution_count": 61,
   "id": "23d7e379-79c7-42c4-8410-5c1a98c09aad",
   "metadata": {},
   "outputs": [
    {
     "name": "stdout",
     "output_type": "stream",
     "text": [
      "set()\n"
     ]
    }
   ],
   "source": [
    "print(a)"
   ]
  },
  {
   "cell_type": "markdown",
   "id": "953b8f8a-081a-4994-9e50-2d98a11fb4b9",
   "metadata": {},
   "source": [
    "1. Create a set inside the variable a \n",
    "2. Inside set there is an function called set.clear() it will clear all element which are currently present inside the set.\n",
    "3. But it will not delete the set which we have created set will remain as it is "
   ]
  },
  {
   "cell_type": "markdown",
   "id": "c17f2665-13ec-47a4-a148-c41304a18753",
   "metadata": {},
   "source": [
    "7. Create a set of even numbers from 1 to 10."
   ]
  },
  {
   "cell_type": "code",
   "execution_count": 62,
   "id": "341dda21-1b84-406e-8536-1885b8841957",
   "metadata": {},
   "outputs": [],
   "source": [
    "a = set()"
   ]
  },
  {
   "cell_type": "code",
   "execution_count": 63,
   "id": "4e7253e1-3c65-49bd-b128-aec138eb8775",
   "metadata": {},
   "outputs": [
    {
     "name": "stdout",
     "output_type": "stream",
     "text": [
      "{2, 4, 6, 8, 10}\n"
     ]
    }
   ],
   "source": [
    "for i in range(1, 11):\n",
    "    if i%2 == 0:\n",
    "        a.add(i)\n",
    "print(a)"
   ]
  },
  {
   "cell_type": "markdown",
   "id": "0260f20f-f2d7-47e8-bb5f-499e199dbe7a",
   "metadata": {},
   "source": [
    "1. Create a empty set inside the variable a\n",
    "2. By using for loop it will iterate throuugh all the element which are currently present inside the range between 1 to 10.\n",
    "3. By using condition state if that element is divisible by and remainder is equal to 0 then that number will be add into the empty by using add function in set.\n",
    "4. Print the result "
   ]
  },
  {
   "cell_type": "markdown",
   "id": "52499f37-c710-4c44-82cb-20390af8296d",
   "metadata": {},
   "source": [
    "8. Create a set of odd numbers from 1 to 10."
   ]
  },
  {
   "cell_type": "code",
   "execution_count": 67,
   "id": "73a3fea7-2401-4ed0-a8be-047cb7843362",
   "metadata": {},
   "outputs": [],
   "source": [
    "a = set()"
   ]
  },
  {
   "cell_type": "code",
   "execution_count": 68,
   "id": "66625bfd-cde2-4278-a932-32117df3081d",
   "metadata": {},
   "outputs": [
    {
     "name": "stdout",
     "output_type": "stream",
     "text": [
      "{1, 3, 5, 7, 9}\n"
     ]
    }
   ],
   "source": [
    "for i in range(1, 11):\n",
    "    if i%2 != 0:\n",
    "        a.add(i)\n",
    "print(a)"
   ]
  },
  {
   "cell_type": "markdown",
   "id": "1393c625-4402-43cd-8e73-c38d495c3963",
   "metadata": {},
   "source": [
    "1. Create a empty set inside the variable a\n",
    "2. By using for loop it will iterate throuugh all the element which are currently present inside the range between 1 to 10.\n",
    "3. By using condition state if that element is divisible by 2 and remainder is not equal to 0 then that number will be add into the empty by using add function in set.\n",
    "4. Print the result "
   ]
  },
  {
   "cell_type": "markdown",
   "id": "39574f6b-65d2-48d1-9358-99a4644b17b1",
   "metadata": {},
   "source": [
    "9. Find the union of two sets."
   ]
  },
  {
   "cell_type": "code",
   "execution_count": 69,
   "id": "c66d10f2-7c42-4bcb-9c51-ce59e5e4fd46",
   "metadata": {},
   "outputs": [],
   "source": [
    "a = {1, 2, 3, 4, 5}\n",
    "b = {1, 2, 3, 8, 10}"
   ]
  },
  {
   "cell_type": "code",
   "execution_count": 70,
   "id": "58b6263f-6634-4f3a-b408-1f2f70603495",
   "metadata": {},
   "outputs": [
    {
     "data": {
      "text/plain": [
       "{1, 2, 3, 4, 5, 8, 10}"
      ]
     },
     "execution_count": 70,
     "metadata": {},
     "output_type": "execute_result"
    }
   ],
   "source": [
    "a.union(b)"
   ]
  },
  {
   "cell_type": "markdown",
   "id": "20719263-05f7-4cad-8df2-8e453ed20528",
   "metadata": {},
   "source": [
    "1. Create a two set a and b\n",
    "2. By using union method in set what union does is that it will merge the two sets if another set having duplicate value they remove the duplicate element and only unique element will be merge into set"
   ]
  },
  {
   "cell_type": "markdown",
   "id": "261f87af-fded-43a2-af44-6db48ef9d7c9",
   "metadata": {},
   "source": [
    "10. Find the intersection of two sets."
   ]
  },
  {
   "cell_type": "code",
   "execution_count": 75,
   "id": "51da5d7f-b574-408a-b911-822f00668dff",
   "metadata": {},
   "outputs": [],
   "source": [
    "a = {1, 2, 3, 4, 5}\n",
    "b = {1, 2, 3, 8, 10}"
   ]
  },
  {
   "cell_type": "code",
   "execution_count": 73,
   "id": "347fbabd-9a32-4ecd-bb41-031575dad67e",
   "metadata": {},
   "outputs": [
    {
     "data": {
      "text/plain": [
       "{1, 2, 3}"
      ]
     },
     "execution_count": 73,
     "metadata": {},
     "output_type": "execute_result"
    }
   ],
   "source": [
    "a.intersection(b)"
   ]
  },
  {
   "cell_type": "markdown",
   "id": "a66e43a7-7892-41d5-b69b-9b51876c2532",
   "metadata": {},
   "source": [
    "1. Create a two set a and b\n",
    "2. By using interseection method in set what intersection does is that will create a set of common element between both the set"
   ]
  },
  {
   "cell_type": "markdown",
   "id": "0e21e7fb-51d8-427a-bf58-bfced97b22a7",
   "metadata": {},
   "source": [
    "11. Find the difference between two sets."
   ]
  },
  {
   "cell_type": "code",
   "execution_count": 76,
   "id": "a74e0324-9582-4e03-9b85-8b84c97d9789",
   "metadata": {},
   "outputs": [],
   "source": [
    "a = {1, 2, 3, 4, 5}\n",
    "b = {1, 2, 3, 8, 10}"
   ]
  },
  {
   "cell_type": "code",
   "execution_count": 77,
   "id": "3153b342-8cb3-4434-afa1-26ea54c3cdd7",
   "metadata": {},
   "outputs": [
    {
     "data": {
      "text/plain": [
       "{4, 5}"
      ]
     },
     "execution_count": 77,
     "metadata": {},
     "output_type": "execute_result"
    }
   ],
   "source": [
    "a.difference(b)"
   ]
  },
  {
   "cell_type": "markdown",
   "id": "53550e4d-f0ab-4f31-8304-77f9bc9765e7",
   "metadata": {},
   "source": [
    "1. Create two sets inside the variable a and b\n",
    "2. By using difference method in set it will check that element in the first set are not present in the second set\n",
    "3. Print the result"
   ]
  },
  {
   "cell_type": "markdown",
   "id": "7533ec2f-3b67-4b9e-8e5b-a5ec2a73b419",
   "metadata": {},
   "source": [
    "12. Check if a set is a subset of another set."
   ]
  },
  {
   "cell_type": "code",
   "execution_count": 1,
   "id": "fea15ccf-9648-482d-a320-e5ae1ee54f6b",
   "metadata": {},
   "outputs": [],
   "source": [
    "a = {1, 2, 3, 4, 5, 6, 7, 8}\n",
    "b = {1, 2, 3}"
   ]
  },
  {
   "cell_type": "code",
   "execution_count": 4,
   "id": "5dde403d-03f9-4220-a827-390ae418d6a2",
   "metadata": {},
   "outputs": [
    {
     "name": "stdout",
     "output_type": "stream",
     "text": [
      "Set b is the subset of Set a\n"
     ]
    }
   ],
   "source": [
    "if b.issubset(a):\n",
    "    print('Set b is the subset of Set a')\n",
    "else:\n",
    "    print('Set b is not the subset of Set a')"
   ]
  },
  {
   "cell_type": "markdown",
   "id": "248cac57-b671-4dc2-a82a-78dac46769a5",
   "metadata": {},
   "source": [
    "1. Create a two set inside the variable a and vaeiable b.\n",
    "2. By using condition statement if set b is subset of set a if it is true then print the set b is the subset of set a else set b is not the subset of set a "
   ]
  },
  {
   "cell_type": "markdown",
   "id": "147a072a-00ad-444d-87bd-0df66cfb7de2",
   "metadata": {},
   "source": [
    "13. Check if a set is a superset of another set."
   ]
  },
  {
   "cell_type": "code",
   "execution_count": 5,
   "id": "f5148df3-9dd1-4e5a-b6cb-19ee76cd034d",
   "metadata": {},
   "outputs": [],
   "source": [
    "a = {1, 2, 3, 4, 5, 6, 7, 8}\n",
    "b = {1, 2, 3}"
   ]
  },
  {
   "cell_type": "code",
   "execution_count": 8,
   "id": "be72ce63-36bf-4711-af2f-850273a037b9",
   "metadata": {},
   "outputs": [
    {
     "name": "stdout",
     "output_type": "stream",
     "text": [
      "Set a is the superset of Set b\n"
     ]
    }
   ],
   "source": [
    "if a.issuperset(b):\n",
    "    print('Set a is the superset of Set b')\n",
    "else:\n",
    "    print('Set a is not the superset of Set b')"
   ]
  },
  {
   "cell_type": "markdown",
   "id": "c002bf67-58f8-43b9-8128-054824aa7c67",
   "metadata": {},
   "source": [
    "1. Create a two set inside the variable a and vaeiable b.\n",
    "2. By using condition statement if set a is superset of set a if it is true then print the set a is the superset of set b else set a is not the superset of set b"
   ]
  },
  {
   "cell_type": "markdown",
   "id": "ddc93584-8a54-4ba4-8922-df71bad4b2b5",
   "metadata": {},
   "source": [
    "14. Create a set from a list."
   ]
  },
  {
   "cell_type": "code",
   "execution_count": 9,
   "id": "a9653a23-cd84-41d1-85d5-2e9bb2e39578",
   "metadata": {},
   "outputs": [],
   "source": [
    "a = [1, 2, 3, 4, 5, 6, 7, 8, 9, 10]"
   ]
  },
  {
   "cell_type": "code",
   "execution_count": 10,
   "id": "8ec2d70f-a6ce-4057-851f-a8946592f096",
   "metadata": {},
   "outputs": [
    {
     "name": "stdout",
     "output_type": "stream",
     "text": [
      "{1, 2, 3, 4, 5, 6, 7, 8, 9, 10}\n"
     ]
    }
   ],
   "source": [
    "b = set(a)\n",
    "print(b)"
   ]
  },
  {
   "cell_type": "markdown",
   "id": "1b473d57-4129-4b82-8680-588bcc84b6a5",
   "metadata": {},
   "source": [
    "1. Create a list of numbers inside the variable a.\n",
    "2. By using type conversion method set(a) it will convert the list into set.\n",
    "3. Print the result "
   ]
  },
  {
   "cell_type": "markdown",
   "id": "d88a55f5-1b17-4568-89ec-817218654d27",
   "metadata": {},
   "source": [
    "15. Convert a set to a list."
   ]
  },
  {
   "cell_type": "code",
   "execution_count": 11,
   "id": "58fbd8cd-b286-43bd-b3ea-64d1414fcf42",
   "metadata": {},
   "outputs": [],
   "source": [
    "a = {1, 2, 3, 4, 5, 6, 7, 8, 9, 10}"
   ]
  },
  {
   "cell_type": "code",
   "execution_count": 13,
   "id": "f2e4a125-209c-4cbf-89e8-74535b6fc000",
   "metadata": {},
   "outputs": [
    {
     "name": "stdout",
     "output_type": "stream",
     "text": [
      "[1, 2, 3, 4, 5, 6, 7, 8, 9, 10]\n"
     ]
    }
   ],
   "source": [
    "b = list(a)\n",
    "print(b)"
   ]
  },
  {
   "cell_type": "markdown",
   "id": "cedf865f-a430-4f97-aa7b-7c1ca532ef7a",
   "metadata": {},
   "source": [
    "1. Create a list of numbers inside the variable a.\n",
    "2. By using type conversion method list(a) it will convert the set into list.\n",
    "3. Print the result "
   ]
  },
  {
   "cell_type": "markdown",
   "id": "a4d08825-684c-4c9b-8a0e-3e6b342f68cf",
   "metadata": {},
   "source": [
    "16. Remove a random element from a set."
   ]
  },
  {
   "cell_type": "code",
   "execution_count": 23,
   "id": "308f5117-dc4e-4ae5-a074-de66f0cdc298",
   "metadata": {},
   "outputs": [],
   "source": [
    "import random\n",
    "a = {1, 2, 3, 4, 5, 6, 7, 8, 9, 10}\n",
    "b = list(a)"
   ]
  },
  {
   "cell_type": "code",
   "execution_count": 24,
   "id": "71bfef15-b617-442e-8cb1-cc29fa71ef42",
   "metadata": {},
   "outputs": [
    {
     "name": "stdout",
     "output_type": "stream",
     "text": [
      "{1, 3, 4, 5, 6, 7, 8, 9, 10}\n"
     ]
    }
   ],
   "source": [
    "c = b.remove(random.choice(b))\n",
    "print(set(b))"
   ]
  },
  {
   "cell_type": "markdown",
   "id": "9fdf4a1c-6329-4501-9da0-188d9370802e",
   "metadata": {},
   "source": [
    "1. Create a set inside the variable a \n",
    "2. Convert the set into list by using type conversion list(a) it will convert set into list and then store into the variable b.\n",
    "3. Import random module. In list there is an method called remove inside that remove function we will be using random.choice from the list inside the variable b.\n",
    "4. It will choose the random number inside the list of variable b and store into the variable c\n",
    "5. Then that list covert into a set by using type conversion method set(b) and print the result"
   ]
  },
  {
   "cell_type": "markdown",
   "id": "fc9a235e-67ee-44c3-b224-59a37673215b",
   "metadata": {},
   "source": [
    "17. Pop an element from a set."
   ]
  },
  {
   "cell_type": "code",
   "execution_count": 1,
   "id": "d7bf1157-31ac-4d5b-9667-aa2c67a8a9dd",
   "metadata": {},
   "outputs": [],
   "source": [
    "a = {1, 2, 3, 4, 5, 6, 7, 8, 9, 10}"
   ]
  },
  {
   "cell_type": "code",
   "execution_count": 2,
   "id": "9c703b57-9e21-485d-bd03-7d2e4884874e",
   "metadata": {},
   "outputs": [
    {
     "data": {
      "text/plain": [
       "1"
      ]
     },
     "execution_count": 2,
     "metadata": {},
     "output_type": "execute_result"
    }
   ],
   "source": [
    "a.pop()"
   ]
  },
  {
   "cell_type": "code",
   "execution_count": 3,
   "id": "0c55914b-2e1a-458e-9487-3cfed2d079f0",
   "metadata": {},
   "outputs": [
    {
     "name": "stdout",
     "output_type": "stream",
     "text": [
      "{2, 3, 4, 5, 6, 7, 8, 9, 10}\n"
     ]
    }
   ],
   "source": [
    "print(a)"
   ]
  },
  {
   "cell_type": "markdown",
   "id": "f660f68e-fab7-4caf-9831-59a26c9882c4",
   "metadata": {},
   "source": [
    "1. Create a set inside the variable a\n",
    "2. By using set.pop() method it will display which element we are poping. by default it will remove the first element from the set\n",
    "3. Print the result"
   ]
  },
  {
   "cell_type": "markdown",
   "id": "8be4a2a8-0ae6-45d0-b901-fd7399c04a64",
   "metadata": {},
   "source": [
    "18. Check if two sets have no elements in common."
   ]
  },
  {
   "cell_type": "code",
   "execution_count": 9,
   "id": "e46645a3-51be-4ae5-9cc0-aef114d43dab",
   "metadata": {},
   "outputs": [],
   "source": [
    "a = {1, 2, 3, 4, 5}\n",
    "b = {6, 7, 8, 9, 10}"
   ]
  },
  {
   "cell_type": "code",
   "execution_count": 10,
   "id": "f73bed11-5d68-4669-91b4-c541027185ab",
   "metadata": {},
   "outputs": [
    {
     "name": "stdout",
     "output_type": "stream",
     "text": [
      "These two sets does not have the common element\n"
     ]
    }
   ],
   "source": [
    "if a.intersection(b):\n",
    "    print('These two sets have common element')\n",
    "else:\n",
    "    print('These two sets does not have the common element')"
   ]
  },
  {
   "cell_type": "markdown",
   "id": "b03e3879-d31d-465a-ad0a-693b95447610",
   "metadata": {},
   "source": [
    "1. Create a two sets inside the variable a and b\n",
    "2. By using conditional statetment if any element is common between the set a and set b then print these two sets have common element other wise print these two sets does not have the common element"
   ]
  },
  {
   "cell_type": "markdown",
   "id": "ffdc4da7-3fc5-45ac-ba2e-5bf0e7925ac7",
   "metadata": {},
   "source": [
    "19. Find the symmetric difference between two sets."
   ]
  },
  {
   "cell_type": "code",
   "execution_count": 13,
   "id": "f0574ebc-5f2c-4227-bc70-e955f50e1690",
   "metadata": {},
   "outputs": [],
   "source": [
    "a = {1, 2, 3, 4, 5}\n",
    "b = {1, 2, 8, 9, 10}"
   ]
  },
  {
   "cell_type": "code",
   "execution_count": 14,
   "id": "a459c40b-e788-465f-b07d-37e73dfb58e0",
   "metadata": {},
   "outputs": [
    {
     "data": {
      "text/plain": [
       "{3, 4, 5, 8, 9, 10}"
      ]
     },
     "execution_count": 14,
     "metadata": {},
     "output_type": "execute_result"
    }
   ],
   "source": [
    "a ^ b"
   ]
  },
  {
   "cell_type": "markdown",
   "id": "a02b5f94-db5e-4fd4-9a5d-9700e0fcac0f",
   "metadata": {},
   "source": [
    "1. Create a two sets a and b.\n",
    "2. For calculating symmetric difference between two sets we are using these symbol '^'.\n",
    "3. The symmetric difference means if two sets containing intersection it will remove that element and generate a new set"
   ]
  },
  {
   "cell_type": "markdown",
   "id": "02268add-7095-4e31-a1ce-b8dc9bdd8f3d",
   "metadata": {},
   "source": [
    "20. Update a set with elements from another set."
   ]
  },
  {
   "cell_type": "code",
   "execution_count": 15,
   "id": "4b532e7d-7d78-4469-ba01-d8b041f0fd53",
   "metadata": {},
   "outputs": [],
   "source": [
    "a = {1, 2, 3, 4, 5}\n",
    "b = {6, 7, 8, 9, 10}"
   ]
  },
  {
   "cell_type": "code",
   "execution_count": 16,
   "id": "25a794b4-83e4-4967-b20a-ec5e0f4f9cb7",
   "metadata": {},
   "outputs": [],
   "source": [
    "a.update(b)"
   ]
  },
  {
   "cell_type": "code",
   "execution_count": 17,
   "id": "99c94fca-80ab-47aa-97da-53cb077cbecd",
   "metadata": {},
   "outputs": [
    {
     "name": "stdout",
     "output_type": "stream",
     "text": [
      "{1, 2, 3, 4, 5, 6, 7, 8, 9, 10}\n"
     ]
    }
   ],
   "source": [
    "print(a)"
   ]
  },
  {
   "cell_type": "markdown",
   "id": "85ebb927-1844-431d-86d8-e386f1bc26b2",
   "metadata": {},
   "source": [
    "1. Create two sets inside the variable a and variable b\n",
    "2. By using the update function in set.It will add the element into the set from the another set.\n",
    "3. Print the result "
   ]
  },
  {
   "cell_type": "markdown",
   "id": "98a6e9d4-d428-40d7-a869-8d588f317da3",
   "metadata": {},
   "source": [
    "21. Create a set of the first 5 prime numbers."
   ]
  },
  {
   "cell_type": "code",
   "execution_count": 27,
   "id": "dc3be519-0e7d-4f05-844b-88c91a2ddd0d",
   "metadata": {},
   "outputs": [],
   "source": [
    "a = set()"
   ]
  },
  {
   "cell_type": "code",
   "execution_count": 28,
   "id": "533ab9ca-dc01-477e-aec0-2a36c2e46e4d",
   "metadata": {},
   "outputs": [],
   "source": [
    "def prime_number(num):\n",
    "    if num < 1:\n",
    "        return False\n",
    "    for i in range(2,int(num ** 0.5) + 1):\n",
    "        if num %i == 0:\n",
    "            return False\n",
    "    return True"
   ]
  },
  {
   "cell_type": "code",
   "execution_count": 31,
   "id": "4d793211-324a-4e10-8537-f16c945258d2",
   "metadata": {},
   "outputs": [
    {
     "name": "stdout",
     "output_type": "stream",
     "text": [
      "{1, 2, 3, 5, 7}\n"
     ]
    }
   ],
   "source": [
    "for i in range(1, 8):\n",
    "    if prime_number(i):\n",
    "        a.add(i)\n",
    "print(a)\n",
    "      "
   ]
  },
  {
   "cell_type": "markdown",
   "id": "9abf9417-6944-45eb-886c-2e63dd57f61e",
   "metadata": {},
   "source": [
    "1. Create a empty set inside the variable a \n",
    "2. create a function prime_number inside these function we are having one argument \n",
    "3. Inside these we are if the number is prime number or not .\n",
    "4. By using for loop in the range of 1 to 8 within these range of number it will check by using function called prime_number \n",
    "5. If that number is prime number then it will add it to the set a\n",
    "6. Print the result "
   ]
  },
  {
   "cell_type": "markdown",
   "id": "b514659c-a018-4e63-9fb0-7803dc23a871",
   "metadata": {},
   "source": [
    "22. Check if two sets are identical."
   ]
  },
  {
   "cell_type": "code",
   "execution_count": 1,
   "id": "69d93b32-31a9-4015-9f88-85286022dac8",
   "metadata": {},
   "outputs": [],
   "source": [
    "a = {1, 2, 3, 4, 5}\n",
    "b = {1, 2, 3, 4, 5}"
   ]
  },
  {
   "cell_type": "code",
   "execution_count": 2,
   "id": "b294ce64-2805-4f31-92af-de9c957f55c7",
   "metadata": {},
   "outputs": [
    {
     "name": "stdout",
     "output_type": "stream",
     "text": [
      "Thesse two sets are identical\n"
     ]
    }
   ],
   "source": [
    "if a == b:\n",
    "    print('Thesse two sets are identical')\n",
    "else:\n",
    "    print('These two sets are not identical')"
   ]
  },
  {
   "cell_type": "markdown",
   "id": "b1184189-f788-4ae0-bc25-50f9320f79f6",
   "metadata": {},
   "source": [
    "1. Create a two sets inside the variable a and variable b\n",
    "2. If set a is equal to set b if these condition is true then print these two sets are identical"
   ]
  },
  {
   "cell_type": "markdown",
   "id": "2bf851df-1c7a-465d-a26e-a5fec96ab163",
   "metadata": {},
   "source": [
    "23. Create a frozen set."
   ]
  },
  {
   "cell_type": "code",
   "execution_count": 7,
   "id": "02b6c63b-270c-4d0f-aae8-a02758ff1247",
   "metadata": {},
   "outputs": [],
   "source": [
    "#!pip install collection\n",
    "a = [1, 2, 3, 4, 5, 6, 7, 8, 9, 10]"
   ]
  },
  {
   "cell_type": "code",
   "execution_count": 8,
   "id": "cc2f2086-9a68-489a-95e2-30a49cebac46",
   "metadata": {},
   "outputs": [],
   "source": [
    "b = frozenset(a)"
   ]
  },
  {
   "cell_type": "code",
   "execution_count": 9,
   "id": "151a16e5-fd23-4756-89cd-15e81672ed70",
   "metadata": {},
   "outputs": [
    {
     "name": "stdout",
     "output_type": "stream",
     "text": [
      "frozenset({1, 2, 3, 4, 5, 6, 7, 8, 9, 10})\n"
     ]
    }
   ],
   "source": [
    "print(b)"
   ]
  },
  {
   "cell_type": "markdown",
   "id": "aba5c090-4fab-48a1-80bf-96e02509c25d",
   "metadata": {},
   "source": [
    "1. Create a list inside the variable \n",
    "2. Inside variable we define an frozenset class and into that class we pass variable which is having a list\n",
    "3. Print the result "
   ]
  },
  {
   "cell_type": "markdown",
   "id": "86bf9526-4b3b-4249-8a00-b73f58c03fb5",
   "metadata": {},
   "source": [
    "24. Check if a set is disjoint with another set."
   ]
  },
  {
   "cell_type": "code",
   "execution_count": 15,
   "id": "ee31f97f-3fec-46dd-b072-a30ae6991653",
   "metadata": {},
   "outputs": [],
   "source": [
    "a = {1, 2, 3, 4, 5}\n",
    "b = {6, 7, 8, 9, 10}"
   ]
  },
  {
   "cell_type": "code",
   "execution_count": 16,
   "id": "2f468e2e-672f-436e-ada2-16f8f325ad2f",
   "metadata": {},
   "outputs": [
    {
     "name": "stdout",
     "output_type": "stream",
     "text": [
      "These set is disjoint with another set\n"
     ]
    }
   ],
   "source": [
    "if a.isdisjoint(b):\n",
    "    print('These set is disjoint with another set')\n",
    "else:\n",
    "    print('These set not disjoint with another set')"
   ]
  },
  {
   "cell_type": "markdown",
   "id": "c6b8568b-9f27-4ebd-8ff4-122cc62f2e0a",
   "metadata": {},
   "source": [
    "1. Create a two sets inside the variable a and variable b\n",
    "2. By using conditional statement checking if any element is common between both sets if yes then these set is not disjoint and if any element between both set are not common then these set is dijoint with another set"
   ]
  },
  {
   "cell_type": "markdown",
   "id": "11a8d47c-2530-4c1a-8e7a-50daf63bf279",
   "metadata": {},
   "source": [
    "25. Create a set of squares of numbers from 1 to 5."
   ]
  },
  {
   "cell_type": "code",
   "execution_count": 31,
   "id": "b8d11f6c-36df-4dd1-8f67-9d8f7d29576c",
   "metadata": {},
   "outputs": [],
   "source": [
    "a = set()"
   ]
  },
  {
   "cell_type": "code",
   "execution_count": 32,
   "id": "0c047daf-5755-46be-bd65-07cd84cc8331",
   "metadata": {},
   "outputs": [
    {
     "name": "stdout",
     "output_type": "stream",
     "text": [
      "[1, 4, 9, 16, 25]\n"
     ]
    }
   ],
   "source": [
    "for i in range(1, 6):\n",
    "    a.add(i ** 2)\n",
    "print(sorted(a))"
   ]
  },
  {
   "cell_type": "markdown",
   "id": "9336fb65-5ad2-49a3-bd3a-d8bc68122810",
   "metadata": {},
   "source": [
    "1. Create a empty set inside the variable a \n",
    "2. By using for in range between 1 to 11 it will iterating through all the numbers within the range of 1 to 11 and add the square of each number into set\n",
    "3. By adding square number into the set it will store as an random number by using sorted function it will sort the number into ascending order.\n",
    "4. Print the result"
   ]
  },
  {
   "cell_type": "markdown",
   "id": "2d632ad6-6c4a-4d30-930c-77f4b8c600c3",
   "metadata": {},
   "source": [
    "26. Filter out all even numbers from a set."
   ]
  },
  {
   "cell_type": "code",
   "execution_count": 33,
   "id": "cbd64bef-4e89-435b-881b-98c194bfb971",
   "metadata": {},
   "outputs": [],
   "source": [
    "a = set()"
   ]
  },
  {
   "cell_type": "code",
   "execution_count": 34,
   "id": "7002af4d-c45c-410c-8382-1ff4d9331312",
   "metadata": {},
   "outputs": [
    {
     "name": "stdout",
     "output_type": "stream",
     "text": [
      "{1, 3, 5, 7, 9}\n"
     ]
    }
   ],
   "source": [
    "for i in range(1, 10):\n",
    "    if i%2 != 0:\n",
    "        a.add(i)\n",
    "print(a)"
   ]
  },
  {
   "cell_type": "markdown",
   "id": "12698d18-3765-4a8c-a895-7ceeb149a419",
   "metadata": {},
   "source": [
    "1. Create a empty set inside the variable a\n",
    "2. By using for loop inside th variable a between th range of 1 to 10 it wiil iterate through all the numbers and if that number is divided by 2 but it is not equal to 0 then that number will be added to set a\n",
    "3. Print the result "
   ]
  },
  {
   "cell_type": "markdown",
   "id": "241a4822-946c-4c51-8c2e-58c7608e2db8",
   "metadata": {},
   "source": [
    "27. Multiply all elements in a set by 2."
   ]
  },
  {
   "cell_type": "code",
   "execution_count": 36,
   "id": "1f493f81-6835-4b46-9396-569af80491a1",
   "metadata": {},
   "outputs": [],
   "source": [
    "a = set()"
   ]
  },
  {
   "cell_type": "code",
   "execution_count": 37,
   "id": "2c3cfcac-15ad-4308-a942-e1650863d189",
   "metadata": {},
   "outputs": [
    {
     "name": "stdout",
     "output_type": "stream",
     "text": [
      "{2, 4, 6, 8, 10, 12, 14, 16, 18}\n"
     ]
    }
   ],
   "source": [
    "for i in range(1, 10):\n",
    "    a.add(2*i)\n",
    "print(a)"
   ]
  },
  {
   "cell_type": "markdown",
   "id": "7557d4d0-25b1-430a-b6a3-dd5a539196d8",
   "metadata": {},
   "source": [
    "1. Create a empty set inside the variable a\n",
    "2. By using for loop inside th variable a between th range of 1 to 10 it wiil iterate through all the numbers and the number multiply by 2 and add it into the set a\n",
    "3. Print the result "
   ]
  },
  {
   "cell_type": "markdown",
   "id": "1a9f89bf-4c1c-4b9c-b9bd-5823a6674746",
   "metadata": {},
   "source": [
    "28. Create a set of random numbers."
   ]
  },
  {
   "cell_type": "code",
   "execution_count": 38,
   "id": "f8a9c3fa-7411-42cc-b1c8-1c15dcb6ec59",
   "metadata": {},
   "outputs": [],
   "source": [
    "import random\n",
    "a = set()\n",
    "b = range(1, 20)"
   ]
  },
  {
   "cell_type": "code",
   "execution_count": 39,
   "id": "89e3a691-5185-4246-a0dc-b7dafc44e7bf",
   "metadata": {},
   "outputs": [
    {
     "name": "stdout",
     "output_type": "stream",
     "text": [
      "{1, 2, 3, 5, 6, 8, 10, 17}\n"
     ]
    }
   ],
   "source": [
    "for i in range(10):\n",
    "    a.add(random.choice(b))\n",
    "print(a)"
   ]
  },
  {
   "cell_type": "markdown",
   "id": "6104cd05-4b56-4cb3-8e00-6371b1a9d6cf",
   "metadata": {},
   "source": [
    "1. Create a empty set into variable a\n",
    "2. Create another variable b and inside that variable we range of numbers between 1 to 20\n",
    "3. By using for loop which is in the range of 10 it will iterate 10 times and by using random.choice(b) it will choose the number randomly between 1 to 20.\n",
    "4. Then that number will be adding to the set a \n",
    "5. Print the result "
   ]
  },
  {
   "cell_type": "markdown",
   "id": "0c0a69d3-4df5-4b80-b99b-d1367285dd38",
   "metadata": {},
   "source": [
    "29. Check if a set is empty."
   ]
  },
  {
   "cell_type": "code",
   "execution_count": 40,
   "id": "171ab2ed-47bc-425b-8990-6c69a1eed863",
   "metadata": {},
   "outputs": [],
   "source": [
    "a = set()"
   ]
  },
  {
   "cell_type": "code",
   "execution_count": 44,
   "id": "a46e53c9-bf54-45d1-b39a-18002060dc25",
   "metadata": {},
   "outputs": [
    {
     "name": "stdout",
     "output_type": "stream",
     "text": [
      "These set is empty\n"
     ]
    }
   ],
   "source": [
    "if not a:\n",
    "    print('These set is empty')\n",
    "else:\n",
    "    print('These set is not empty')"
   ]
  },
  {
   "cell_type": "markdown",
   "id": "af6e2113-5a20-4534-9355-775761b2d7d5",
   "metadata": {},
   "source": [
    "1. Create a empty set inside the variable a \n",
    "2. By using the conditional statement if any element is not present in the set is true then print these set is empty otherwise print these set is not empty"
   ]
  },
  {
   "cell_type": "markdown",
   "id": "1f137050-b6b2-47da-9e76-36fd2f772cac",
   "metadata": {},
   "source": [
    "30. Create a nested set (hint: use frozenset)."
   ]
  },
  {
   "cell_type": "code",
   "execution_count": 52,
   "id": "64877727-363c-482c-bc28-7d20a362901d",
   "metadata": {},
   "outputs": [],
   "source": [
    "a = {1, 2, 3, 4, 5}\n",
    "b = {6, 7, 8, 9, 10}"
   ]
  },
  {
   "cell_type": "code",
   "execution_count": 57,
   "id": "fa5ff686-97d6-4013-ae2a-d952e31b0f58",
   "metadata": {},
   "outputs": [],
   "source": [
    "set_3 = frozenset(a)\n",
    "set_4 = frozenset(b)"
   ]
  },
  {
   "cell_type": "code",
   "execution_count": 58,
   "id": "a62ff1ed-ee1a-4165-89fc-309ee541052a",
   "metadata": {},
   "outputs": [],
   "source": [
    "nested_set = {set_3, set_4}"
   ]
  },
  {
   "cell_type": "code",
   "execution_count": 59,
   "id": "9623126c-425d-449e-a460-0b512b2dc5f5",
   "metadata": {},
   "outputs": [
    {
     "name": "stdout",
     "output_type": "stream",
     "text": [
      "{frozenset({1, 2, 3, 4, 5}), frozenset({6, 7, 8, 9, 10})}\n"
     ]
    }
   ],
   "source": [
    "print(nested_set)"
   ]
  },
  {
   "cell_type": "markdown",
   "id": "86f9cd60-013d-4d38-b23c-d7e1e790e592",
   "metadata": {},
   "source": [
    "1. Create a two set inside the variable a and b \n",
    "2. Convert both the sets inside a anb into the frozen set and then store into the variable set 3 and set 4\n",
    "3. Create another set inside the we are putting variable of set 3 and set 4 and store inside the variable nested_set\n",
    "4. Print the result "
   ]
  },
  {
   "cell_type": "markdown",
   "id": "979c3674-6ba7-46dd-8fdc-c344906ac358",
   "metadata": {},
   "source": [
    "31. Remove an element from a set using the discard method."
   ]
  },
  {
   "cell_type": "code",
   "execution_count": 60,
   "id": "b3f1101a-b31d-4ded-9543-4dc07c0275c9",
   "metadata": {},
   "outputs": [],
   "source": [
    "a = {1, 2, 3, 4, 5}"
   ]
  },
  {
   "cell_type": "code",
   "execution_count": 61,
   "id": "8c4a15d0-cc57-48ef-a6aa-8ed102afba8b",
   "metadata": {},
   "outputs": [
    {
     "name": "stdout",
     "output_type": "stream",
     "text": [
      "{1, 3, 4, 5}\n"
     ]
    }
   ],
   "source": [
    "a.discard(2)\n",
    "print(a)"
   ]
  },
  {
   "cell_type": "markdown",
   "id": "62349d78-dc9a-4221-b2c0-4efe9bea33d5",
   "metadata": {},
   "source": [
    "1. Create a set inside the variable a \n",
    "2. By using discard method inside the discard function mention which element to remove from the set.\n",
    "3. Print the result "
   ]
  },
  {
   "cell_type": "markdown",
   "id": "1cdd63d9-8ab6-4c3b-ae5c-3022b509edd4",
   "metadata": {},
   "source": [
    "32. Compare two sets."
   ]
  },
  {
   "cell_type": "code",
   "execution_count": 63,
   "id": "1a16e11a-f234-4888-bbb8-1befa201b2f4",
   "metadata": {},
   "outputs": [],
   "source": [
    "set1 = {1, 2, 3, 4, 5}\n",
    "set2 = {6, 7, 8, 9, 10}"
   ]
  },
  {
   "cell_type": "code",
   "execution_count": 64,
   "id": "442c6458-93c0-4709-bbf9-b0830061de93",
   "metadata": {},
   "outputs": [],
   "source": [
    "is_subset = set1.issubset(set2)\n",
    "is_superset = set1.issuperset(set2)\n",
    "intersection = set1.intersection(set2)\n",
    "union = set1.union(set2)\n",
    "difference1 = set1.difference(set2)\n",
    "difference2 = set2.difference(set1)"
   ]
  },
  {
   "cell_type": "code",
   "execution_count": 65,
   "id": "86ff116d-ede6-47d6-a4d8-9f6f252347db",
   "metadata": {},
   "outputs": [
    {
     "name": "stdout",
     "output_type": "stream",
     "text": [
      "Set 1: {1, 2, 3, 4, 5}\n",
      "Set 2: {6, 7, 8, 9, 10}\n",
      "Is set1 a subset of set2? False\n",
      "Is set2 a subset of set1? False\n",
      "Intersection: set()\n",
      "Union: {1, 2, 3, 4, 5, 6, 7, 8, 9, 10}\n",
      "Elements in set1 but not in set2: {1, 2, 3, 4, 5}\n",
      "Elements in set2 but not in set1: {6, 7, 8, 9, 10}\n"
     ]
    }
   ],
   "source": [
    "print(\"Set 1:\", set1)\n",
    "print(\"Set 2:\", set2)\n",
    "print(\"Is set1 a subset of set2?\", is_subset)\n",
    "print(\"Is set2 a subset of set1?\", is_superset)\n",
    "print(\"Intersection:\", intersection)\n",
    "print(\"Union:\", union)\n",
    "print(\"Elements in set1 but not in set2:\", difference1)\n",
    "print(\"Elements in set2 but not in set1:\", difference2)"
   ]
  },
  {
   "cell_type": "markdown",
   "id": "87d12774-83b1-4e7c-a85d-09293e7858c0",
   "metadata": {},
   "source": [
    "1. We define two sets set1 and set2 containing some elements.\n",
    "2. We use various set operations to compare the two sets:\n",
    "3. issubset() checks if set1 is a subset of set2.\n",
    "4. issuperset() checks if set1 is a superset of set2.\n",
    "5. intersection() finds the common elements between the sets.\n",
    "6. union() finds the combined set of unique elements from both sets.\n",
    "7. difference() finds the elements that are in the first set but not in the second set, and vice versa.\n",
    "8. We print out the original sets, the comparison results, the intersection, the union, and the differences."
   ]
  },
  {
   "cell_type": "markdown",
   "id": "91c2562f-745b-4c4b-b97b-d17f8efee8d9",
   "metadata": {},
   "source": [
    "33. Create a set from a string."
   ]
  },
  {
   "cell_type": "code",
   "execution_count": 81,
   "id": "c0173b43-6afe-41f0-bfc9-81334d33819c",
   "metadata": {},
   "outputs": [],
   "source": [
    "a = 'Python'"
   ]
  },
  {
   "cell_type": "code",
   "execution_count": 83,
   "id": "0f90ca91-7678-4da5-8738-bcd0fe1aef75",
   "metadata": {},
   "outputs": [
    {
     "name": "stdout",
     "output_type": "stream",
     "text": [
      "{'y', 'n', 't', 'P', 'h', 'o'}\n"
     ]
    }
   ],
   "source": [
    "b = set(a)\n",
    "print(b)"
   ]
  },
  {
   "cell_type": "markdown",
   "id": "bde047fe-1015-4c27-814f-fa76c19a2d05",
   "metadata": {},
   "source": [
    "1. Inside the variable a we define one string\n",
    "2. By using type conversion method set(a) it will convert the string into the set\n",
    "3. Print the result in the sorted form"
   ]
  },
  {
   "cell_type": "markdown",
   "id": "f354e6c1-32e8-4f90-8d16-3878b1b42537",
   "metadata": {},
   "source": [
    "34. Convert a set of strings to a set of integers."
   ]
  },
  {
   "cell_type": "code",
   "execution_count": 71,
   "id": "6d1620d2-6189-413c-b761-8e11d46a2e79",
   "metadata": {},
   "outputs": [],
   "source": [
    "a = {'1' ,'2', '3', '4', '5'}"
   ]
  },
  {
   "cell_type": "code",
   "execution_count": 73,
   "id": "d4dee091-bdaa-41e1-a9da-0129bc26f434",
   "metadata": {},
   "outputs": [
    {
     "name": "stdout",
     "output_type": "stream",
     "text": [
      "{1, 2, 3, 4, 5}\n"
     ]
    }
   ],
   "source": [
    "b = set()\n",
    "for i in a:\n",
    "    b.add(int(i))\n",
    "print(b)"
   ]
  },
  {
   "cell_type": "markdown",
   "id": "4ece7e7b-7c21-4384-8228-7f8069579bde",
   "metadata": {},
   "source": [
    "1. Create a set inside the variable a inside the set having data type of string\n",
    "2. Create another b having an empty set\n",
    "3. By using for loop in a it will iterate through all the character inside a and then by using type conversion from string into integer then add it to set b\n",
    "4. Print the result "
   ]
  },
  {
   "cell_type": "markdown",
   "id": "4bb7a111-cb7e-4023-9070-41ec4ac112ed",
   "metadata": {},
   "source": [
    "35. Convert a set of integers to a set of strings."
   ]
  },
  {
   "cell_type": "code",
   "execution_count": 74,
   "id": "57e4fff8-64ab-487f-9e09-fce532c30fdd",
   "metadata": {},
   "outputs": [],
   "source": [
    "a = {1, 2, 3, 4, 5}"
   ]
  },
  {
   "cell_type": "code",
   "execution_count": 80,
   "id": "aeee8356-04af-46fb-bde5-a77b2be5c6ac",
   "metadata": {},
   "outputs": [
    {
     "name": "stdout",
     "output_type": "stream",
     "text": [
      "{'3', '4', '1', '2', '5'}\n"
     ]
    }
   ],
   "source": [
    "b = set()\n",
    "for i in a:\n",
    "    b.add(str(i))\n",
    "print(b)"
   ]
  },
  {
   "cell_type": "markdown",
   "id": "fc496704-4f74-459b-9dfe-ed8a9e2b801f",
   "metadata": {},
   "source": [
    "1. Create a set inside the variable a inside the set having data type of string\n",
    "2. Create another b having an empty set\n",
    "3. By using for loop in a it will iterate through all the character inside a and then by using type conversion from integer into string then add it to set b\n",
    "4. Print the result "
   ]
  },
  {
   "cell_type": "markdown",
   "id": "5648c917-e4f1-4f8f-9ebb-fad2e0b707ec",
   "metadata": {},
   "source": [
    "36. Create a set from a tuple."
   ]
  },
  {
   "cell_type": "code",
   "execution_count": 84,
   "id": "0c154fb4-dd4b-4c9b-9adf-78bc8da26bb8",
   "metadata": {},
   "outputs": [],
   "source": [
    "a = (1, 2, 3, 4, 5)"
   ]
  },
  {
   "cell_type": "code",
   "execution_count": 85,
   "id": "802f3d05-ed6c-42a6-ae7a-cbab3e33e8c0",
   "metadata": {},
   "outputs": [
    {
     "name": "stdout",
     "output_type": "stream",
     "text": [
      "{1, 2, 3, 4, 5}\n"
     ]
    }
   ],
   "source": [
    "b = set(a)\n",
    "print(b)"
   ]
  },
  {
   "cell_type": "markdown",
   "id": "02c8e30d-7674-42d7-9c27-a33034c9b179",
   "metadata": {},
   "source": [
    "1. Create a tuple inside the variable a \n",
    "2. To convert the tuple into set we use a type conversion method set(a) it will convert the tuple into set.\n",
    "3. Print the result "
   ]
  },
  {
   "cell_type": "markdown",
   "id": "fa1d87f6-83ca-4181-ac12-06928b558330",
   "metadata": {},
   "source": [
    "37. Convert a set to a tuple."
   ]
  },
  {
   "cell_type": "code",
   "execution_count": 86,
   "id": "fa2baf54-baf3-435c-bf9d-f73b927f3f7c",
   "metadata": {},
   "outputs": [],
   "source": [
    "a = {1, 2, 3, 4, 5}"
   ]
  },
  {
   "cell_type": "code",
   "execution_count": 87,
   "id": "9d1a7249-5ac3-4019-9d78-5a3aaa521997",
   "metadata": {},
   "outputs": [
    {
     "name": "stdout",
     "output_type": "stream",
     "text": [
      "(1, 2, 3, 4, 5)\n"
     ]
    }
   ],
   "source": [
    "b = tuple(a)\n",
    "print(b)"
   ]
  },
  {
   "cell_type": "markdown",
   "id": "8e0ed64e-c893-4129-96ca-2628aef12766",
   "metadata": {},
   "source": [
    "1. Create a set inside the variable a \n",
    "2. To convert the set into tuple we use a type conversion method tuple(a) it will convert the set into tuple.\n",
    "3. Print the result "
   ]
  },
  {
   "cell_type": "markdown",
   "id": "b6382308-42d5-4379-acd0-fdadbcd0c4d8",
   "metadata": {},
   "source": [
    "38. Find the maximum value in a set."
   ]
  },
  {
   "cell_type": "code",
   "execution_count": 88,
   "id": "d1d9e2e1-de32-4a57-b0c9-a8f393309e12",
   "metadata": {},
   "outputs": [],
   "source": [
    "a = {100, 80 , 90, 70, 95, 60}"
   ]
  },
  {
   "cell_type": "code",
   "execution_count": 89,
   "id": "797f7e98-4295-4e1b-82a6-4b59bb1b9e8e",
   "metadata": {},
   "outputs": [
    {
     "data": {
      "text/plain": [
       "100"
      ]
     },
     "execution_count": 89,
     "metadata": {},
     "output_type": "execute_result"
    }
   ],
   "source": [
    "max(a)"
   ]
  },
  {
   "cell_type": "markdown",
   "id": "84e9797e-3d04-4a88-a49a-01ca85c320e3",
   "metadata": {},
   "source": [
    "1. Create a set inside the variable a \n",
    "2. By using the max function it will which number is the greatest among all the numbers \n",
    "3. Print the result"
   ]
  },
  {
   "cell_type": "markdown",
   "id": "00911850-bf18-4f4d-8157-83f7cbbd7e2e",
   "metadata": {},
   "source": [
    "39. Find the minimum value in a set."
   ]
  },
  {
   "cell_type": "code",
   "execution_count": 90,
   "id": "54b333a6-c713-4114-b381-6d832c92c3cb",
   "metadata": {},
   "outputs": [],
   "source": [
    "a = {100, 80 , 90, 70, 95, 60}"
   ]
  },
  {
   "cell_type": "code",
   "execution_count": 91,
   "id": "dfd43881-0d7e-42ba-bd36-1b96bd4b3f48",
   "metadata": {},
   "outputs": [
    {
     "data": {
      "text/plain": [
       "60"
      ]
     },
     "execution_count": 91,
     "metadata": {},
     "output_type": "execute_result"
    }
   ],
   "source": [
    "min(a)"
   ]
  },
  {
   "cell_type": "markdown",
   "id": "d0c44b19-3080-4adb-9501-208c652ad519",
   "metadata": {},
   "source": [
    "1. Create a set inside the variable a \n",
    "2. By using the min function it will find which number is the smallest among all the numbers \n",
    "3. Print the result"
   ]
  },
  {
   "cell_type": "markdown",
   "id": "16b5ec00-836a-4ce5-9e05-f84bfe31ae00",
   "metadata": {},
   "source": [
    "40. Create a set from user input."
   ]
  },
  {
   "cell_type": "code",
   "execution_count": 92,
   "id": "c4aa4c3e-3c0a-45f9-a327-bf304b5b0900",
   "metadata": {},
   "outputs": [
    {
     "name": "stdin",
     "output_type": "stream",
     "text": [
      "Enter something:  python\n"
     ]
    }
   ],
   "source": [
    "a = input('Enter something: ')"
   ]
  },
  {
   "cell_type": "code",
   "execution_count": 93,
   "id": "2a92208b-336b-4a20-8a36-d87023506aff",
   "metadata": {},
   "outputs": [
    {
     "name": "stdout",
     "output_type": "stream",
     "text": [
      "{'y', 'n', 't', 'h', 'p', 'o'}\n"
     ]
    }
   ],
   "source": [
    "b = set(a)\n",
    "print(b)"
   ]
  },
  {
   "cell_type": "markdown",
   "id": "4126e359-008a-49a8-b613-09b9b6d3b4eb",
   "metadata": {},
   "source": [
    "1. Create a variable a which takes input from the user  \n",
    "2. convert all the character at which the user type into set by using type conversion set (a) and store into the variable b\n",
    "3. Print the result "
   ]
  },
  {
   "cell_type": "markdown",
   "id": "9b17a95b-14f3-46a1-b60c-5de548e1689b",
   "metadata": {},
   "source": [
    "41. Check if the intersection of two sets is empty."
   ]
  },
  {
   "cell_type": "code",
   "execution_count": 97,
   "id": "a79036bb-11e8-4ab3-b989-fdd96c182ade",
   "metadata": {},
   "outputs": [],
   "source": [
    "a = {1, 2, 3, 4, 5}\n",
    "b = {6, 7, 8, 9, 10}"
   ]
  },
  {
   "cell_type": "code",
   "execution_count": 99,
   "id": "9b376348-58c2-4e36-b594-66e05f0d6a13",
   "metadata": {},
   "outputs": [
    {
     "name": "stdout",
     "output_type": "stream",
     "text": [
      "Intersection of two sets is empty\n"
     ]
    }
   ],
   "source": [
    "if not a.intersection(b):\n",
    "    print('Intersection of two sets is empty')\n",
    "else:\n",
    "    print('Intersection of two sets is not empty')\n",
    "    "
   ]
  },
  {
   "cell_type": "markdown",
   "id": "4ae6dcb7-c624-482d-b419-59954172cf6a",
   "metadata": {},
   "source": [
    "1. Create a two set inside the variable a and b\n",
    "2. By using conditional state if any element is common between these two set i.e a is intersetion b if any element is present in these set then print intesection between these two set is not empty otherwise print intersection of two set is empty"
   ]
  },
  {
   "cell_type": "markdown",
   "id": "34869e80-3ea5-4965-beab-59c667cae13e",
   "metadata": {},
   "source": [
    "42. Create a set of the first 5 Fibonacci numbers."
   ]
  },
  {
   "cell_type": "code",
   "execution_count": 109,
   "id": "be4d2ffd-3622-44ad-a3ad-ca82513b021c",
   "metadata": {},
   "outputs": [],
   "source": [
    "fibonacci_set = set()"
   ]
  },
  {
   "cell_type": "code",
   "execution_count": 111,
   "id": "402a3e13-b382-4b76-92de-163e572a758d",
   "metadata": {},
   "outputs": [
    {
     "name": "stdout",
     "output_type": "stream",
     "text": [
      "{0, 1, 2, 3, 5}\n"
     ]
    }
   ],
   "source": [
    "a, b = 0, 1\n",
    "for i in range(6):\n",
    "    fibonacci_set.add(a)\n",
    "    a, b = b, a + b\n",
    "print(fibonacci_set)\n",
    "    "
   ]
  },
  {
   "cell_type": "markdown",
   "id": "3c7f44be-8a6d-4158-8f2b-16ef6fa44c60",
   "metadata": {},
   "source": [
    "1. Create a empty set inside the variable called fibonacci_set\n",
    "2. For initialization we created two more variables a and b and assign the value 0 and 1\n",
    "3. By using for loop with in the range of 1 to 6 we are adding first number i.e inside variable a and then we are iterating the for loop 5 times\n",
    "4. We update the values of a and b to calculate the next Fibonacci number. This is done by swapping the values: a becomes b and b becomes the sum of the previous a and b.\n",
    "5. Print the result"
   ]
  },
  {
   "cell_type": "markdown",
   "id": "fdd1c0fa-4a04-45aa-a506-ab6c36fcda08",
   "metadata": {},
   "source": [
    "43. Remove duplicates from a list using sets."
   ]
  },
  {
   "cell_type": "code",
   "execution_count": 112,
   "id": "87084733-62da-442c-9fc3-1d5ce46b3142",
   "metadata": {},
   "outputs": [],
   "source": [
    "a = [1, 1, 2, 2, 3, 3, 4, 4, 5, 5]"
   ]
  },
  {
   "cell_type": "code",
   "execution_count": 113,
   "id": "865adc6d-f7e3-485e-bf59-4a4c42fcd474",
   "metadata": {},
   "outputs": [
    {
     "name": "stdout",
     "output_type": "stream",
     "text": [
      "{1, 2, 3, 4, 5}\n"
     ]
    }
   ],
   "source": [
    "b = set(a)\n",
    "print(b)"
   ]
  },
  {
   "cell_type": "markdown",
   "id": "88548602-d042-4b21-a24e-f931924182e9",
   "metadata": {},
   "source": [
    "1. Create a list inside the variable a\n",
    "2. By using type conversion method we are converting list into the set.\n",
    "3. The set has the property that it will take only unique element if any duplicate element is present then it will remove in set."
   ]
  },
  {
   "cell_type": "markdown",
   "id": "3185bd6e-818d-4ac7-83ef-94ce654e0402",
   "metadata": {},
   "source": [
    "44. Check if two sets have the same elements, regardless of their count."
   ]
  },
  {
   "cell_type": "code",
   "execution_count": 114,
   "id": "715a2556-82be-4b4e-aae5-81fdd45464a6",
   "metadata": {},
   "outputs": [],
   "source": [
    "a = {1, 2, 3, 4, 5, 6, 7, 8}\n",
    "b = {6, 7, 8}"
   ]
  },
  {
   "cell_type": "code",
   "execution_count": 117,
   "id": "e6de6499-35b3-4e03-a2bd-89a8b4472935",
   "metadata": {},
   "outputs": [],
   "source": [
    "def same_element(a, b):\n",
    "    for i in b:\n",
    "        if i in a:\n",
    "            return 'Two sets have same element'\n",
    "        else:\n",
    "            return 'These sets does not have the same element'"
   ]
  },
  {
   "cell_type": "code",
   "execution_count": 118,
   "id": "c4bd263d-260b-4e41-b1ed-a05240473026",
   "metadata": {},
   "outputs": [
    {
     "data": {
      "text/plain": [
       "'Two sets have same element'"
      ]
     },
     "execution_count": 118,
     "metadata": {},
     "output_type": "execute_result"
    }
   ],
   "source": [
    "same_element(a,b)"
   ]
  },
  {
   "cell_type": "markdown",
   "id": "f11ce7de-6c63-44d1-a71b-ea7acb6723bd",
   "metadata": {},
   "source": [
    "1. Create a two sets inside the variable a and b.\n",
    "2. Creating function same element these function will check if the element from set 2 is present in set 1 or not\n",
    "3. If its true then print these two sets have same element."
   ]
  },
  {
   "cell_type": "markdown",
   "id": "936e23e7-53dd-483c-9b10-be9c33b19ddc",
   "metadata": {},
   "source": [
    "45. Create a set of the first `n` powers of 2."
   ]
  },
  {
   "cell_type": "code",
   "execution_count": 119,
   "id": "0d2e934c-6cb9-4df1-a576-6a4cd293c98f",
   "metadata": {},
   "outputs": [],
   "source": [
    "a = set()\n",
    "n = 5"
   ]
  },
  {
   "cell_type": "code",
   "execution_count": 121,
   "id": "a329acfc-8137-4fc4-bc14-8edd2ccfc232",
   "metadata": {},
   "outputs": [
    {
     "name": "stdout",
     "output_type": "stream",
     "text": [
      "{32, 2, 4, 8, 16}\n"
     ]
    }
   ],
   "source": [
    "for i in range(1, n):\n",
    "    a.add(2 **i)\n",
    "print(a)"
   ]
  },
  {
   "cell_type": "markdown",
   "id": "cdc7d770-46a6-4e66-a602-8c413657a385",
   "metadata": {},
   "source": [
    "1. Create a empty set inside the variable a \n",
    "2. Create another variable n which is having a value of 5.\n",
    "3. By using for loop it will iterate through within the range of 1 to n which is having value 5 then it will add the numbers having power of 2\n",
    "4. Print the result "
   ]
  },
  {
   "cell_type": "markdown",
   "id": "1604fc16-f101-4ef8-b191-0396df39caa1",
   "metadata": {},
   "source": [
    "46. Find the common elements between a set and a list."
   ]
  },
  {
   "cell_type": "code",
   "execution_count": 124,
   "id": "5aff7e0b-1700-489c-8bb4-fa07e80797e8",
   "metadata": {},
   "outputs": [],
   "source": [
    "a = {1, 2, 3, 4, 5, 6}\n",
    "b = [1, 2, 8]"
   ]
  },
  {
   "cell_type": "code",
   "execution_count": 125,
   "id": "cb111240-bd2f-404c-8deb-4317eebc4cec",
   "metadata": {},
   "outputs": [
    {
     "name": "stdout",
     "output_type": "stream",
     "text": [
      "[1, 2]\n"
     ]
    }
   ],
   "source": [
    "c = set(b)\n",
    "common_element= []\n",
    "for i in b:\n",
    "    if i in a:\n",
    "        common_element.append(i)\n",
    "print(common_element)"
   ]
  },
  {
   "cell_type": "markdown",
   "id": "a616dc24-34f5-4de9-babb-94a0638df878",
   "metadata": {},
   "source": [
    "1. Create a set inside the variable a\n",
    "2. Create a list inside the variable b \n",
    "3. Create another variable called common element which is having a empty list\n",
    "4. First we convert list into set the using for loop in variable c it will iterate all the characters in set c\n",
    "5. By using conditional statement if any number is present in set a then it add into the common_element list\n",
    "6. Print the result "
   ]
  },
  {
   "cell_type": "markdown",
   "id": "0ba8b925-19c0-4075-b63a-689387182ffa",
   "metadata": {},
   "source": [
    "47. Create a set of the first `n` triangular numbers."
   ]
  },
  {
   "cell_type": "code",
   "execution_count": 129,
   "id": "4b54b439-9625-4c35-b607-6bcb035e9598",
   "metadata": {},
   "outputs": [],
   "source": [
    "a =set()\n",
    "n = 10"
   ]
  },
  {
   "cell_type": "code",
   "execution_count": 131,
   "id": "95965411-f3fb-4676-8806-90b1959cc48f",
   "metadata": {},
   "outputs": [
    {
     "name": "stdout",
     "output_type": "stream",
     "text": [
      "{1, 3, 36, 6, 10, 45, 15, 21, 55, 28}\n"
     ]
    }
   ],
   "source": [
    "for i in range(1, n+1):\n",
    "    b = (i* (i+1)//2)\n",
    "    a.add(b)\n",
    "print(a)"
   ]
  },
  {
   "cell_type": "markdown",
   "id": "2ac746d0-109a-4b5b-8765-74159fc2f5b8",
   "metadata": {},
   "source": [
    "1. Create a empty set inside the variable a\n",
    "2. create another variable n which takes input from the user\n",
    "3. By using for loop in the range between 1 to n+1 and declaring variable b inside that variable we are definig formulae for triangular numbers\n",
    "4. Then those triangular numbers will be add to set a and print the result"
   ]
  },
  {
   "cell_type": "markdown",
   "id": "940eafa7-8697-42c7-85e0-a71cc12242de",
   "metadata": {},
   "source": [
    "48. Check if a set contains another set as a subset."
   ]
  },
  {
   "cell_type": "code",
   "execution_count": 132,
   "id": "d6d80a68-c415-4c44-a73f-c8b01f1690d0",
   "metadata": {},
   "outputs": [],
   "source": [
    "a = {1, 2, 3, 4, 5, 6}\n",
    "b = {3, 2, 1}"
   ]
  },
  {
   "cell_type": "code",
   "execution_count": 133,
   "id": "1b9152a2-bce1-4671-a8f8-0c182c5f1814",
   "metadata": {},
   "outputs": [
    {
     "name": "stdout",
     "output_type": "stream",
     "text": [
      "Set b is the subset of set a\n"
     ]
    }
   ],
   "source": [
    "if b.issubset(a):\n",
    "    print('Set b is the subset of set a')\n",
    "else:\n",
    "    print('set b is not the subset of set a') "
   ]
  },
  {
   "cell_type": "markdown",
   "id": "0ac0d0b5-18fc-4bd3-b8e7-986bba123f09",
   "metadata": {},
   "source": [
    "1. Create a two sets inside the variabp=le a and b\n",
    "2. By using conditional statement if set b is the subset of set a i. a.issubset(a). If it is true then print set b is the subset of set a otherwise set b is not the subset of set a"
   ]
  },
  {
   "cell_type": "markdown",
   "id": "51cb8a9e-73fe-4534-9f0e-62f0111c1b23",
   "metadata": {},
   "source": [
    "49. Create a set of alternating 1s and 0s of length `n`."
   ]
  },
  {
   "cell_type": "code",
   "execution_count": 138,
   "id": "b19fbe5c-e02d-4c34-9f13-cf1eaef33e4b",
   "metadata": {},
   "outputs": [],
   "source": [
    "a = set()\n",
    "n = 10"
   ]
  },
  {
   "cell_type": "code",
   "execution_count": 140,
   "id": "403b19e0-765e-47b3-a427-df9483a61740",
   "metadata": {},
   "outputs": [
    {
     "name": "stdout",
     "output_type": "stream",
     "text": [
      "{0, 1}\n"
     ]
    }
   ],
   "source": [
    "for i in range(1, n):\n",
    "    if i % 2 == 0:\n",
    "        a.add(0)\n",
    "    else:\n",
    "        a.add(1)\n",
    "print(a)"
   ]
  },
  {
   "cell_type": "markdown",
   "id": "bed92f45-44d7-4fd4-a41a-88b8919c3a64",
   "metadata": {},
   "source": [
    "1. create a empty set a \n",
    "2. create another variable n\n",
    "3. BY using for loop in the range 1 to variable n which is having the value of 10 it will iterate all the numbers and if that number is divided by 2 is equal to 0 then it will add to set a and else it wil add 1 to set a \n",
    "4. But we know set can only have unique value it cannot add the same number again and again.\n",
    "5. Print the result"
   ]
  },
  {
   "cell_type": "markdown",
   "id": "3cf656d1-b411-4fef-99ef-7969bd8162a0",
   "metadata": {},
   "source": [
    "50. Merge multiple sets into one."
   ]
  },
  {
   "cell_type": "code",
   "execution_count": 141,
   "id": "5612af78-f9fb-4dbe-bc76-5e3c724241e9",
   "metadata": {},
   "outputs": [],
   "source": [
    "a = {1, 2, 3, 4, 5}\n",
    "b = {6, 7, 8, 9, 10}\n",
    "c = {11, 12, 13, 14, 15}"
   ]
  },
  {
   "cell_type": "code",
   "execution_count": 142,
   "id": "ea1c1255-7d63-4df5-b6a1-793137e5b676",
   "metadata": {},
   "outputs": [
    {
     "name": "stdout",
     "output_type": "stream",
     "text": [
      "{1, 2, 3, 4, 5, 6, 7, 8, 9, 10, 11, 12, 13, 14, 15}\n"
     ]
    }
   ],
   "source": [
    "merge_set = a.union(b, c)\n",
    "print(merge_set)"
   ]
  },
  {
   "cell_type": "markdown",
   "id": "efb41284-3fa4-44c9-bb97-69d6126da5fa",
   "metadata": {},
   "source": [
    "1. Create a three set into the variable a, b and c\n",
    "2. By using union method in set it will merge the set into 1 set but it will not add the duplicate value in that set\n",
    "3. It will add only the unique value and 1st instance of that value.\n",
    "4. Print the result "
   ]
  },
  {
   "cell_type": "code",
   "execution_count": null,
   "id": "162875b7-6563-4e76-a39e-5ec0e1d419ec",
   "metadata": {},
   "outputs": [],
   "source": []
  }
 ],
 "metadata": {
  "kernelspec": {
   "display_name": "Python 3 (ipykernel)",
   "language": "python",
   "name": "python3"
  },
  "language_info": {
   "codemirror_mode": {
    "name": "ipython",
    "version": 3
   },
   "file_extension": ".py",
   "mimetype": "text/x-python",
   "name": "python",
   "nbconvert_exporter": "python",
   "pygments_lexer": "ipython3",
   "version": "3.10.8"
  }
 },
 "nbformat": 4,
 "nbformat_minor": 5
}
